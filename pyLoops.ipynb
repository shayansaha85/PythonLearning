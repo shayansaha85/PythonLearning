{
 "cells": [
  {
   "cell_type": "markdown",
   "id": "cb4e3115-fcdb-4fa3-9b0a-2113f9899cd4",
   "metadata": {},
   "source": [
    "## For Loop"
   ]
  },
  {
   "cell_type": "code",
   "execution_count": 2,
   "id": "010c9eb6-f656-4fb0-82ec-f53c82730e3f",
   "metadata": {},
   "outputs": [
    {
     "name": "stdout",
     "output_type": "stream",
     "text": [
      "0\n",
      "1\n",
      "2\n",
      "3\n",
      "4\n",
      "5\n",
      "6\n",
      "7\n",
      "8\n",
      "9\n",
      "10\n"
     ]
    }
   ],
   "source": [
    "print(0)\n",
    "print(1)\n",
    "print(2)\n",
    "print(3)\n",
    "print(4)\n",
    "print(5)\n",
    "print(6)\n",
    "print(7)\n",
    "print(8)\n",
    "print(9)\n",
    "print(10)"
   ]
  },
  {
   "cell_type": "markdown",
   "id": "7c129faf-e28c-4498-87fd-7c2b0480a52f",
   "metadata": {},
   "source": [
    "**Syntax**\n",
    "\n",
    "**for** *iterator* **in** **range(lower_limit, upper_limit)**:<br>\n",
    "    <any operation that is possible with the variable *iterator*>"
   ]
  },
  {
   "cell_type": "code",
   "execution_count": 3,
   "id": "e3f97c0d-e975-4948-b6c3-d031aae2a0b8",
   "metadata": {},
   "outputs": [
    {
     "name": "stdout",
     "output_type": "stream",
     "text": [
      "0\n",
      "1\n",
      "2\n",
      "3\n",
      "4\n",
      "5\n",
      "6\n",
      "7\n",
      "8\n",
      "9\n"
     ]
    }
   ],
   "source": [
    "for i in range(0,10):\n",
    "    print(i)"
   ]
  },
  {
   "cell_type": "code",
   "execution_count": 8,
   "id": "d2905446-1631-4ade-9a5d-0fd667377142",
   "metadata": {},
   "outputs": [
    {
     "name": "stdout",
     "output_type": "stream",
     "text": [
      "1\n",
      "4\n",
      "9\n",
      "16\n"
     ]
    }
   ],
   "source": [
    "for i in range(1,5):\n",
    "    print(i*i)"
   ]
  },
  {
   "cell_type": "code",
   "execution_count": 10,
   "id": "483bc38f-8ff4-4a9e-bac1-157a376f4ce0",
   "metadata": {},
   "outputs": [
    {
     "name": "stdout",
     "output_type": "stream",
     "text": [
      "1\n",
      "4\n",
      "9\n",
      "16\n"
     ]
    }
   ],
   "source": [
    "for i in range(1,5): # ekhane 1 and 5 hoilo arguments\n",
    "    print(i**2)"
   ]
  },
  {
   "cell_type": "code",
   "execution_count": 13,
   "id": "1ad77c8b-7fa1-4872-85bb-13ea7fefd414",
   "metadata": {},
   "outputs": [
    {
     "name": "stdout",
     "output_type": "stream",
     "text": [
      "1\n",
      "4\n",
      "7\n",
      "10\n"
     ]
    }
   ],
   "source": [
    "for i in range(1,11,3):\n",
    "    print(i)"
   ]
  },
  {
   "cell_type": "code",
   "execution_count": 14,
   "id": "b5c1ad33-3578-4e3e-a033-918523c8627e",
   "metadata": {},
   "outputs": [
    {
     "name": "stdout",
     "output_type": "stream",
     "text": [
      "10\n",
      "9\n",
      "8\n",
      "7\n",
      "6\n",
      "5\n",
      "4\n",
      "3\n",
      "2\n",
      "1\n"
     ]
    }
   ],
   "source": [
    "for i in range(10,0,-1):\n",
    "    print(i)"
   ]
  },
  {
   "cell_type": "code",
   "execution_count": 23,
   "id": "f73c269d-bbd7-460e-bb24-4b842ff6a699",
   "metadata": {},
   "outputs": [
    {
     "name": "stdout",
     "output_type": "stream",
     "text": [
      "9\n",
      "18\n",
      "27\n",
      "36\n",
      "45\n",
      "54\n",
      "63\n",
      "72\n",
      "81\n",
      "90\n",
      "99\n"
     ]
    }
   ],
   "source": [
    "for i in range(1,101):\n",
    "    if i%9 == 0:\n",
    "        print(i)"
   ]
  },
  {
   "cell_type": "code",
   "execution_count": 26,
   "id": "eabe18d4-a664-4622-9ca2-685fd6152ebe",
   "metadata": {},
   "outputs": [
    {
     "name": "stdout",
     "output_type": "stream",
     "text": [
      "1. Tanmoy\n",
      "2. Tanmoy\n",
      "3. Tanmoy\n",
      "4. Tanmoy\n",
      "5. Tanmoy\n",
      "6. Tanmoy\n",
      "7. Tanmoy\n",
      "8. Tanmoy\n",
      "9. Tanmoy\n",
      "10. Tanmoy\n"
     ]
    }
   ],
   "source": [
    "for i in range(0,10):\n",
    "    print(f\"{i+1}. Tanmoy\")"
   ]
  },
  {
   "cell_type": "code",
   "execution_count": 28,
   "id": "6973cf84-2496-457e-af0d-8bc07fefc733",
   "metadata": {},
   "outputs": [
    {
     "name": "stdout",
     "output_type": "stream",
     "text": [
      "S 0\n",
      "u 1\n",
      "b 2\n",
      "h 3\n",
      "a 4\n",
      "m 5\n"
     ]
    }
   ],
   "source": [
    "name = \"Subham\"\n",
    "for i in range(0,len(name)):\n",
    "    print(name[i],i)"
   ]
  },
  {
   "cell_type": "code",
   "execution_count": 30,
   "id": "183ef4d9-8760-4e2f-a036-85fd4077cb55",
   "metadata": {},
   "outputs": [
    {
     "name": "stdout",
     "output_type": "stream",
     "text": [
      "T\n",
      "a\n",
      "n\n",
      "m\n",
      "o\n",
      "y\n"
     ]
    }
   ],
   "source": [
    "name = \"Tanmoy\"\n",
    "for x in name :\n",
    "    print(x)"
   ]
  },
  {
   "cell_type": "code",
   "execution_count": 31,
   "id": "a950229f-1caf-4eb2-911f-7db84130fe20",
   "metadata": {},
   "outputs": [
    {
     "name": "stdout",
     "output_type": "stream",
     "text": [
      "5\n",
      "4\n",
      "3\n",
      "57\n",
      "23\n"
     ]
    }
   ],
   "source": [
    "arr = [5,4,3,57,23] # 5 --> len(arr), index : 0-4\n",
    "\n",
    "for i in range(0, len(arr)):\n",
    "    print(arr[i])"
   ]
  },
  {
   "cell_type": "code",
   "execution_count": 32,
   "id": "da8db096-e9a4-4dd1-9f83-b72aed72f2ff",
   "metadata": {},
   "outputs": [
    {
     "name": "stdout",
     "output_type": "stream",
     "text": [
      "5\n",
      "4\n",
      "3\n",
      "57\n",
      "23\n"
     ]
    }
   ],
   "source": [
    "arr = [5,4,3,57,23] # 5 --> len(arr), index : 0-4\n",
    "\n",
    "for x in arr :\n",
    "    print(x)"
   ]
  },
  {
   "cell_type": "code",
   "execution_count": 35,
   "id": "ac526171-83df-43e5-8156-00daae4b4ba3",
   "metadata": {},
   "outputs": [
    {
     "name": "stdout",
     "output_type": "stream",
     "text": [
      "[4, 2, 8, 66]\n"
     ]
    }
   ],
   "source": [
    "lst = [5,4,3,2,7,8,65,81,45,66,43]\n",
    "even_lst = []\n",
    "for x in lst:\n",
    "    if x%2 == 0:\n",
    "        even_lst.append(x)\n",
    "\n",
    "print(even_lst)"
   ]
  },
  {
   "cell_type": "code",
   "execution_count": 36,
   "id": "00178e31-5d2e-4053-9abf-a7981a823683",
   "metadata": {},
   "outputs": [],
   "source": [
    "# augmented operator"
   ]
  },
  {
   "cell_type": "code",
   "execution_count": 39,
   "id": "b8c28969-1f24-406f-9b30-1665396fe1df",
   "metadata": {},
   "outputs": [],
   "source": [
    "# check koro ekta number moulik shonkha ni (prime)"
   ]
  },
  {
   "cell_type": "raw",
   "id": "420e562d-debe-4f58-aba3-c7ed741d657d",
   "metadata": {},
   "source": [
    "moulik shonkha --> \n",
    "jodi number ta 10 hoy\n",
    "taile 2 theika 10 obdhi sudhu ekta number diyaoi 10 bhag jaibo"
   ]
  },
  {
   "cell_type": "code",
   "execution_count": 45,
   "id": "92da75b5-6e66-416f-840d-1a7bc256915a",
   "metadata": {},
   "outputs": [
    {
     "name": "stdin",
     "output_type": "stream",
     "text": [
      "Enter a number :  55\n"
     ]
    },
    {
     "name": "stdout",
     "output_type": "stream",
     "text": [
      "NON PRIME\n",
      "2\n"
     ]
    }
   ],
   "source": [
    "number = int(input(\"Enter a number : \"))\n",
    "count = 0\n",
    "if number == 0 or number == 1:\n",
    "    print(\"NOT POSSIBLE\")\n",
    "\n",
    "else:\n",
    "    for i in range(2, number//2):\n",
    "        if number%i == 0:\n",
    "            count = count + 1\n",
    "    if count == 0:\n",
    "        print(\"PRIME\")\n",
    "        print(count)\n",
    "    else:\n",
    "        print(\"NON PRIME\")\n",
    "        print(count)"
   ]
  },
  {
   "cell_type": "code",
   "execution_count": 62,
   "id": "b79673e4-f6e6-48f6-adbf-7b6acade8dcc",
   "metadata": {
    "scrolled": true
   },
   "outputs": [
    {
     "name": "stdin",
     "output_type": "stream",
     "text": [
      "Enter shape No. :  7\n"
     ]
    },
    {
     "name": "stdout",
     "output_type": "stream",
     "text": [
      "<o>\n",
      "<o><o>\n",
      "<o><o><o>\n",
      "<o><o><o><o>\n",
      "<o><o><o><o><o>\n",
      "<o><o><o><o><o><o>\n",
      "<o><o><o><o><o><o><o>\n",
      "<o><o><o><o><o><o>\n",
      "<o><o><o><o><o>\n",
      "<o><o><o><o>\n",
      "<o><o><o>\n",
      "<o><o>\n",
      "<o>\n"
     ]
    }
   ],
   "source": [
    "limit = int(input(\"Enter shape No. : \"))\n",
    "for i in range(1,limit):\n",
    "    print(\"<o>\" * i)\n",
    "print(\"<o>\"*limit)\n",
    "for j in range(limit-1,0,-1):\n",
    "    print(\"<o>\"*j)"
   ]
  },
  {
   "cell_type": "markdown",
   "id": "781f3d27-d859-4930-b61f-b41dcd7c4cac",
   "metadata": {},
   "source": [
    "## While Loop"
   ]
  },
  {
   "cell_type": "raw",
   "id": "d9c2c54f-fcf7-42cb-bb5b-2cfbcd2a0a1c",
   "metadata": {},
   "source": [
    "while CONDITION:\n",
    "    <code>"
   ]
  },
  {
   "cell_type": "code",
   "execution_count": 63,
   "id": "42facdfa-a430-47aa-b651-ca9791e66e31",
   "metadata": {},
   "outputs": [
    {
     "name": "stdout",
     "output_type": "stream",
     "text": [
      "0\n",
      "1\n",
      "2\n",
      "3\n",
      "4\n",
      "5\n",
      "6\n",
      "7\n",
      "8\n",
      "9\n",
      "10\n"
     ]
    }
   ],
   "source": [
    "i = 0\n",
    "\n",
    "while i<=10:\n",
    "    print(i)\n",
    "    i=i+1"
   ]
  },
  {
   "cell_type": "code",
   "execution_count": 68,
   "id": "97703750-b4e8-4481-8190-7ed6ddd05281",
   "metadata": {},
   "outputs": [
    {
     "name": "stdin",
     "output_type": "stream",
     "text": [
      "Enter a number :  1451\n"
     ]
    },
    {
     "name": "stdout",
     "output_type": "stream",
     "text": [
      "4\n"
     ]
    }
   ],
   "source": [
    "number = int(input(\"Enter a number : \"))\n",
    "temporary = number\n",
    "\n",
    "count = 0\n",
    "\n",
    "while temporary != 0:\n",
    "    temporary = temporary//10\n",
    "    count = count+1\n",
    "\n",
    "print(count)"
   ]
  },
  {
   "cell_type": "code",
   "execution_count": 71,
   "id": "43a0f397-2cbf-454d-83f7-afad74df593e",
   "metadata": {},
   "outputs": [
    {
     "name": "stdin",
     "output_type": "stream",
     "text": [
      "Enter a number :  1451\n"
     ]
    },
    {
     "name": "stdout",
     "output_type": "stream",
     "text": [
      "4\n"
     ]
    }
   ],
   "source": [
    "number = int(input(\"Enter a number : \"))\n",
    "number_to_str = str(number)\n",
    "print(len(number_to_str))"
   ]
  },
  {
   "cell_type": "code",
   "execution_count": 69,
   "id": "5b4beecc-f91f-43b8-921c-d3b0475c70ba",
   "metadata": {},
   "outputs": [
    {
     "name": "stdout",
     "output_type": "stream",
     "text": [
      "mahbuS\n"
     ]
    }
   ],
   "source": [
    "name = \"Subham\"\n",
    "reverse = \"\"\n",
    "\n",
    "li = len(name)-1\n",
    "\n",
    "while li >= 0:\n",
    "    reverse = reverse + name[li]\n",
    "    li = li - 1\n",
    "\n",
    "print(reverse)"
   ]
  },
  {
   "cell_type": "code",
   "execution_count": 70,
   "id": "864d5be0-d732-40ae-9c28-9c4d7738a512",
   "metadata": {},
   "outputs": [
    {
     "name": "stdout",
     "output_type": "stream",
     "text": [
      "yomnaT\n"
     ]
    }
   ],
   "source": [
    "name = \"Tanmoy\"\n",
    "reverse = name[::-1]\n",
    "print(reverse)"
   ]
  },
  {
   "cell_type": "markdown",
   "id": "91a64087-0db5-4fe9-8a74-aaf28a575c77",
   "metadata": {},
   "source": [
    "# ```Ekta list ase. List er value = [4,23,69,52,12]. while loop diya and for loop, reverse list ta print kor. ([12,52,69,23,4])```"
   ]
  },
  {
   "cell_type": "code",
   "execution_count": null,
   "id": "01669714-85ad-4b89-bf9d-3a1a84ef5a65",
   "metadata": {},
   "outputs": [],
   "source": []
  }
 ],
 "metadata": {
  "kernelspec": {
   "display_name": "Python 3 (ipykernel)",
   "language": "python",
   "name": "python3"
  },
  "language_info": {
   "codemirror_mode": {
    "name": "ipython",
    "version": 3
   },
   "file_extension": ".py",
   "mimetype": "text/x-python",
   "name": "python",
   "nbconvert_exporter": "python",
   "pygments_lexer": "ipython3",
   "version": "3.10.12"
  }
 },
 "nbformat": 4,
 "nbformat_minor": 5
}
