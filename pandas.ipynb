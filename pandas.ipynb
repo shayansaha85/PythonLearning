{
 "cells": [
  {
   "cell_type": "code",
   "execution_count": 1,
   "id": "b23bde61-809f-4915-b740-dd81e3e80c64",
   "metadata": {},
   "outputs": [
    {
     "name": "stdout",
     "output_type": "stream",
     "text": [
      "Hello World\n"
     ]
    }
   ],
   "source": [
    "print(\"Hello World\")"
   ]
  },
  {
   "cell_type": "code",
   "execution_count": 3,
   "id": "6e87b141-a719-4f89-bbe9-276e725e0134",
   "metadata": {},
   "outputs": [
    {
     "name": "stdin",
     "output_type": "stream",
     "text": [
      "Enter a number =  13\n"
     ]
    },
    {
     "name": "stdout",
     "output_type": "stream",
     "text": [
      "PRIME\n"
     ]
    }
   ],
   "source": [
    "number = int(input(\"Enter a number = \"))\n",
    "count = 0\n",
    "if number == 0 or number == 1:\n",
    "    print(\"In appropriate number\")\n",
    "else:\n",
    "    for i in range(2, number+1):\n",
    "        if number%i == 0:\n",
    "            count += 1\n",
    "    if count == 1:\n",
    "        print(\"PRIME\")\n",
    "    else:\n",
    "        print(\"NOT PRIME\")"
   ]
  },
  {
   "cell_type": "code",
   "execution_count": null,
   "id": "363b6f58-dcb6-4f2f-8f49-982d67d0840f",
   "metadata": {},
   "outputs": [],
   "source": []
  }
 ],
 "metadata": {
  "kernelspec": {
   "display_name": "Python 3 (ipykernel)",
   "language": "python",
   "name": "python3"
  },
  "language_info": {
   "codemirror_mode": {
    "name": "ipython",
    "version": 3
   },
   "file_extension": ".py",
   "mimetype": "text/x-python",
   "name": "python",
   "nbconvert_exporter": "python",
   "pygments_lexer": "ipython3",
   "version": "3.12.1"
  }
 },
 "nbformat": 4,
 "nbformat_minor": 5
}
