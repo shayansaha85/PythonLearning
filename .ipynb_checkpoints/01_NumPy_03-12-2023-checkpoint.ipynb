{
 "cells": [
  {
   "cell_type": "code",
   "execution_count": 3,
   "id": "b1dd1a97-34f7-44a2-9e31-0437255b043a",
   "metadata": {},
   "outputs": [],
   "source": [
    "import numpy as np"
   ]
  },
  {
   "cell_type": "markdown",
   "id": "d0718cee-0669-4a5f-a61a-8e58c9e50f16",
   "metadata": {},
   "source": [
    "> **LIST TO ARRAYS**"
   ]
  },
  {
   "cell_type": "code",
   "execution_count": 4,
   "id": "66372710-837b-46f2-8e97-69d86273b713",
   "metadata": {},
   "outputs": [
    {
     "data": {
      "text/plain": [
       "[1, 2, 3]"
      ]
     },
     "execution_count": 4,
     "metadata": {},
     "output_type": "execute_result"
    }
   ],
   "source": [
    "li = [1,2,3]\n",
    "li"
   ]
  },
  {
   "cell_type": "code",
   "execution_count": 5,
   "id": "f6f4383d-78d9-4ccc-8afb-19adb70c00ee",
   "metadata": {},
   "outputs": [
    {
     "data": {
      "text/plain": [
       "list"
      ]
     },
     "execution_count": 5,
     "metadata": {},
     "output_type": "execute_result"
    }
   ],
   "source": [
    "type(li)"
   ]
  },
  {
   "cell_type": "code",
   "execution_count": 6,
   "id": "0d7ef6c9-ec6e-43ab-b3e1-cb737226af9d",
   "metadata": {},
   "outputs": [
    {
     "data": {
      "text/plain": [
       "array([1, 2, 3])"
      ]
     },
     "execution_count": 6,
     "metadata": {},
     "output_type": "execute_result"
    }
   ],
   "source": [
    "np.array(li)"
   ]
  },
  {
   "cell_type": "code",
   "execution_count": 7,
   "id": "7b636228-53c5-487b-b335-462c1b6ffc5a",
   "metadata": {},
   "outputs": [
    {
     "data": {
      "text/plain": [
       "[[1, 2, 3], [4, 5, 6], [7, 8, 9]]"
      ]
     },
     "execution_count": 7,
     "metadata": {},
     "output_type": "execute_result"
    }
   ],
   "source": [
    "matrx = [ [1,2,3], [4,5,6], [7,8,9] ]\n",
    "matrx"
   ]
  },
  {
   "cell_type": "code",
   "execution_count": 8,
   "id": "72621793-db69-4620-8068-e2da5bd24d1d",
   "metadata": {},
   "outputs": [
    {
     "data": {
      "text/plain": [
       "array([[1, 2, 3],\n",
       "       [4, 5, 6],\n",
       "       [7, 8, 9]])"
      ]
     },
     "execution_count": 8,
     "metadata": {},
     "output_type": "execute_result"
    }
   ],
   "source": [
    "np.array(matrx)"
   ]
  },
  {
   "cell_type": "markdown",
   "id": "de39f43d-1c3b-47a2-9736-b31bf1e7e25b",
   "metadata": {},
   "source": [
    "> **NumPy Built-in Methods**"
   ]
  },
  {
   "cell_type": "code",
   "execution_count": 9,
   "id": "9f160ada-78f8-466c-817b-992896918e14",
   "metadata": {},
   "outputs": [
    {
     "data": {
      "text/plain": [
       "array([0, 1, 2, 3, 4, 5, 6, 7, 8, 9])"
      ]
     },
     "execution_count": 9,
     "metadata": {},
     "output_type": "execute_result"
    }
   ],
   "source": [
    "# array --> 0 - 9\n",
    "np.arange(0,10)"
   ]
  },
  {
   "cell_type": "code",
   "execution_count": 10,
   "id": "8e93a79e-6be0-487f-9764-f1c4f530c137",
   "metadata": {},
   "outputs": [
    {
     "data": {
      "text/plain": [
       "array([0, 2, 4, 6, 8])"
      ]
     },
     "execution_count": 10,
     "metadata": {},
     "output_type": "execute_result"
    }
   ],
   "source": [
    "np.arange(0,10,2)"
   ]
  },
  {
   "cell_type": "markdown",
   "id": "94ddffeb-ecc3-4956-b502-b3b7aa355d92",
   "metadata": {},
   "source": [
    "> **Zero matrix** and **unity**"
   ]
  },
  {
   "cell_type": "code",
   "execution_count": 11,
   "id": "39bbeebc-0bc9-4b78-bdea-570566d5a7e9",
   "metadata": {},
   "outputs": [
    {
     "data": {
      "text/plain": [
       "array([0., 0., 0.])"
      ]
     },
     "execution_count": 11,
     "metadata": {},
     "output_type": "execute_result"
    }
   ],
   "source": [
    "np.zeros(3)"
   ]
  },
  {
   "cell_type": "code",
   "execution_count": 12,
   "id": "4c152af6-84ff-4e6f-b8c3-093ecf5d7d06",
   "metadata": {},
   "outputs": [
    {
     "data": {
      "text/plain": [
       "array([[0., 0., 0., 0.],\n",
       "       [0., 0., 0., 0.],\n",
       "       [0., 0., 0., 0.],\n",
       "       [0., 0., 0., 0.],\n",
       "       [0., 0., 0., 0.]])"
      ]
     },
     "execution_count": 12,
     "metadata": {},
     "output_type": "execute_result"
    }
   ],
   "source": [
    "np.zeros( (5,4) )"
   ]
  },
  {
   "cell_type": "code",
   "execution_count": 13,
   "id": "0806b502-dd5b-4a2d-9f6f-d07b2fe57fe0",
   "metadata": {},
   "outputs": [
    {
     "data": {
      "text/plain": [
       "array([[0., 0., 0., ..., 0., 0., 0.],\n",
       "       [0., 0., 0., ..., 0., 0., 0.],\n",
       "       [0., 0., 0., ..., 0., 0., 0.],\n",
       "       ...,\n",
       "       [0., 0., 0., ..., 0., 0., 0.],\n",
       "       [0., 0., 0., ..., 0., 0., 0.],\n",
       "       [0., 0., 0., ..., 0., 0., 0.]])"
      ]
     },
     "execution_count": 13,
     "metadata": {},
     "output_type": "execute_result"
    }
   ],
   "source": [
    "np.zeros((50,50))"
   ]
  },
  {
   "cell_type": "code",
   "execution_count": 14,
   "id": "36bf51f8-8042-4817-b3df-67b5bb935deb",
   "metadata": {},
   "outputs": [
    {
     "data": {
      "text/plain": [
       "array([1., 1., 1.])"
      ]
     },
     "execution_count": 14,
     "metadata": {},
     "output_type": "execute_result"
    }
   ],
   "source": [
    "np.ones(3)"
   ]
  },
  {
   "cell_type": "code",
   "execution_count": 15,
   "id": "37608157-8591-49a1-a237-3b3bf5d58cae",
   "metadata": {},
   "outputs": [
    {
     "data": {
      "text/plain": [
       "array([[1., 1., 1., 1., 1., 1.],\n",
       "       [1., 1., 1., 1., 1., 1.],\n",
       "       [1., 1., 1., 1., 1., 1.],\n",
       "       [1., 1., 1., 1., 1., 1.],\n",
       "       [1., 1., 1., 1., 1., 1.]])"
      ]
     },
     "execution_count": 15,
     "metadata": {},
     "output_type": "execute_result"
    }
   ],
   "source": [
    "np.ones((5,6))"
   ]
  },
  {
   "cell_type": "markdown",
   "id": "51787c8f-507f-4117-ac9a-aaac7d82bfeb",
   "metadata": {},
   "source": [
    "> **Linspace**"
   ]
  },
  {
   "cell_type": "code",
   "execution_count": 16,
   "id": "eeb0a636-d7d8-4789-a0d5-a210b3db77b8",
   "metadata": {},
   "outputs": [
    {
     "data": {
      "text/plain": [
       "array([ 0.        ,  0.25641026,  0.51282051,  0.76923077,  1.02564103,\n",
       "        1.28205128,  1.53846154,  1.79487179,  2.05128205,  2.30769231,\n",
       "        2.56410256,  2.82051282,  3.07692308,  3.33333333,  3.58974359,\n",
       "        3.84615385,  4.1025641 ,  4.35897436,  4.61538462,  4.87179487,\n",
       "        5.12820513,  5.38461538,  5.64102564,  5.8974359 ,  6.15384615,\n",
       "        6.41025641,  6.66666667,  6.92307692,  7.17948718,  7.43589744,\n",
       "        7.69230769,  7.94871795,  8.20512821,  8.46153846,  8.71794872,\n",
       "        8.97435897,  9.23076923,  9.48717949,  9.74358974, 10.        ])"
      ]
     },
     "execution_count": 16,
     "metadata": {},
     "output_type": "execute_result"
    }
   ],
   "source": [
    "np.linspace(0,10,40)"
   ]
  },
  {
   "cell_type": "markdown",
   "id": "379d509b-fadf-4a6d-9ff4-5d1a875c5a7a",
   "metadata": {},
   "source": [
    "> **eye of numpy**"
   ]
  },
  {
   "cell_type": "code",
   "execution_count": 17,
   "id": "c2079f44-2a8a-4a23-b57a-8f351cac0f70",
   "metadata": {},
   "outputs": [
    {
     "data": {
      "text/plain": [
       "array([[1., 0., 0., 0.],\n",
       "       [0., 1., 0., 0.],\n",
       "       [0., 0., 1., 0.],\n",
       "       [0., 0., 0., 1.]])"
      ]
     },
     "execution_count": 17,
     "metadata": {},
     "output_type": "execute_result"
    }
   ],
   "source": [
    "np.eye(4)"
   ]
  },
  {
   "cell_type": "code",
   "execution_count": 18,
   "id": "4a0e5ce4-0ba3-4bf1-8acf-824d84463323",
   "metadata": {},
   "outputs": [
    {
     "data": {
      "text/plain": [
       "array([[1., 0., 0., 0., 0., 0., 0., 0., 0., 0.],\n",
       "       [0., 1., 0., 0., 0., 0., 0., 0., 0., 0.],\n",
       "       [0., 0., 1., 0., 0., 0., 0., 0., 0., 0.],\n",
       "       [0., 0., 0., 1., 0., 0., 0., 0., 0., 0.],\n",
       "       [0., 0., 0., 0., 1., 0., 0., 0., 0., 0.],\n",
       "       [0., 0., 0., 0., 0., 1., 0., 0., 0., 0.],\n",
       "       [0., 0., 0., 0., 0., 0., 1., 0., 0., 0.],\n",
       "       [0., 0., 0., 0., 0., 0., 0., 1., 0., 0.],\n",
       "       [0., 0., 0., 0., 0., 0., 0., 0., 1., 0.],\n",
       "       [0., 0., 0., 0., 0., 0., 0., 0., 0., 1.]])"
      ]
     },
     "execution_count": 18,
     "metadata": {},
     "output_type": "execute_result"
    }
   ],
   "source": [
    "np.eye(10)"
   ]
  },
  {
   "cell_type": "markdown",
   "id": "2177834d-2926-444a-996e-26f84d62010a",
   "metadata": {},
   "source": [
    "> **What if we integrate random with numpy** rand() will be always in between 0 to 1"
   ]
  },
  {
   "cell_type": "code",
   "execution_count": 19,
   "id": "0c20bf1b-d433-41e1-bbf7-7d6ae3c41b4d",
   "metadata": {},
   "outputs": [
    {
     "data": {
      "text/plain": [
       "array([0.60144606, 0.49701633, 0.72325505])"
      ]
     },
     "execution_count": 19,
     "metadata": {},
     "output_type": "execute_result"
    }
   ],
   "source": [
    "np.random.rand(3)"
   ]
  },
  {
   "cell_type": "code",
   "execution_count": 20,
   "id": "0410a489-a18b-4d78-b7ff-81c196ac38d9",
   "metadata": {},
   "outputs": [
    {
     "data": {
      "text/plain": [
       "array([[0.51227984, 0.85006724, 0.68975604, 0.02813432, 0.24009888],\n",
       "       [0.4049947 , 0.6166035 , 0.86127393, 0.64707625, 0.41719317],\n",
       "       [0.33768022, 0.33011249, 0.16622672, 0.43684084, 0.49186109],\n",
       "       [0.80126892, 0.10602101, 0.97593894, 0.37931584, 0.94635643],\n",
       "       [0.55614815, 0.20518746, 0.21343434, 0.67942925, 0.18732247]])"
      ]
     },
     "execution_count": 20,
     "metadata": {},
     "output_type": "execute_result"
    }
   ],
   "source": [
    "np.random.rand(5,5)"
   ]
  },
  {
   "cell_type": "markdown",
   "id": "2c6f5303-67c6-4464-b163-f6b715f68172",
   "metadata": {},
   "source": [
    "> **randn()**"
   ]
  },
  {
   "cell_type": "code",
   "execution_count": 23,
   "id": "b6239710-d571-4a48-a13c-2558840bcc0a",
   "metadata": {},
   "outputs": [
    {
     "data": {
      "text/plain": [
       "array([[-1.00046783, -0.92039949, -0.48012247, -1.73969654, -0.35391185],\n",
       "       [-1.71717885, -1.04926008,  1.10038553,  0.98825568,  0.3147103 ],\n",
       "       [ 0.62716651,  0.07708679, -0.66820621, -0.40132817,  0.05026189],\n",
       "       [-1.28314922,  0.05477504, -1.11347193, -1.75437696,  1.13160119],\n",
       "       [ 0.37789229,  2.053436  ,  0.62253362, -0.06084864,  0.22339416]])"
      ]
     },
     "execution_count": 23,
     "metadata": {},
     "output_type": "execute_result"
    }
   ],
   "source": [
    "np.random.randn(5,5)"
   ]
  },
  {
   "cell_type": "markdown",
   "id": "25c69c28-5b9d-4b99-8aeb-32f99f846aaf",
   "metadata": {},
   "source": [
    "> **randint**"
   ]
  },
  {
   "cell_type": "code",
   "execution_count": 24,
   "id": "5326832b-2ba9-4e68-8545-f6b1ca27842b",
   "metadata": {},
   "outputs": [
    {
     "data": {
      "text/plain": [
       "80"
      ]
     },
     "execution_count": 24,
     "metadata": {},
     "output_type": "execute_result"
    }
   ],
   "source": [
    "np.random.randint(1,100)"
   ]
  },
  {
   "cell_type": "code",
   "execution_count": 26,
   "id": "a9a0215d-93f6-48e0-b0de-7eec2d5c1c04",
   "metadata": {},
   "outputs": [
    {
     "data": {
      "text/plain": [
       "array([98, 59, 46, 45, 87, 13, 18, 35, 94, 98, 14, 52, 53, 95, 48, 18, 99,\n",
       "       94, 17, 34, 64, 23, 94, 54,  1])"
      ]
     },
     "execution_count": 26,
     "metadata": {},
     "output_type": "execute_result"
    }
   ],
   "source": [
    "np.random.randint(1,100,25)"
   ]
  },
  {
   "cell_type": "markdown",
   "id": "e6d6c3e0-04e8-40b1-a932-1e706e20a19e",
   "metadata": {},
   "source": [
    "> **Methods of numpy array**"
   ]
  },
  {
   "cell_type": "code",
   "execution_count": 34,
   "id": "459c3f35-b37a-4d25-b507-277e506753e6",
   "metadata": {},
   "outputs": [],
   "source": [
    "arr = np.arange(25)"
   ]
  },
  {
   "cell_type": "code",
   "execution_count": 35,
   "id": "b90d5fc9-ac27-403a-b567-91c7b60eab66",
   "metadata": {},
   "outputs": [
    {
     "data": {
      "text/plain": [
       "array([ 0,  1,  2,  3,  4,  5,  6,  7,  8,  9, 10, 11, 12, 13, 14, 15, 16,\n",
       "       17, 18, 19, 20, 21, 22, 23, 24])"
      ]
     },
     "execution_count": 35,
     "metadata": {},
     "output_type": "execute_result"
    }
   ],
   "source": [
    "arr"
   ]
  },
  {
   "cell_type": "code",
   "execution_count": 36,
   "id": "6fd9d232-1fe9-4cdb-bfef-e8a861188a16",
   "metadata": {},
   "outputs": [],
   "source": [
    "random_arr = np.random.randint(0,50,10)"
   ]
  },
  {
   "cell_type": "code",
   "execution_count": 37,
   "id": "6d4c8cb9-f5d6-4255-b0b4-f9e9dcee7d54",
   "metadata": {},
   "outputs": [
    {
     "data": {
      "text/plain": [
       "array([29, 14, 27, 12, 15, 33, 17,  9, 28, 45])"
      ]
     },
     "execution_count": 37,
     "metadata": {},
     "output_type": "execute_result"
    }
   ],
   "source": [
    "random_arr"
   ]
  },
  {
   "cell_type": "markdown",
   "id": "a366184d-31ec-4e4f-af10-aee1b9693da9",
   "metadata": {},
   "source": [
    "> **Reshape**"
   ]
  },
  {
   "cell_type": "code",
   "execution_count": 38,
   "id": "4f66fd8e-204b-4811-9279-b473a29f27e0",
   "metadata": {},
   "outputs": [
    {
     "data": {
      "text/plain": [
       "array([[ 0,  1,  2,  3,  4],\n",
       "       [ 5,  6,  7,  8,  9],\n",
       "       [10, 11, 12, 13, 14],\n",
       "       [15, 16, 17, 18, 19],\n",
       "       [20, 21, 22, 23, 24]])"
      ]
     },
     "execution_count": 38,
     "metadata": {},
     "output_type": "execute_result"
    }
   ],
   "source": [
    "arr.reshape(5,5)"
   ]
  },
  {
   "cell_type": "markdown",
   "id": "fef4bb5f-1ca9-4032-976a-4ff19a3004c0",
   "metadata": {},
   "source": [
    "> **max and min**"
   ]
  },
  {
   "cell_type": "code",
   "execution_count": 39,
   "id": "b7acf360-d4b7-4a94-aede-1024c2580400",
   "metadata": {},
   "outputs": [
    {
     "data": {
      "text/plain": [
       "45"
      ]
     },
     "execution_count": 39,
     "metadata": {},
     "output_type": "execute_result"
    }
   ],
   "source": [
    "random_arr.max()"
   ]
  },
  {
   "cell_type": "code",
   "execution_count": 40,
   "id": "3f860263-8a33-4578-8a3a-9dff04e408be",
   "metadata": {},
   "outputs": [
    {
     "data": {
      "text/plain": [
       "9"
      ]
     },
     "execution_count": 40,
     "metadata": {},
     "output_type": "execute_result"
    }
   ],
   "source": [
    "random_arr.min()"
   ]
  },
  {
   "cell_type": "code",
   "execution_count": 41,
   "id": "1b16ace7-1f6b-4d85-849e-8692e7fa9d09",
   "metadata": {},
   "outputs": [
    {
     "data": {
      "text/plain": [
       "9"
      ]
     },
     "execution_count": 41,
     "metadata": {},
     "output_type": "execute_result"
    }
   ],
   "source": [
    "random_arr.argmax()"
   ]
  },
  {
   "cell_type": "code",
   "execution_count": 42,
   "id": "4eb3eed3-d7f3-4ca5-9508-045af0b5b2f7",
   "metadata": {},
   "outputs": [
    {
     "data": {
      "text/plain": [
       "7"
      ]
     },
     "execution_count": 42,
     "metadata": {},
     "output_type": "execute_result"
    }
   ],
   "source": [
    "random_arr.argmin()"
   ]
  },
  {
   "cell_type": "markdown",
   "id": "9e28fae6-0cfc-4602-b2f0-a0cf93d774a5",
   "metadata": {},
   "source": [
    "> **Shape**"
   ]
  },
  {
   "cell_type": "code",
   "execution_count": 43,
   "id": "15e83176-af6c-4735-a6d0-de8edd0659c9",
   "metadata": {},
   "outputs": [
    {
     "data": {
      "text/plain": [
       "array([ 0,  1,  2,  3,  4,  5,  6,  7,  8,  9, 10, 11, 12, 13, 14, 15, 16,\n",
       "       17, 18, 19, 20, 21, 22, 23, 24])"
      ]
     },
     "execution_count": 43,
     "metadata": {},
     "output_type": "execute_result"
    }
   ],
   "source": [
    "arr"
   ]
  },
  {
   "cell_type": "code",
   "execution_count": 44,
   "id": "13537e25-fbe5-44c8-a479-473d03a10806",
   "metadata": {},
   "outputs": [
    {
     "data": {
      "text/plain": [
       "(25,)"
      ]
     },
     "execution_count": 44,
     "metadata": {},
     "output_type": "execute_result"
    }
   ],
   "source": [
    "arr.shape"
   ]
  },
  {
   "cell_type": "code",
   "execution_count": 46,
   "id": "2cf83b0d-3528-4376-888f-b85df3046e39",
   "metadata": {},
   "outputs": [],
   "source": [
    "anotherShape = arr.reshape(1,25)"
   ]
  },
  {
   "cell_type": "code",
   "execution_count": 47,
   "id": "1f3d49e2-5bc0-4404-9ad0-583165042a1e",
   "metadata": {},
   "outputs": [
    {
     "data": {
      "text/plain": [
       "(1, 25)"
      ]
     },
     "execution_count": 47,
     "metadata": {},
     "output_type": "execute_result"
    }
   ],
   "source": [
    "anotherShape.shape"
   ]
  },
  {
   "cell_type": "code",
   "execution_count": 48,
   "id": "a9fdde28-f8bb-4d83-920d-d8b369ce1e36",
   "metadata": {},
   "outputs": [
    {
     "data": {
      "text/plain": [
       "array([[ 0],\n",
       "       [ 1],\n",
       "       [ 2],\n",
       "       [ 3],\n",
       "       [ 4],\n",
       "       [ 5],\n",
       "       [ 6],\n",
       "       [ 7],\n",
       "       [ 8],\n",
       "       [ 9],\n",
       "       [10],\n",
       "       [11],\n",
       "       [12],\n",
       "       [13],\n",
       "       [14],\n",
       "       [15],\n",
       "       [16],\n",
       "       [17],\n",
       "       [18],\n",
       "       [19],\n",
       "       [20],\n",
       "       [21],\n",
       "       [22],\n",
       "       [23],\n",
       "       [24]])"
      ]
     },
     "execution_count": 48,
     "metadata": {},
     "output_type": "execute_result"
    }
   ],
   "source": [
    "arr.reshape(25,1)"
   ]
  },
  {
   "cell_type": "markdown",
   "id": "296c8090-ba71-42a1-969d-a0589aaed67f",
   "metadata": {},
   "source": [
    "> **data type**"
   ]
  },
  {
   "cell_type": "code",
   "execution_count": 49,
   "id": "9b3dc56e-00b3-4caa-8ea3-59989420b282",
   "metadata": {},
   "outputs": [
    {
     "data": {
      "text/plain": [
       "array([ 0,  1,  2,  3,  4,  5,  6,  7,  8,  9, 10, 11, 12, 13, 14, 15, 16,\n",
       "       17, 18, 19, 20, 21, 22, 23, 24])"
      ]
     },
     "execution_count": 49,
     "metadata": {},
     "output_type": "execute_result"
    }
   ],
   "source": [
    "arr"
   ]
  },
  {
   "cell_type": "code",
   "execution_count": 51,
   "id": "3704100b-ab74-49ce-a2ca-3382a7286a66",
   "metadata": {},
   "outputs": [
    {
     "data": {
      "text/plain": [
       "dtype('int64')"
      ]
     },
     "execution_count": 51,
     "metadata": {},
     "output_type": "execute_result"
    }
   ],
   "source": [
    "arr.dtype"
   ]
  },
  {
   "cell_type": "code",
   "execution_count": null,
   "id": "c2851e38-499a-45c3-9dd1-1ac7948c3d83",
   "metadata": {},
   "outputs": [],
   "source": []
  }
 ],
 "metadata": {
  "kernelspec": {
   "display_name": "Python 3 (ipykernel)",
   "language": "python",
   "name": "python3"
  },
  "language_info": {
   "codemirror_mode": {
    "name": "ipython",
    "version": 3
   },
   "file_extension": ".py",
   "mimetype": "text/x-python",
   "name": "python",
   "nbconvert_exporter": "python",
   "pygments_lexer": "ipython3",
   "version": "3.10.12"
  }
 },
 "nbformat": 4,
 "nbformat_minor": 5
}
