{
 "cells": [
  {
   "cell_type": "code",
   "execution_count": 1,
   "id": "b7c82213-f462-400c-b807-ec08edaaef51",
   "metadata": {},
   "outputs": [],
   "source": [
    "import pandas as pd"
   ]
  },
  {
   "cell_type": "code",
   "execution_count": 2,
   "id": "5f1c1d38-ea91-4db3-bbed-5875662827b9",
   "metadata": {},
   "outputs": [],
   "source": [
    "import numpy as np"
   ]
  },
  {
   "cell_type": "code",
   "execution_count": 5,
   "id": "6976989d-8e94-43fc-8854-61851a5cd6fd",
   "metadata": {},
   "outputs": [],
   "source": [
    "l = [10, 20, 30]\n",
    "label = ['x', 'y', 'z']"
   ]
  },
  {
   "cell_type": "code",
   "execution_count": 6,
   "id": "acf02473-3a59-4a8d-bea2-740203f31bcc",
   "metadata": {},
   "outputs": [
    {
     "data": {
      "text/plain": [
       "x    10\n",
       "y    20\n",
       "z    30\n",
       "dtype: int64"
      ]
     },
     "execution_count": 6,
     "metadata": {},
     "output_type": "execute_result"
    }
   ],
   "source": [
    "series = pd.Series(data = l, index = label)\n",
    "series"
   ]
  },
  {
   "cell_type": "code",
   "execution_count": 7,
   "id": "b37103ce-1d6f-427e-997a-9b71fd365521",
   "metadata": {},
   "outputs": [],
   "source": [
    "arr = np.array(l)"
   ]
  },
  {
   "cell_type": "code",
   "execution_count": 8,
   "id": "1b59c229-066e-43d6-b0a7-eac14f539412",
   "metadata": {},
   "outputs": [
    {
     "data": {
      "text/plain": [
       "0    10\n",
       "1    20\n",
       "2    30\n",
       "dtype: int64"
      ]
     },
     "execution_count": 8,
     "metadata": {},
     "output_type": "execute_result"
    }
   ],
   "source": [
    "pd.Series(arr)"
   ]
  },
  {
   "cell_type": "code",
   "execution_count": 9,
   "id": "94762cf6-01d1-4562-a804-d632acfcd810",
   "metadata": {},
   "outputs": [
    {
     "data": {
      "text/plain": [
       "x    10\n",
       "y    20\n",
       "z    30\n",
       "dtype: int64"
      ]
     },
     "execution_count": 9,
     "metadata": {},
     "output_type": "execute_result"
    }
   ],
   "source": [
    "data_set = { 'x' : 10, 'y':20, 'z':30 }\n",
    "pd.Series(data_set)"
   ]
  },
  {
   "cell_type": "code",
   "execution_count": 10,
   "id": "87b7dae1-e9dc-4d4b-8b8e-c7088aec47ff",
   "metadata": {},
   "outputs": [
    {
     "data": {
      "text/plain": [
       "USA      1.5M\n",
       "Japan      2M\n",
       "India      6M\n",
       "Italy     10M\n",
       "dtype: object"
      ]
     },
     "execution_count": 10,
     "metadata": {},
     "output_type": "execute_result"
    }
   ],
   "source": [
    "countryPop = pd.Series(['1.5M', '2M', '6M', '10M'], index = ['USA', 'Japan', 'India', 'Italy'])\n",
    "countryPop"
   ]
  },
  {
   "cell_type": "code",
   "execution_count": 12,
   "id": "d6194466-a265-4b9f-98bb-5525d2b97492",
   "metadata": {},
   "outputs": [
    {
     "data": {
      "text/plain": [
       "'6M'"
      ]
     },
     "execution_count": 12,
     "metadata": {},
     "output_type": "execute_result"
    }
   ],
   "source": [
    "countryPop['India']"
   ]
  },
  {
   "cell_type": "markdown",
   "id": "8786aa9b-0106-48cd-aeaa-8975addf7139",
   "metadata": {},
   "source": [
    "### Dataframe"
   ]
  },
  {
   "cell_type": "code",
   "execution_count": 13,
   "id": "6a64ab4b-4874-49db-8ced-98a817e30511",
   "metadata": {},
   "outputs": [],
   "source": [
    "from numpy.random import randn"
   ]
  },
  {
   "cell_type": "code",
   "execution_count": 14,
   "id": "b8ea594e-7ddd-4ae3-a91d-1f7592b3c068",
   "metadata": {},
   "outputs": [],
   "source": [
    "df = pd.DataFrame(randn(6,5), index=['a','b','c','d','e','f'], columns = ['col1', 'col2', 'col3', 'col4', 'col5'] )"
   ]
  },
  {
   "cell_type": "code",
   "execution_count": 15,
   "id": "9a3541ed-af99-474e-8b5b-0a059acbbe2a",
   "metadata": {},
   "outputs": [
    {
     "data": {
      "text/html": [
       "<div>\n",
       "<style scoped>\n",
       "    .dataframe tbody tr th:only-of-type {\n",
       "        vertical-align: middle;\n",
       "    }\n",
       "\n",
       "    .dataframe tbody tr th {\n",
       "        vertical-align: top;\n",
       "    }\n",
       "\n",
       "    .dataframe thead th {\n",
       "        text-align: right;\n",
       "    }\n",
       "</style>\n",
       "<table border=\"1\" class=\"dataframe\">\n",
       "  <thead>\n",
       "    <tr style=\"text-align: right;\">\n",
       "      <th></th>\n",
       "      <th>col1</th>\n",
       "      <th>col2</th>\n",
       "      <th>col3</th>\n",
       "      <th>col4</th>\n",
       "      <th>col5</th>\n",
       "    </tr>\n",
       "  </thead>\n",
       "  <tbody>\n",
       "    <tr>\n",
       "      <th>a</th>\n",
       "      <td>0.802484</td>\n",
       "      <td>-1.341176</td>\n",
       "      <td>0.126129</td>\n",
       "      <td>0.925566</td>\n",
       "      <td>0.079453</td>\n",
       "    </tr>\n",
       "    <tr>\n",
       "      <th>b</th>\n",
       "      <td>-0.520222</td>\n",
       "      <td>1.011722</td>\n",
       "      <td>-0.020256</td>\n",
       "      <td>-0.239429</td>\n",
       "      <td>-1.356958</td>\n",
       "    </tr>\n",
       "    <tr>\n",
       "      <th>c</th>\n",
       "      <td>0.713877</td>\n",
       "      <td>0.402437</td>\n",
       "      <td>1.105897</td>\n",
       "      <td>-0.570112</td>\n",
       "      <td>-0.428831</td>\n",
       "    </tr>\n",
       "    <tr>\n",
       "      <th>d</th>\n",
       "      <td>-1.177914</td>\n",
       "      <td>1.029414</td>\n",
       "      <td>1.782254</td>\n",
       "      <td>0.469737</td>\n",
       "      <td>-0.259328</td>\n",
       "    </tr>\n",
       "    <tr>\n",
       "      <th>e</th>\n",
       "      <td>-1.018836</td>\n",
       "      <td>-0.054572</td>\n",
       "      <td>1.270286</td>\n",
       "      <td>-1.045720</td>\n",
       "      <td>-1.955326</td>\n",
       "    </tr>\n",
       "    <tr>\n",
       "      <th>f</th>\n",
       "      <td>0.565734</td>\n",
       "      <td>-0.147409</td>\n",
       "      <td>0.570622</td>\n",
       "      <td>0.802046</td>\n",
       "      <td>-0.336113</td>\n",
       "    </tr>\n",
       "  </tbody>\n",
       "</table>\n",
       "</div>"
      ],
      "text/plain": [
       "       col1      col2      col3      col4      col5\n",
       "a  0.802484 -1.341176  0.126129  0.925566  0.079453\n",
       "b -0.520222  1.011722 -0.020256 -0.239429 -1.356958\n",
       "c  0.713877  0.402437  1.105897 -0.570112 -0.428831\n",
       "d -1.177914  1.029414  1.782254  0.469737 -0.259328\n",
       "e -1.018836 -0.054572  1.270286 -1.045720 -1.955326\n",
       "f  0.565734 -0.147409  0.570622  0.802046 -0.336113"
      ]
     },
     "execution_count": 15,
     "metadata": {},
     "output_type": "execute_result"
    }
   ],
   "source": [
    "df"
   ]
  },
  {
   "cell_type": "code",
   "execution_count": 16,
   "id": "e6dd7ec2-ee8c-406b-98d3-44c19c4d1603",
   "metadata": {},
   "outputs": [
    {
     "data": {
      "text/plain": [
       "a   -1.341176\n",
       "b    1.011722\n",
       "c    0.402437\n",
       "d    1.029414\n",
       "e   -0.054572\n",
       "f   -0.147409\n",
       "Name: col2, dtype: float64"
      ]
     },
     "execution_count": 16,
     "metadata": {},
     "output_type": "execute_result"
    }
   ],
   "source": [
    "df['col2']"
   ]
  },
  {
   "cell_type": "code",
   "execution_count": 17,
   "id": "5980deed-60a3-4d3c-9848-d61598e83a73",
   "metadata": {},
   "outputs": [
    {
     "data": {
      "text/html": [
       "<div>\n",
       "<style scoped>\n",
       "    .dataframe tbody tr th:only-of-type {\n",
       "        vertical-align: middle;\n",
       "    }\n",
       "\n",
       "    .dataframe tbody tr th {\n",
       "        vertical-align: top;\n",
       "    }\n",
       "\n",
       "    .dataframe thead th {\n",
       "        text-align: right;\n",
       "    }\n",
       "</style>\n",
       "<table border=\"1\" class=\"dataframe\">\n",
       "  <thead>\n",
       "    <tr style=\"text-align: right;\">\n",
       "      <th></th>\n",
       "      <th>col2</th>\n",
       "      <th>col5</th>\n",
       "    </tr>\n",
       "  </thead>\n",
       "  <tbody>\n",
       "    <tr>\n",
       "      <th>a</th>\n",
       "      <td>-1.341176</td>\n",
       "      <td>0.079453</td>\n",
       "    </tr>\n",
       "    <tr>\n",
       "      <th>b</th>\n",
       "      <td>1.011722</td>\n",
       "      <td>-1.356958</td>\n",
       "    </tr>\n",
       "    <tr>\n",
       "      <th>c</th>\n",
       "      <td>0.402437</td>\n",
       "      <td>-0.428831</td>\n",
       "    </tr>\n",
       "    <tr>\n",
       "      <th>d</th>\n",
       "      <td>1.029414</td>\n",
       "      <td>-0.259328</td>\n",
       "    </tr>\n",
       "    <tr>\n",
       "      <th>e</th>\n",
       "      <td>-0.054572</td>\n",
       "      <td>-1.955326</td>\n",
       "    </tr>\n",
       "    <tr>\n",
       "      <th>f</th>\n",
       "      <td>-0.147409</td>\n",
       "      <td>-0.336113</td>\n",
       "    </tr>\n",
       "  </tbody>\n",
       "</table>\n",
       "</div>"
      ],
      "text/plain": [
       "       col2      col5\n",
       "a -1.341176  0.079453\n",
       "b  1.011722 -1.356958\n",
       "c  0.402437 -0.428831\n",
       "d  1.029414 -0.259328\n",
       "e -0.054572 -1.955326\n",
       "f -0.147409 -0.336113"
      ]
     },
     "execution_count": 17,
     "metadata": {},
     "output_type": "execute_result"
    }
   ],
   "source": [
    "df[ ['col2', 'col5'] ]"
   ]
  },
  {
   "cell_type": "code",
   "execution_count": 18,
   "id": "bd7b997d-73e6-43dc-b95c-3670acc3b131",
   "metadata": {},
   "outputs": [
    {
     "data": {
      "text/plain": [
       "a   -1.341176\n",
       "b    1.011722\n",
       "c    0.402437\n",
       "d    1.029414\n",
       "e   -0.054572\n",
       "f   -0.147409\n",
       "Name: col2, dtype: float64"
      ]
     },
     "execution_count": 18,
     "metadata": {},
     "output_type": "execute_result"
    }
   ],
   "source": [
    "df.col2"
   ]
  },
  {
   "cell_type": "code",
   "execution_count": 19,
   "id": "a8c1b871-08f5-4149-8dc6-45f9a61ac4f2",
   "metadata": {},
   "outputs": [
    {
     "data": {
      "text/plain": [
       "pandas.core.series.Series"
      ]
     },
     "execution_count": 19,
     "metadata": {},
     "output_type": "execute_result"
    }
   ],
   "source": [
    "type(df.col2)"
   ]
  },
  {
   "cell_type": "code",
   "execution_count": 20,
   "id": "cda7d0a1-fdb4-44a7-9136-ef5494952f11",
   "metadata": {},
   "outputs": [
    {
     "data": {
      "text/html": [
       "<div>\n",
       "<style scoped>\n",
       "    .dataframe tbody tr th:only-of-type {\n",
       "        vertical-align: middle;\n",
       "    }\n",
       "\n",
       "    .dataframe tbody tr th {\n",
       "        vertical-align: top;\n",
       "    }\n",
       "\n",
       "    .dataframe thead th {\n",
       "        text-align: right;\n",
       "    }\n",
       "</style>\n",
       "<table border=\"1\" class=\"dataframe\">\n",
       "  <thead>\n",
       "    <tr style=\"text-align: right;\">\n",
       "      <th></th>\n",
       "      <th>col1</th>\n",
       "      <th>col2</th>\n",
       "      <th>col3</th>\n",
       "      <th>col4</th>\n",
       "      <th>col5</th>\n",
       "    </tr>\n",
       "  </thead>\n",
       "  <tbody>\n",
       "    <tr>\n",
       "      <th>a</th>\n",
       "      <td>0.802484</td>\n",
       "      <td>-1.341176</td>\n",
       "      <td>0.126129</td>\n",
       "      <td>0.925566</td>\n",
       "      <td>0.079453</td>\n",
       "    </tr>\n",
       "    <tr>\n",
       "      <th>b</th>\n",
       "      <td>-0.520222</td>\n",
       "      <td>1.011722</td>\n",
       "      <td>-0.020256</td>\n",
       "      <td>-0.239429</td>\n",
       "      <td>-1.356958</td>\n",
       "    </tr>\n",
       "    <tr>\n",
       "      <th>c</th>\n",
       "      <td>0.713877</td>\n",
       "      <td>0.402437</td>\n",
       "      <td>1.105897</td>\n",
       "      <td>-0.570112</td>\n",
       "      <td>-0.428831</td>\n",
       "    </tr>\n",
       "    <tr>\n",
       "      <th>d</th>\n",
       "      <td>-1.177914</td>\n",
       "      <td>1.029414</td>\n",
       "      <td>1.782254</td>\n",
       "      <td>0.469737</td>\n",
       "      <td>-0.259328</td>\n",
       "    </tr>\n",
       "    <tr>\n",
       "      <th>e</th>\n",
       "      <td>-1.018836</td>\n",
       "      <td>-0.054572</td>\n",
       "      <td>1.270286</td>\n",
       "      <td>-1.045720</td>\n",
       "      <td>-1.955326</td>\n",
       "    </tr>\n",
       "    <tr>\n",
       "      <th>f</th>\n",
       "      <td>0.565734</td>\n",
       "      <td>-0.147409</td>\n",
       "      <td>0.570622</td>\n",
       "      <td>0.802046</td>\n",
       "      <td>-0.336113</td>\n",
       "    </tr>\n",
       "  </tbody>\n",
       "</table>\n",
       "</div>"
      ],
      "text/plain": [
       "       col1      col2      col3      col4      col5\n",
       "a  0.802484 -1.341176  0.126129  0.925566  0.079453\n",
       "b -0.520222  1.011722 -0.020256 -0.239429 -1.356958\n",
       "c  0.713877  0.402437  1.105897 -0.570112 -0.428831\n",
       "d -1.177914  1.029414  1.782254  0.469737 -0.259328\n",
       "e -1.018836 -0.054572  1.270286 -1.045720 -1.955326\n",
       "f  0.565734 -0.147409  0.570622  0.802046 -0.336113"
      ]
     },
     "execution_count": 20,
     "metadata": {},
     "output_type": "execute_result"
    }
   ],
   "source": [
    "df"
   ]
  },
  {
   "cell_type": "code",
   "execution_count": 21,
   "id": "4005a943-60a9-4a63-b9b9-546863def744",
   "metadata": {},
   "outputs": [],
   "source": [
    "df['col6'] = df['col2'] + df['col5']"
   ]
  },
  {
   "cell_type": "code",
   "execution_count": 22,
   "id": "e788d5f6-95e9-417c-8e6f-569cab1596ef",
   "metadata": {},
   "outputs": [
    {
     "data": {
      "text/html": [
       "<div>\n",
       "<style scoped>\n",
       "    .dataframe tbody tr th:only-of-type {\n",
       "        vertical-align: middle;\n",
       "    }\n",
       "\n",
       "    .dataframe tbody tr th {\n",
       "        vertical-align: top;\n",
       "    }\n",
       "\n",
       "    .dataframe thead th {\n",
       "        text-align: right;\n",
       "    }\n",
       "</style>\n",
       "<table border=\"1\" class=\"dataframe\">\n",
       "  <thead>\n",
       "    <tr style=\"text-align: right;\">\n",
       "      <th></th>\n",
       "      <th>col1</th>\n",
       "      <th>col2</th>\n",
       "      <th>col3</th>\n",
       "      <th>col4</th>\n",
       "      <th>col5</th>\n",
       "      <th>col6</th>\n",
       "    </tr>\n",
       "  </thead>\n",
       "  <tbody>\n",
       "    <tr>\n",
       "      <th>a</th>\n",
       "      <td>0.802484</td>\n",
       "      <td>-1.341176</td>\n",
       "      <td>0.126129</td>\n",
       "      <td>0.925566</td>\n",
       "      <td>0.079453</td>\n",
       "      <td>-1.261723</td>\n",
       "    </tr>\n",
       "    <tr>\n",
       "      <th>b</th>\n",
       "      <td>-0.520222</td>\n",
       "      <td>1.011722</td>\n",
       "      <td>-0.020256</td>\n",
       "      <td>-0.239429</td>\n",
       "      <td>-1.356958</td>\n",
       "      <td>-0.345236</td>\n",
       "    </tr>\n",
       "    <tr>\n",
       "      <th>c</th>\n",
       "      <td>0.713877</td>\n",
       "      <td>0.402437</td>\n",
       "      <td>1.105897</td>\n",
       "      <td>-0.570112</td>\n",
       "      <td>-0.428831</td>\n",
       "      <td>-0.026393</td>\n",
       "    </tr>\n",
       "    <tr>\n",
       "      <th>d</th>\n",
       "      <td>-1.177914</td>\n",
       "      <td>1.029414</td>\n",
       "      <td>1.782254</td>\n",
       "      <td>0.469737</td>\n",
       "      <td>-0.259328</td>\n",
       "      <td>0.770086</td>\n",
       "    </tr>\n",
       "    <tr>\n",
       "      <th>e</th>\n",
       "      <td>-1.018836</td>\n",
       "      <td>-0.054572</td>\n",
       "      <td>1.270286</td>\n",
       "      <td>-1.045720</td>\n",
       "      <td>-1.955326</td>\n",
       "      <td>-2.009897</td>\n",
       "    </tr>\n",
       "    <tr>\n",
       "      <th>f</th>\n",
       "      <td>0.565734</td>\n",
       "      <td>-0.147409</td>\n",
       "      <td>0.570622</td>\n",
       "      <td>0.802046</td>\n",
       "      <td>-0.336113</td>\n",
       "      <td>-0.483522</td>\n",
       "    </tr>\n",
       "  </tbody>\n",
       "</table>\n",
       "</div>"
      ],
      "text/plain": [
       "       col1      col2      col3      col4      col5      col6\n",
       "a  0.802484 -1.341176  0.126129  0.925566  0.079453 -1.261723\n",
       "b -0.520222  1.011722 -0.020256 -0.239429 -1.356958 -0.345236\n",
       "c  0.713877  0.402437  1.105897 -0.570112 -0.428831 -0.026393\n",
       "d -1.177914  1.029414  1.782254  0.469737 -0.259328  0.770086\n",
       "e -1.018836 -0.054572  1.270286 -1.045720 -1.955326 -2.009897\n",
       "f  0.565734 -0.147409  0.570622  0.802046 -0.336113 -0.483522"
      ]
     },
     "execution_count": 22,
     "metadata": {},
     "output_type": "execute_result"
    }
   ],
   "source": [
    "df"
   ]
  },
  {
   "cell_type": "code",
   "execution_count": 23,
   "id": "2c267c89-1fd0-4f9b-8589-8fdc745e3116",
   "metadata": {},
   "outputs": [
    {
     "data": {
      "text/html": [
       "<div>\n",
       "<style scoped>\n",
       "    .dataframe tbody tr th:only-of-type {\n",
       "        vertical-align: middle;\n",
       "    }\n",
       "\n",
       "    .dataframe tbody tr th {\n",
       "        vertical-align: top;\n",
       "    }\n",
       "\n",
       "    .dataframe thead th {\n",
       "        text-align: right;\n",
       "    }\n",
       "</style>\n",
       "<table border=\"1\" class=\"dataframe\">\n",
       "  <thead>\n",
       "    <tr style=\"text-align: right;\">\n",
       "      <th></th>\n",
       "      <th>col1</th>\n",
       "      <th>col2</th>\n",
       "      <th>col3</th>\n",
       "      <th>col4</th>\n",
       "      <th>col5</th>\n",
       "    </tr>\n",
       "  </thead>\n",
       "  <tbody>\n",
       "    <tr>\n",
       "      <th>a</th>\n",
       "      <td>0.802484</td>\n",
       "      <td>-1.341176</td>\n",
       "      <td>0.126129</td>\n",
       "      <td>0.925566</td>\n",
       "      <td>0.079453</td>\n",
       "    </tr>\n",
       "    <tr>\n",
       "      <th>b</th>\n",
       "      <td>-0.520222</td>\n",
       "      <td>1.011722</td>\n",
       "      <td>-0.020256</td>\n",
       "      <td>-0.239429</td>\n",
       "      <td>-1.356958</td>\n",
       "    </tr>\n",
       "    <tr>\n",
       "      <th>c</th>\n",
       "      <td>0.713877</td>\n",
       "      <td>0.402437</td>\n",
       "      <td>1.105897</td>\n",
       "      <td>-0.570112</td>\n",
       "      <td>-0.428831</td>\n",
       "    </tr>\n",
       "    <tr>\n",
       "      <th>d</th>\n",
       "      <td>-1.177914</td>\n",
       "      <td>1.029414</td>\n",
       "      <td>1.782254</td>\n",
       "      <td>0.469737</td>\n",
       "      <td>-0.259328</td>\n",
       "    </tr>\n",
       "    <tr>\n",
       "      <th>e</th>\n",
       "      <td>-1.018836</td>\n",
       "      <td>-0.054572</td>\n",
       "      <td>1.270286</td>\n",
       "      <td>-1.045720</td>\n",
       "      <td>-1.955326</td>\n",
       "    </tr>\n",
       "    <tr>\n",
       "      <th>f</th>\n",
       "      <td>0.565734</td>\n",
       "      <td>-0.147409</td>\n",
       "      <td>0.570622</td>\n",
       "      <td>0.802046</td>\n",
       "      <td>-0.336113</td>\n",
       "    </tr>\n",
       "  </tbody>\n",
       "</table>\n",
       "</div>"
      ],
      "text/plain": [
       "       col1      col2      col3      col4      col5\n",
       "a  0.802484 -1.341176  0.126129  0.925566  0.079453\n",
       "b -0.520222  1.011722 -0.020256 -0.239429 -1.356958\n",
       "c  0.713877  0.402437  1.105897 -0.570112 -0.428831\n",
       "d -1.177914  1.029414  1.782254  0.469737 -0.259328\n",
       "e -1.018836 -0.054572  1.270286 -1.045720 -1.955326\n",
       "f  0.565734 -0.147409  0.570622  0.802046 -0.336113"
      ]
     },
     "execution_count": 23,
     "metadata": {},
     "output_type": "execute_result"
    }
   ],
   "source": [
    "df_deleted_col6 = df.drop('col6', axis=1)\n",
    "df_deleted_col6"
   ]
  },
  {
   "cell_type": "code",
   "execution_count": 24,
   "id": "fb22b666-59f7-4e17-b8c5-eec566b362db",
   "metadata": {},
   "outputs": [
    {
     "data": {
      "text/html": [
       "<div>\n",
       "<style scoped>\n",
       "    .dataframe tbody tr th:only-of-type {\n",
       "        vertical-align: middle;\n",
       "    }\n",
       "\n",
       "    .dataframe tbody tr th {\n",
       "        vertical-align: top;\n",
       "    }\n",
       "\n",
       "    .dataframe thead th {\n",
       "        text-align: right;\n",
       "    }\n",
       "</style>\n",
       "<table border=\"1\" class=\"dataframe\">\n",
       "  <thead>\n",
       "    <tr style=\"text-align: right;\">\n",
       "      <th></th>\n",
       "      <th>col1</th>\n",
       "      <th>col2</th>\n",
       "      <th>col3</th>\n",
       "      <th>col4</th>\n",
       "      <th>col5</th>\n",
       "      <th>col6</th>\n",
       "    </tr>\n",
       "  </thead>\n",
       "  <tbody>\n",
       "    <tr>\n",
       "      <th>a</th>\n",
       "      <td>0.802484</td>\n",
       "      <td>-1.341176</td>\n",
       "      <td>0.126129</td>\n",
       "      <td>0.925566</td>\n",
       "      <td>0.079453</td>\n",
       "      <td>-1.261723</td>\n",
       "    </tr>\n",
       "    <tr>\n",
       "      <th>b</th>\n",
       "      <td>-0.520222</td>\n",
       "      <td>1.011722</td>\n",
       "      <td>-0.020256</td>\n",
       "      <td>-0.239429</td>\n",
       "      <td>-1.356958</td>\n",
       "      <td>-0.345236</td>\n",
       "    </tr>\n",
       "    <tr>\n",
       "      <th>c</th>\n",
       "      <td>0.713877</td>\n",
       "      <td>0.402437</td>\n",
       "      <td>1.105897</td>\n",
       "      <td>-0.570112</td>\n",
       "      <td>-0.428831</td>\n",
       "      <td>-0.026393</td>\n",
       "    </tr>\n",
       "    <tr>\n",
       "      <th>d</th>\n",
       "      <td>-1.177914</td>\n",
       "      <td>1.029414</td>\n",
       "      <td>1.782254</td>\n",
       "      <td>0.469737</td>\n",
       "      <td>-0.259328</td>\n",
       "      <td>0.770086</td>\n",
       "    </tr>\n",
       "    <tr>\n",
       "      <th>e</th>\n",
       "      <td>-1.018836</td>\n",
       "      <td>-0.054572</td>\n",
       "      <td>1.270286</td>\n",
       "      <td>-1.045720</td>\n",
       "      <td>-1.955326</td>\n",
       "      <td>-2.009897</td>\n",
       "    </tr>\n",
       "    <tr>\n",
       "      <th>f</th>\n",
       "      <td>0.565734</td>\n",
       "      <td>-0.147409</td>\n",
       "      <td>0.570622</td>\n",
       "      <td>0.802046</td>\n",
       "      <td>-0.336113</td>\n",
       "      <td>-0.483522</td>\n",
       "    </tr>\n",
       "  </tbody>\n",
       "</table>\n",
       "</div>"
      ],
      "text/plain": [
       "       col1      col2      col3      col4      col5      col6\n",
       "a  0.802484 -1.341176  0.126129  0.925566  0.079453 -1.261723\n",
       "b -0.520222  1.011722 -0.020256 -0.239429 -1.356958 -0.345236\n",
       "c  0.713877  0.402437  1.105897 -0.570112 -0.428831 -0.026393\n",
       "d -1.177914  1.029414  1.782254  0.469737 -0.259328  0.770086\n",
       "e -1.018836 -0.054572  1.270286 -1.045720 -1.955326 -2.009897\n",
       "f  0.565734 -0.147409  0.570622  0.802046 -0.336113 -0.483522"
      ]
     },
     "execution_count": 24,
     "metadata": {},
     "output_type": "execute_result"
    }
   ],
   "source": [
    "df"
   ]
  },
  {
   "cell_type": "code",
   "execution_count": null,
   "id": "cff15ca2-c8e6-4f5b-9856-76212fea8f22",
   "metadata": {
    "scrolled": true
   },
   "outputs": [],
   "source": [
    "df_deleted_col6 = df.drop('col6', axis=1, inplace=True) # inplace True dile, original data frame theika column delete hoibo, or else hoitona\n",
    "df_deleted_col6"
   ]
  },
  {
   "cell_type": "code",
   "execution_count": 28,
   "id": "30f3887c-c16f-4fc2-ab5a-fe146e8da329",
   "metadata": {},
   "outputs": [
    {
     "data": {
      "text/html": [
       "<div>\n",
       "<style scoped>\n",
       "    .dataframe tbody tr th:only-of-type {\n",
       "        vertical-align: middle;\n",
       "    }\n",
       "\n",
       "    .dataframe tbody tr th {\n",
       "        vertical-align: top;\n",
       "    }\n",
       "\n",
       "    .dataframe thead th {\n",
       "        text-align: right;\n",
       "    }\n",
       "</style>\n",
       "<table border=\"1\" class=\"dataframe\">\n",
       "  <thead>\n",
       "    <tr style=\"text-align: right;\">\n",
       "      <th></th>\n",
       "      <th>col1</th>\n",
       "      <th>col2</th>\n",
       "      <th>col3</th>\n",
       "      <th>col4</th>\n",
       "      <th>col5</th>\n",
       "    </tr>\n",
       "  </thead>\n",
       "  <tbody>\n",
       "    <tr>\n",
       "      <th>a</th>\n",
       "      <td>0.802484</td>\n",
       "      <td>-1.341176</td>\n",
       "      <td>0.126129</td>\n",
       "      <td>0.925566</td>\n",
       "      <td>0.079453</td>\n",
       "    </tr>\n",
       "    <tr>\n",
       "      <th>b</th>\n",
       "      <td>-0.520222</td>\n",
       "      <td>1.011722</td>\n",
       "      <td>-0.020256</td>\n",
       "      <td>-0.239429</td>\n",
       "      <td>-1.356958</td>\n",
       "    </tr>\n",
       "    <tr>\n",
       "      <th>c</th>\n",
       "      <td>0.713877</td>\n",
       "      <td>0.402437</td>\n",
       "      <td>1.105897</td>\n",
       "      <td>-0.570112</td>\n",
       "      <td>-0.428831</td>\n",
       "    </tr>\n",
       "    <tr>\n",
       "      <th>d</th>\n",
       "      <td>-1.177914</td>\n",
       "      <td>1.029414</td>\n",
       "      <td>1.782254</td>\n",
       "      <td>0.469737</td>\n",
       "      <td>-0.259328</td>\n",
       "    </tr>\n",
       "    <tr>\n",
       "      <th>e</th>\n",
       "      <td>-1.018836</td>\n",
       "      <td>-0.054572</td>\n",
       "      <td>1.270286</td>\n",
       "      <td>-1.045720</td>\n",
       "      <td>-1.955326</td>\n",
       "    </tr>\n",
       "    <tr>\n",
       "      <th>f</th>\n",
       "      <td>0.565734</td>\n",
       "      <td>-0.147409</td>\n",
       "      <td>0.570622</td>\n",
       "      <td>0.802046</td>\n",
       "      <td>-0.336113</td>\n",
       "    </tr>\n",
       "  </tbody>\n",
       "</table>\n",
       "</div>"
      ],
      "text/plain": [
       "       col1      col2      col3      col4      col5\n",
       "a  0.802484 -1.341176  0.126129  0.925566  0.079453\n",
       "b -0.520222  1.011722 -0.020256 -0.239429 -1.356958\n",
       "c  0.713877  0.402437  1.105897 -0.570112 -0.428831\n",
       "d -1.177914  1.029414  1.782254  0.469737 -0.259328\n",
       "e -1.018836 -0.054572  1.270286 -1.045720 -1.955326\n",
       "f  0.565734 -0.147409  0.570622  0.802046 -0.336113"
      ]
     },
     "execution_count": 28,
     "metadata": {},
     "output_type": "execute_result"
    }
   ],
   "source": [
    "df"
   ]
  },
  {
   "cell_type": "code",
   "execution_count": 31,
   "id": "bbc335ff-19c6-4edd-ad25-1f9ccf43d2e2",
   "metadata": {},
   "outputs": [
    {
     "data": {
      "text/html": [
       "<div>\n",
       "<style scoped>\n",
       "    .dataframe tbody tr th:only-of-type {\n",
       "        vertical-align: middle;\n",
       "    }\n",
       "\n",
       "    .dataframe tbody tr th {\n",
       "        vertical-align: top;\n",
       "    }\n",
       "\n",
       "    .dataframe thead th {\n",
       "        text-align: right;\n",
       "    }\n",
       "</style>\n",
       "<table border=\"1\" class=\"dataframe\">\n",
       "  <thead>\n",
       "    <tr style=\"text-align: right;\">\n",
       "      <th></th>\n",
       "      <th>col1</th>\n",
       "      <th>col2</th>\n",
       "      <th>col3</th>\n",
       "      <th>col4</th>\n",
       "      <th>col5</th>\n",
       "    </tr>\n",
       "  </thead>\n",
       "  <tbody>\n",
       "    <tr>\n",
       "      <th>a</th>\n",
       "      <td>0.802484</td>\n",
       "      <td>-1.341176</td>\n",
       "      <td>0.126129</td>\n",
       "      <td>0.925566</td>\n",
       "      <td>0.079453</td>\n",
       "    </tr>\n",
       "    <tr>\n",
       "      <th>b</th>\n",
       "      <td>-0.520222</td>\n",
       "      <td>1.011722</td>\n",
       "      <td>-0.020256</td>\n",
       "      <td>-0.239429</td>\n",
       "      <td>-1.356958</td>\n",
       "    </tr>\n",
       "    <tr>\n",
       "      <th>c</th>\n",
       "      <td>0.713877</td>\n",
       "      <td>0.402437</td>\n",
       "      <td>1.105897</td>\n",
       "      <td>-0.570112</td>\n",
       "      <td>-0.428831</td>\n",
       "    </tr>\n",
       "    <tr>\n",
       "      <th>d</th>\n",
       "      <td>-1.177914</td>\n",
       "      <td>1.029414</td>\n",
       "      <td>1.782254</td>\n",
       "      <td>0.469737</td>\n",
       "      <td>-0.259328</td>\n",
       "    </tr>\n",
       "    <tr>\n",
       "      <th>e</th>\n",
       "      <td>-1.018836</td>\n",
       "      <td>-0.054572</td>\n",
       "      <td>1.270286</td>\n",
       "      <td>-1.045720</td>\n",
       "      <td>-1.955326</td>\n",
       "    </tr>\n",
       "  </tbody>\n",
       "</table>\n",
       "</div>"
      ],
      "text/plain": [
       "       col1      col2      col3      col4      col5\n",
       "a  0.802484 -1.341176  0.126129  0.925566  0.079453\n",
       "b -0.520222  1.011722 -0.020256 -0.239429 -1.356958\n",
       "c  0.713877  0.402437  1.105897 -0.570112 -0.428831\n",
       "d -1.177914  1.029414  1.782254  0.469737 -0.259328\n",
       "e -1.018836 -0.054572  1.270286 -1.045720 -1.955326"
      ]
     },
     "execution_count": 31,
     "metadata": {},
     "output_type": "execute_result"
    }
   ],
   "source": [
    "df.drop('f', axis=0) # axis 0 hoise index value, R 1 hoise column value"
   ]
  },
  {
   "cell_type": "code",
   "execution_count": 32,
   "id": "73c7229d-912b-421a-98f0-bac35e4551c5",
   "metadata": {},
   "outputs": [
    {
     "data": {
      "text/html": [
       "<div>\n",
       "<style scoped>\n",
       "    .dataframe tbody tr th:only-of-type {\n",
       "        vertical-align: middle;\n",
       "    }\n",
       "\n",
       "    .dataframe tbody tr th {\n",
       "        vertical-align: top;\n",
       "    }\n",
       "\n",
       "    .dataframe thead th {\n",
       "        text-align: right;\n",
       "    }\n",
       "</style>\n",
       "<table border=\"1\" class=\"dataframe\">\n",
       "  <thead>\n",
       "    <tr style=\"text-align: right;\">\n",
       "      <th></th>\n",
       "      <th>col1</th>\n",
       "      <th>col2</th>\n",
       "      <th>col3</th>\n",
       "      <th>col4</th>\n",
       "      <th>col5</th>\n",
       "    </tr>\n",
       "  </thead>\n",
       "  <tbody>\n",
       "    <tr>\n",
       "      <th>a</th>\n",
       "      <td>0.802484</td>\n",
       "      <td>-1.341176</td>\n",
       "      <td>0.126129</td>\n",
       "      <td>0.925566</td>\n",
       "      <td>0.079453</td>\n",
       "    </tr>\n",
       "    <tr>\n",
       "      <th>b</th>\n",
       "      <td>-0.520222</td>\n",
       "      <td>1.011722</td>\n",
       "      <td>-0.020256</td>\n",
       "      <td>-0.239429</td>\n",
       "      <td>-1.356958</td>\n",
       "    </tr>\n",
       "    <tr>\n",
       "      <th>c</th>\n",
       "      <td>0.713877</td>\n",
       "      <td>0.402437</td>\n",
       "      <td>1.105897</td>\n",
       "      <td>-0.570112</td>\n",
       "      <td>-0.428831</td>\n",
       "    </tr>\n",
       "    <tr>\n",
       "      <th>d</th>\n",
       "      <td>-1.177914</td>\n",
       "      <td>1.029414</td>\n",
       "      <td>1.782254</td>\n",
       "      <td>0.469737</td>\n",
       "      <td>-0.259328</td>\n",
       "    </tr>\n",
       "    <tr>\n",
       "      <th>e</th>\n",
       "      <td>-1.018836</td>\n",
       "      <td>-0.054572</td>\n",
       "      <td>1.270286</td>\n",
       "      <td>-1.045720</td>\n",
       "      <td>-1.955326</td>\n",
       "    </tr>\n",
       "    <tr>\n",
       "      <th>f</th>\n",
       "      <td>0.565734</td>\n",
       "      <td>-0.147409</td>\n",
       "      <td>0.570622</td>\n",
       "      <td>0.802046</td>\n",
       "      <td>-0.336113</td>\n",
       "    </tr>\n",
       "  </tbody>\n",
       "</table>\n",
       "</div>"
      ],
      "text/plain": [
       "       col1      col2      col3      col4      col5\n",
       "a  0.802484 -1.341176  0.126129  0.925566  0.079453\n",
       "b -0.520222  1.011722 -0.020256 -0.239429 -1.356958\n",
       "c  0.713877  0.402437  1.105897 -0.570112 -0.428831\n",
       "d -1.177914  1.029414  1.782254  0.469737 -0.259328\n",
       "e -1.018836 -0.054572  1.270286 -1.045720 -1.955326\n",
       "f  0.565734 -0.147409  0.570622  0.802046 -0.336113"
      ]
     },
     "execution_count": 32,
     "metadata": {},
     "output_type": "execute_result"
    }
   ],
   "source": [
    "df"
   ]
  },
  {
   "cell_type": "code",
   "execution_count": 33,
   "id": "7ede18cb-6a2b-47ac-ae09-1904b7c596fc",
   "metadata": {},
   "outputs": [
    {
     "data": {
      "text/plain": [
       "a    0.802484\n",
       "b   -0.520222\n",
       "c    0.713877\n",
       "d   -1.177914\n",
       "e   -1.018836\n",
       "f    0.565734\n",
       "Name: col1, dtype: float64"
      ]
     },
     "execution_count": 33,
     "metadata": {},
     "output_type": "execute_result"
    }
   ],
   "source": [
    "df['col1']"
   ]
  },
  {
   "cell_type": "code",
   "execution_count": 34,
   "id": "e47e2340-c97a-4f2b-b4a1-b8e56084b233",
   "metadata": {},
   "outputs": [
    {
     "data": {
      "text/plain": [
       "col1   -0.520222\n",
       "col2    1.011722\n",
       "col3   -0.020256\n",
       "col4   -0.239429\n",
       "col5   -1.356958\n",
       "Name: b, dtype: float64"
      ]
     },
     "execution_count": 34,
     "metadata": {},
     "output_type": "execute_result"
    }
   ],
   "source": [
    "df.loc['b']"
   ]
  },
  {
   "cell_type": "code",
   "execution_count": 38,
   "id": "2c631c69-e67d-4088-a879-786f569e4f3f",
   "metadata": {},
   "outputs": [
    {
     "data": {
      "text/plain": [
       "col1   -0.520222\n",
       "col2    1.011722\n",
       "col3   -0.020256\n",
       "col4   -0.239429\n",
       "col5   -1.356958\n",
       "Name: b, dtype: float64"
      ]
     },
     "execution_count": 38,
     "metadata": {},
     "output_type": "execute_result"
    }
   ],
   "source": [
    "df.iloc[1] # 'b' er index, 'c' er index 2"
   ]
  },
  {
   "cell_type": "code",
   "execution_count": 37,
   "id": "669a5e26-1261-4662-b7c5-ecd5f5da218b",
   "metadata": {},
   "outputs": [
    {
     "data": {
      "text/plain": [
       "1.105897278348501"
      ]
     },
     "execution_count": 37,
     "metadata": {},
     "output_type": "execute_result"
    }
   ],
   "source": [
    "df.loc['c', 'col3']"
   ]
  },
  {
   "cell_type": "code",
   "execution_count": 39,
   "id": "70bd0ea4-d1dc-416f-9bc5-ef0211c90117",
   "metadata": {},
   "outputs": [
    {
     "data": {
      "text/html": [
       "<div>\n",
       "<style scoped>\n",
       "    .dataframe tbody tr th:only-of-type {\n",
       "        vertical-align: middle;\n",
       "    }\n",
       "\n",
       "    .dataframe tbody tr th {\n",
       "        vertical-align: top;\n",
       "    }\n",
       "\n",
       "    .dataframe thead th {\n",
       "        text-align: right;\n",
       "    }\n",
       "</style>\n",
       "<table border=\"1\" class=\"dataframe\">\n",
       "  <thead>\n",
       "    <tr style=\"text-align: right;\">\n",
       "      <th></th>\n",
       "      <th>col2</th>\n",
       "      <th>col5</th>\n",
       "    </tr>\n",
       "  </thead>\n",
       "  <tbody>\n",
       "    <tr>\n",
       "      <th>a</th>\n",
       "      <td>-1.341176</td>\n",
       "      <td>0.079453</td>\n",
       "    </tr>\n",
       "    <tr>\n",
       "      <th>b</th>\n",
       "      <td>1.011722</td>\n",
       "      <td>-1.356958</td>\n",
       "    </tr>\n",
       "  </tbody>\n",
       "</table>\n",
       "</div>"
      ],
      "text/plain": [
       "       col2      col5\n",
       "a -1.341176  0.079453\n",
       "b  1.011722 -1.356958"
      ]
     },
     "execution_count": 39,
     "metadata": {},
     "output_type": "execute_result"
    }
   ],
   "source": [
    "df.loc[ ['a', 'b'], ['col2', 'col5'] ]"
   ]
  },
  {
   "cell_type": "markdown",
   "id": "4bdca50b-665b-43c8-b09a-34a95796169c",
   "metadata": {},
   "source": [
    "### selection based on conditions (boolean)"
   ]
  },
  {
   "cell_type": "code",
   "execution_count": 40,
   "id": "d37ea26a-a1f8-4da6-8a26-ae4033512527",
   "metadata": {},
   "outputs": [
    {
     "data": {
      "text/html": [
       "<div>\n",
       "<style scoped>\n",
       "    .dataframe tbody tr th:only-of-type {\n",
       "        vertical-align: middle;\n",
       "    }\n",
       "\n",
       "    .dataframe tbody tr th {\n",
       "        vertical-align: top;\n",
       "    }\n",
       "\n",
       "    .dataframe thead th {\n",
       "        text-align: right;\n",
       "    }\n",
       "</style>\n",
       "<table border=\"1\" class=\"dataframe\">\n",
       "  <thead>\n",
       "    <tr style=\"text-align: right;\">\n",
       "      <th></th>\n",
       "      <th>col1</th>\n",
       "      <th>col2</th>\n",
       "      <th>col3</th>\n",
       "      <th>col4</th>\n",
       "      <th>col5</th>\n",
       "    </tr>\n",
       "  </thead>\n",
       "  <tbody>\n",
       "    <tr>\n",
       "      <th>a</th>\n",
       "      <td>0.802484</td>\n",
       "      <td>-1.341176</td>\n",
       "      <td>0.126129</td>\n",
       "      <td>0.925566</td>\n",
       "      <td>0.079453</td>\n",
       "    </tr>\n",
       "    <tr>\n",
       "      <th>b</th>\n",
       "      <td>-0.520222</td>\n",
       "      <td>1.011722</td>\n",
       "      <td>-0.020256</td>\n",
       "      <td>-0.239429</td>\n",
       "      <td>-1.356958</td>\n",
       "    </tr>\n",
       "    <tr>\n",
       "      <th>c</th>\n",
       "      <td>0.713877</td>\n",
       "      <td>0.402437</td>\n",
       "      <td>1.105897</td>\n",
       "      <td>-0.570112</td>\n",
       "      <td>-0.428831</td>\n",
       "    </tr>\n",
       "    <tr>\n",
       "      <th>d</th>\n",
       "      <td>-1.177914</td>\n",
       "      <td>1.029414</td>\n",
       "      <td>1.782254</td>\n",
       "      <td>0.469737</td>\n",
       "      <td>-0.259328</td>\n",
       "    </tr>\n",
       "    <tr>\n",
       "      <th>e</th>\n",
       "      <td>-1.018836</td>\n",
       "      <td>-0.054572</td>\n",
       "      <td>1.270286</td>\n",
       "      <td>-1.045720</td>\n",
       "      <td>-1.955326</td>\n",
       "    </tr>\n",
       "    <tr>\n",
       "      <th>f</th>\n",
       "      <td>0.565734</td>\n",
       "      <td>-0.147409</td>\n",
       "      <td>0.570622</td>\n",
       "      <td>0.802046</td>\n",
       "      <td>-0.336113</td>\n",
       "    </tr>\n",
       "  </tbody>\n",
       "</table>\n",
       "</div>"
      ],
      "text/plain": [
       "       col1      col2      col3      col4      col5\n",
       "a  0.802484 -1.341176  0.126129  0.925566  0.079453\n",
       "b -0.520222  1.011722 -0.020256 -0.239429 -1.356958\n",
       "c  0.713877  0.402437  1.105897 -0.570112 -0.428831\n",
       "d -1.177914  1.029414  1.782254  0.469737 -0.259328\n",
       "e -1.018836 -0.054572  1.270286 -1.045720 -1.955326\n",
       "f  0.565734 -0.147409  0.570622  0.802046 -0.336113"
      ]
     },
     "execution_count": 40,
     "metadata": {},
     "output_type": "execute_result"
    }
   ],
   "source": [
    "df"
   ]
  },
  {
   "cell_type": "code",
   "execution_count": 41,
   "id": "f7cd4016-4608-48b1-9421-cfa4d9c3e05d",
   "metadata": {},
   "outputs": [
    {
     "data": {
      "text/html": [
       "<div>\n",
       "<style scoped>\n",
       "    .dataframe tbody tr th:only-of-type {\n",
       "        vertical-align: middle;\n",
       "    }\n",
       "\n",
       "    .dataframe tbody tr th {\n",
       "        vertical-align: top;\n",
       "    }\n",
       "\n",
       "    .dataframe thead th {\n",
       "        text-align: right;\n",
       "    }\n",
       "</style>\n",
       "<table border=\"1\" class=\"dataframe\">\n",
       "  <thead>\n",
       "    <tr style=\"text-align: right;\">\n",
       "      <th></th>\n",
       "      <th>col1</th>\n",
       "      <th>col2</th>\n",
       "      <th>col3</th>\n",
       "      <th>col4</th>\n",
       "      <th>col5</th>\n",
       "    </tr>\n",
       "  </thead>\n",
       "  <tbody>\n",
       "    <tr>\n",
       "      <th>a</th>\n",
       "      <td>True</td>\n",
       "      <td>False</td>\n",
       "      <td>True</td>\n",
       "      <td>True</td>\n",
       "      <td>True</td>\n",
       "    </tr>\n",
       "    <tr>\n",
       "      <th>b</th>\n",
       "      <td>False</td>\n",
       "      <td>True</td>\n",
       "      <td>False</td>\n",
       "      <td>False</td>\n",
       "      <td>False</td>\n",
       "    </tr>\n",
       "    <tr>\n",
       "      <th>c</th>\n",
       "      <td>True</td>\n",
       "      <td>True</td>\n",
       "      <td>True</td>\n",
       "      <td>False</td>\n",
       "      <td>False</td>\n",
       "    </tr>\n",
       "    <tr>\n",
       "      <th>d</th>\n",
       "      <td>False</td>\n",
       "      <td>True</td>\n",
       "      <td>True</td>\n",
       "      <td>True</td>\n",
       "      <td>False</td>\n",
       "    </tr>\n",
       "    <tr>\n",
       "      <th>e</th>\n",
       "      <td>False</td>\n",
       "      <td>False</td>\n",
       "      <td>True</td>\n",
       "      <td>False</td>\n",
       "      <td>False</td>\n",
       "    </tr>\n",
       "    <tr>\n",
       "      <th>f</th>\n",
       "      <td>True</td>\n",
       "      <td>False</td>\n",
       "      <td>True</td>\n",
       "      <td>True</td>\n",
       "      <td>False</td>\n",
       "    </tr>\n",
       "  </tbody>\n",
       "</table>\n",
       "</div>"
      ],
      "text/plain": [
       "    col1   col2   col3   col4   col5\n",
       "a   True  False   True   True   True\n",
       "b  False   True  False  False  False\n",
       "c   True   True   True  False  False\n",
       "d  False   True   True   True  False\n",
       "e  False  False   True  False  False\n",
       "f   True  False   True   True  False"
      ]
     },
     "execution_count": 41,
     "metadata": {},
     "output_type": "execute_result"
    }
   ],
   "source": [
    "df > 0"
   ]
  },
  {
   "cell_type": "code",
   "execution_count": 42,
   "id": "386f160c-906d-449b-865b-5121f9e05792",
   "metadata": {},
   "outputs": [
    {
     "data": {
      "text/html": [
       "<div>\n",
       "<style scoped>\n",
       "    .dataframe tbody tr th:only-of-type {\n",
       "        vertical-align: middle;\n",
       "    }\n",
       "\n",
       "    .dataframe tbody tr th {\n",
       "        vertical-align: top;\n",
       "    }\n",
       "\n",
       "    .dataframe thead th {\n",
       "        text-align: right;\n",
       "    }\n",
       "</style>\n",
       "<table border=\"1\" class=\"dataframe\">\n",
       "  <thead>\n",
       "    <tr style=\"text-align: right;\">\n",
       "      <th></th>\n",
       "      <th>col1</th>\n",
       "      <th>col2</th>\n",
       "      <th>col3</th>\n",
       "      <th>col4</th>\n",
       "      <th>col5</th>\n",
       "    </tr>\n",
       "  </thead>\n",
       "  <tbody>\n",
       "    <tr>\n",
       "      <th>a</th>\n",
       "      <td>0.802484</td>\n",
       "      <td>NaN</td>\n",
       "      <td>0.126129</td>\n",
       "      <td>0.925566</td>\n",
       "      <td>0.079453</td>\n",
       "    </tr>\n",
       "    <tr>\n",
       "      <th>b</th>\n",
       "      <td>NaN</td>\n",
       "      <td>1.011722</td>\n",
       "      <td>NaN</td>\n",
       "      <td>NaN</td>\n",
       "      <td>NaN</td>\n",
       "    </tr>\n",
       "    <tr>\n",
       "      <th>c</th>\n",
       "      <td>0.713877</td>\n",
       "      <td>0.402437</td>\n",
       "      <td>1.105897</td>\n",
       "      <td>NaN</td>\n",
       "      <td>NaN</td>\n",
       "    </tr>\n",
       "    <tr>\n",
       "      <th>d</th>\n",
       "      <td>NaN</td>\n",
       "      <td>1.029414</td>\n",
       "      <td>1.782254</td>\n",
       "      <td>0.469737</td>\n",
       "      <td>NaN</td>\n",
       "    </tr>\n",
       "    <tr>\n",
       "      <th>e</th>\n",
       "      <td>NaN</td>\n",
       "      <td>NaN</td>\n",
       "      <td>1.270286</td>\n",
       "      <td>NaN</td>\n",
       "      <td>NaN</td>\n",
       "    </tr>\n",
       "    <tr>\n",
       "      <th>f</th>\n",
       "      <td>0.565734</td>\n",
       "      <td>NaN</td>\n",
       "      <td>0.570622</td>\n",
       "      <td>0.802046</td>\n",
       "      <td>NaN</td>\n",
       "    </tr>\n",
       "  </tbody>\n",
       "</table>\n",
       "</div>"
      ],
      "text/plain": [
       "       col1      col2      col3      col4      col5\n",
       "a  0.802484       NaN  0.126129  0.925566  0.079453\n",
       "b       NaN  1.011722       NaN       NaN       NaN\n",
       "c  0.713877  0.402437  1.105897       NaN       NaN\n",
       "d       NaN  1.029414  1.782254  0.469737       NaN\n",
       "e       NaN       NaN  1.270286       NaN       NaN\n",
       "f  0.565734       NaN  0.570622  0.802046       NaN"
      ]
     },
     "execution_count": 42,
     "metadata": {},
     "output_type": "execute_result"
    }
   ],
   "source": [
    "df[ df>0 ]"
   ]
  },
  {
   "cell_type": "code",
   "execution_count": 44,
   "id": "d3f24685-03f2-45b7-a72d-b4f263de1d6d",
   "metadata": {},
   "outputs": [
    {
     "data": {
      "text/html": [
       "<div>\n",
       "<style scoped>\n",
       "    .dataframe tbody tr th:only-of-type {\n",
       "        vertical-align: middle;\n",
       "    }\n",
       "\n",
       "    .dataframe tbody tr th {\n",
       "        vertical-align: top;\n",
       "    }\n",
       "\n",
       "    .dataframe thead th {\n",
       "        text-align: right;\n",
       "    }\n",
       "</style>\n",
       "<table border=\"1\" class=\"dataframe\">\n",
       "  <thead>\n",
       "    <tr style=\"text-align: right;\">\n",
       "      <th></th>\n",
       "      <th>col1</th>\n",
       "      <th>col2</th>\n",
       "      <th>col3</th>\n",
       "      <th>col4</th>\n",
       "      <th>col5</th>\n",
       "    </tr>\n",
       "  </thead>\n",
       "  <tbody>\n",
       "    <tr>\n",
       "      <th>a</th>\n",
       "      <td>0.802484</td>\n",
       "      <td>-1.341176</td>\n",
       "      <td>0.126129</td>\n",
       "      <td>0.925566</td>\n",
       "      <td>0.079453</td>\n",
       "    </tr>\n",
       "    <tr>\n",
       "      <th>b</th>\n",
       "      <td>-0.520222</td>\n",
       "      <td>1.011722</td>\n",
       "      <td>-0.020256</td>\n",
       "      <td>-0.239429</td>\n",
       "      <td>-1.356958</td>\n",
       "    </tr>\n",
       "    <tr>\n",
       "      <th>c</th>\n",
       "      <td>0.713877</td>\n",
       "      <td>0.402437</td>\n",
       "      <td>1.105897</td>\n",
       "      <td>-0.570112</td>\n",
       "      <td>-0.428831</td>\n",
       "    </tr>\n",
       "    <tr>\n",
       "      <th>d</th>\n",
       "      <td>-1.177914</td>\n",
       "      <td>1.029414</td>\n",
       "      <td>1.782254</td>\n",
       "      <td>0.469737</td>\n",
       "      <td>-0.259328</td>\n",
       "    </tr>\n",
       "    <tr>\n",
       "      <th>e</th>\n",
       "      <td>-1.018836</td>\n",
       "      <td>-0.054572</td>\n",
       "      <td>1.270286</td>\n",
       "      <td>-1.045720</td>\n",
       "      <td>-1.955326</td>\n",
       "    </tr>\n",
       "    <tr>\n",
       "      <th>f</th>\n",
       "      <td>0.565734</td>\n",
       "      <td>-0.147409</td>\n",
       "      <td>0.570622</td>\n",
       "      <td>0.802046</td>\n",
       "      <td>-0.336113</td>\n",
       "    </tr>\n",
       "  </tbody>\n",
       "</table>\n",
       "</div>"
      ],
      "text/plain": [
       "       col1      col2      col3      col4      col5\n",
       "a  0.802484 -1.341176  0.126129  0.925566  0.079453\n",
       "b -0.520222  1.011722 -0.020256 -0.239429 -1.356958\n",
       "c  0.713877  0.402437  1.105897 -0.570112 -0.428831\n",
       "d -1.177914  1.029414  1.782254  0.469737 -0.259328\n",
       "e -1.018836 -0.054572  1.270286 -1.045720 -1.955326\n",
       "f  0.565734 -0.147409  0.570622  0.802046 -0.336113"
      ]
     },
     "execution_count": 44,
     "metadata": {},
     "output_type": "execute_result"
    }
   ],
   "source": [
    "df"
   ]
  },
  {
   "cell_type": "code",
   "execution_count": 45,
   "id": "5367f659-a065-4650-b666-8a1350af5ae3",
   "metadata": {},
   "outputs": [
    {
     "data": {
      "text/html": [
       "<div>\n",
       "<style scoped>\n",
       "    .dataframe tbody tr th:only-of-type {\n",
       "        vertical-align: middle;\n",
       "    }\n",
       "\n",
       "    .dataframe tbody tr th {\n",
       "        vertical-align: top;\n",
       "    }\n",
       "\n",
       "    .dataframe thead th {\n",
       "        text-align: right;\n",
       "    }\n",
       "</style>\n",
       "<table border=\"1\" class=\"dataframe\">\n",
       "  <thead>\n",
       "    <tr style=\"text-align: right;\">\n",
       "      <th></th>\n",
       "      <th>col1</th>\n",
       "      <th>col2</th>\n",
       "      <th>col3</th>\n",
       "      <th>col4</th>\n",
       "      <th>col5</th>\n",
       "    </tr>\n",
       "  </thead>\n",
       "  <tbody>\n",
       "    <tr>\n",
       "      <th>a</th>\n",
       "      <td>0.802484</td>\n",
       "      <td>-1.341176</td>\n",
       "      <td>0.126129</td>\n",
       "      <td>0.925566</td>\n",
       "      <td>0.079453</td>\n",
       "    </tr>\n",
       "    <tr>\n",
       "      <th>c</th>\n",
       "      <td>0.713877</td>\n",
       "      <td>0.402437</td>\n",
       "      <td>1.105897</td>\n",
       "      <td>-0.570112</td>\n",
       "      <td>-0.428831</td>\n",
       "    </tr>\n",
       "    <tr>\n",
       "      <th>f</th>\n",
       "      <td>0.565734</td>\n",
       "      <td>-0.147409</td>\n",
       "      <td>0.570622</td>\n",
       "      <td>0.802046</td>\n",
       "      <td>-0.336113</td>\n",
       "    </tr>\n",
       "  </tbody>\n",
       "</table>\n",
       "</div>"
      ],
      "text/plain": [
       "       col1      col2      col3      col4      col5\n",
       "a  0.802484 -1.341176  0.126129  0.925566  0.079453\n",
       "c  0.713877  0.402437  1.105897 -0.570112 -0.428831\n",
       "f  0.565734 -0.147409  0.570622  0.802046 -0.336113"
      ]
     },
     "execution_count": 45,
     "metadata": {},
     "output_type": "execute_result"
    }
   ],
   "source": [
    "df[ df['col1'] > 0 ]"
   ]
  },
  {
   "cell_type": "code",
   "execution_count": 47,
   "id": "47f13ccc-4df5-452d-887c-9c3cc4abed50",
   "metadata": {},
   "outputs": [
    {
     "data": {
      "text/html": [
       "<div>\n",
       "<style scoped>\n",
       "    .dataframe tbody tr th:only-of-type {\n",
       "        vertical-align: middle;\n",
       "    }\n",
       "\n",
       "    .dataframe tbody tr th {\n",
       "        vertical-align: top;\n",
       "    }\n",
       "\n",
       "    .dataframe thead th {\n",
       "        text-align: right;\n",
       "    }\n",
       "</style>\n",
       "<table border=\"1\" class=\"dataframe\">\n",
       "  <thead>\n",
       "    <tr style=\"text-align: right;\">\n",
       "      <th></th>\n",
       "      <th>col4</th>\n",
       "      <th>col5</th>\n",
       "    </tr>\n",
       "  </thead>\n",
       "  <tbody>\n",
       "    <tr>\n",
       "      <th>a</th>\n",
       "      <td>0.925566</td>\n",
       "      <td>0.079453</td>\n",
       "    </tr>\n",
       "    <tr>\n",
       "      <th>c</th>\n",
       "      <td>-0.570112</td>\n",
       "      <td>-0.428831</td>\n",
       "    </tr>\n",
       "    <tr>\n",
       "      <th>f</th>\n",
       "      <td>0.802046</td>\n",
       "      <td>-0.336113</td>\n",
       "    </tr>\n",
       "  </tbody>\n",
       "</table>\n",
       "</div>"
      ],
      "text/plain": [
       "       col4      col5\n",
       "a  0.925566  0.079453\n",
       "c -0.570112 -0.428831\n",
       "f  0.802046 -0.336113"
      ]
     },
     "execution_count": 47,
     "metadata": {},
     "output_type": "execute_result"
    }
   ],
   "source": [
    "df[ df['col1'] > 0 ][['col4', 'col5']]"
   ]
  },
  {
   "cell_type": "code",
   "execution_count": 48,
   "id": "531e4d2f-19dd-4946-8451-1552d6c79798",
   "metadata": {},
   "outputs": [
    {
     "data": {
      "text/html": [
       "<div>\n",
       "<style scoped>\n",
       "    .dataframe tbody tr th:only-of-type {\n",
       "        vertical-align: middle;\n",
       "    }\n",
       "\n",
       "    .dataframe tbody tr th {\n",
       "        vertical-align: top;\n",
       "    }\n",
       "\n",
       "    .dataframe thead th {\n",
       "        text-align: right;\n",
       "    }\n",
       "</style>\n",
       "<table border=\"1\" class=\"dataframe\">\n",
       "  <thead>\n",
       "    <tr style=\"text-align: right;\">\n",
       "      <th></th>\n",
       "      <th>col1</th>\n",
       "      <th>col2</th>\n",
       "      <th>col3</th>\n",
       "      <th>col4</th>\n",
       "      <th>col5</th>\n",
       "    </tr>\n",
       "  </thead>\n",
       "  <tbody>\n",
       "    <tr>\n",
       "      <th>a</th>\n",
       "      <td>0.802484</td>\n",
       "      <td>-1.341176</td>\n",
       "      <td>0.126129</td>\n",
       "      <td>0.925566</td>\n",
       "      <td>0.079453</td>\n",
       "    </tr>\n",
       "    <tr>\n",
       "      <th>b</th>\n",
       "      <td>-0.520222</td>\n",
       "      <td>1.011722</td>\n",
       "      <td>-0.020256</td>\n",
       "      <td>-0.239429</td>\n",
       "      <td>-1.356958</td>\n",
       "    </tr>\n",
       "    <tr>\n",
       "      <th>c</th>\n",
       "      <td>0.713877</td>\n",
       "      <td>0.402437</td>\n",
       "      <td>1.105897</td>\n",
       "      <td>-0.570112</td>\n",
       "      <td>-0.428831</td>\n",
       "    </tr>\n",
       "    <tr>\n",
       "      <th>d</th>\n",
       "      <td>-1.177914</td>\n",
       "      <td>1.029414</td>\n",
       "      <td>1.782254</td>\n",
       "      <td>0.469737</td>\n",
       "      <td>-0.259328</td>\n",
       "    </tr>\n",
       "    <tr>\n",
       "      <th>e</th>\n",
       "      <td>-1.018836</td>\n",
       "      <td>-0.054572</td>\n",
       "      <td>1.270286</td>\n",
       "      <td>-1.045720</td>\n",
       "      <td>-1.955326</td>\n",
       "    </tr>\n",
       "    <tr>\n",
       "      <th>f</th>\n",
       "      <td>0.565734</td>\n",
       "      <td>-0.147409</td>\n",
       "      <td>0.570622</td>\n",
       "      <td>0.802046</td>\n",
       "      <td>-0.336113</td>\n",
       "    </tr>\n",
       "  </tbody>\n",
       "</table>\n",
       "</div>"
      ],
      "text/plain": [
       "       col1      col2      col3      col4      col5\n",
       "a  0.802484 -1.341176  0.126129  0.925566  0.079453\n",
       "b -0.520222  1.011722 -0.020256 -0.239429 -1.356958\n",
       "c  0.713877  0.402437  1.105897 -0.570112 -0.428831\n",
       "d -1.177914  1.029414  1.782254  0.469737 -0.259328\n",
       "e -1.018836 -0.054572  1.270286 -1.045720 -1.955326\n",
       "f  0.565734 -0.147409  0.570622  0.802046 -0.336113"
      ]
     },
     "execution_count": 48,
     "metadata": {},
     "output_type": "execute_result"
    }
   ],
   "source": [
    "df"
   ]
  },
  {
   "cell_type": "code",
   "execution_count": 51,
   "id": "605e8b9e-39ba-4a59-bfe7-cf407c4e35af",
   "metadata": {},
   "outputs": [
    {
     "data": {
      "text/html": [
       "<div>\n",
       "<style scoped>\n",
       "    .dataframe tbody tr th:only-of-type {\n",
       "        vertical-align: middle;\n",
       "    }\n",
       "\n",
       "    .dataframe tbody tr th {\n",
       "        vertical-align: top;\n",
       "    }\n",
       "\n",
       "    .dataframe thead th {\n",
       "        text-align: right;\n",
       "    }\n",
       "</style>\n",
       "<table border=\"1\" class=\"dataframe\">\n",
       "  <thead>\n",
       "    <tr style=\"text-align: right;\">\n",
       "      <th></th>\n",
       "      <th>col1</th>\n",
       "      <th>col2</th>\n",
       "      <th>col3</th>\n",
       "      <th>col4</th>\n",
       "      <th>col5</th>\n",
       "    </tr>\n",
       "  </thead>\n",
       "  <tbody>\n",
       "    <tr>\n",
       "      <th>c</th>\n",
       "      <td>0.713877</td>\n",
       "      <td>0.402437</td>\n",
       "      <td>1.105897</td>\n",
       "      <td>-0.570112</td>\n",
       "      <td>-0.428831</td>\n",
       "    </tr>\n",
       "  </tbody>\n",
       "</table>\n",
       "</div>"
      ],
      "text/plain": [
       "       col1      col2      col3      col4      col5\n",
       "c  0.713877  0.402437  1.105897 -0.570112 -0.428831"
      ]
     },
     "execution_count": 51,
     "metadata": {},
     "output_type": "execute_result"
    }
   ],
   "source": [
    "df[ (df['col1']>0) & (df['col2']>0.1) ] # & --> ampersand"
   ]
  },
  {
   "cell_type": "markdown",
   "id": "0adafac0-c736-48b5-bab4-ce11a5f1da65",
   "metadata": {},
   "source": [
    "## Extras on indexing"
   ]
  },
  {
   "cell_type": "code",
   "execution_count": 52,
   "id": "39a4d11b-6591-4598-a921-3f7d736a8e6f",
   "metadata": {},
   "outputs": [
    {
     "data": {
      "text/html": [
       "<div>\n",
       "<style scoped>\n",
       "    .dataframe tbody tr th:only-of-type {\n",
       "        vertical-align: middle;\n",
       "    }\n",
       "\n",
       "    .dataframe tbody tr th {\n",
       "        vertical-align: top;\n",
       "    }\n",
       "\n",
       "    .dataframe thead th {\n",
       "        text-align: right;\n",
       "    }\n",
       "</style>\n",
       "<table border=\"1\" class=\"dataframe\">\n",
       "  <thead>\n",
       "    <tr style=\"text-align: right;\">\n",
       "      <th></th>\n",
       "      <th>col1</th>\n",
       "      <th>col2</th>\n",
       "      <th>col3</th>\n",
       "      <th>col4</th>\n",
       "      <th>col5</th>\n",
       "    </tr>\n",
       "  </thead>\n",
       "  <tbody>\n",
       "    <tr>\n",
       "      <th>a</th>\n",
       "      <td>0.802484</td>\n",
       "      <td>-1.341176</td>\n",
       "      <td>0.126129</td>\n",
       "      <td>0.925566</td>\n",
       "      <td>0.079453</td>\n",
       "    </tr>\n",
       "    <tr>\n",
       "      <th>b</th>\n",
       "      <td>-0.520222</td>\n",
       "      <td>1.011722</td>\n",
       "      <td>-0.020256</td>\n",
       "      <td>-0.239429</td>\n",
       "      <td>-1.356958</td>\n",
       "    </tr>\n",
       "    <tr>\n",
       "      <th>c</th>\n",
       "      <td>0.713877</td>\n",
       "      <td>0.402437</td>\n",
       "      <td>1.105897</td>\n",
       "      <td>-0.570112</td>\n",
       "      <td>-0.428831</td>\n",
       "    </tr>\n",
       "    <tr>\n",
       "      <th>d</th>\n",
       "      <td>-1.177914</td>\n",
       "      <td>1.029414</td>\n",
       "      <td>1.782254</td>\n",
       "      <td>0.469737</td>\n",
       "      <td>-0.259328</td>\n",
       "    </tr>\n",
       "    <tr>\n",
       "      <th>e</th>\n",
       "      <td>-1.018836</td>\n",
       "      <td>-0.054572</td>\n",
       "      <td>1.270286</td>\n",
       "      <td>-1.045720</td>\n",
       "      <td>-1.955326</td>\n",
       "    </tr>\n",
       "    <tr>\n",
       "      <th>f</th>\n",
       "      <td>0.565734</td>\n",
       "      <td>-0.147409</td>\n",
       "      <td>0.570622</td>\n",
       "      <td>0.802046</td>\n",
       "      <td>-0.336113</td>\n",
       "    </tr>\n",
       "  </tbody>\n",
       "</table>\n",
       "</div>"
      ],
      "text/plain": [
       "       col1      col2      col3      col4      col5\n",
       "a  0.802484 -1.341176  0.126129  0.925566  0.079453\n",
       "b -0.520222  1.011722 -0.020256 -0.239429 -1.356958\n",
       "c  0.713877  0.402437  1.105897 -0.570112 -0.428831\n",
       "d -1.177914  1.029414  1.782254  0.469737 -0.259328\n",
       "e -1.018836 -0.054572  1.270286 -1.045720 -1.955326\n",
       "f  0.565734 -0.147409  0.570622  0.802046 -0.336113"
      ]
     },
     "execution_count": 52,
     "metadata": {},
     "output_type": "execute_result"
    }
   ],
   "source": [
    "df"
   ]
  },
  {
   "cell_type": "code",
   "execution_count": 53,
   "id": "229f5f37-b346-499f-9e47-ac6e8e27a481",
   "metadata": {},
   "outputs": [
    {
     "data": {
      "text/html": [
       "<div>\n",
       "<style scoped>\n",
       "    .dataframe tbody tr th:only-of-type {\n",
       "        vertical-align: middle;\n",
       "    }\n",
       "\n",
       "    .dataframe tbody tr th {\n",
       "        vertical-align: top;\n",
       "    }\n",
       "\n",
       "    .dataframe thead th {\n",
       "        text-align: right;\n",
       "    }\n",
       "</style>\n",
       "<table border=\"1\" class=\"dataframe\">\n",
       "  <thead>\n",
       "    <tr style=\"text-align: right;\">\n",
       "      <th></th>\n",
       "      <th>index</th>\n",
       "      <th>col1</th>\n",
       "      <th>col2</th>\n",
       "      <th>col3</th>\n",
       "      <th>col4</th>\n",
       "      <th>col5</th>\n",
       "    </tr>\n",
       "  </thead>\n",
       "  <tbody>\n",
       "    <tr>\n",
       "      <th>0</th>\n",
       "      <td>a</td>\n",
       "      <td>0.802484</td>\n",
       "      <td>-1.341176</td>\n",
       "      <td>0.126129</td>\n",
       "      <td>0.925566</td>\n",
       "      <td>0.079453</td>\n",
       "    </tr>\n",
       "    <tr>\n",
       "      <th>1</th>\n",
       "      <td>b</td>\n",
       "      <td>-0.520222</td>\n",
       "      <td>1.011722</td>\n",
       "      <td>-0.020256</td>\n",
       "      <td>-0.239429</td>\n",
       "      <td>-1.356958</td>\n",
       "    </tr>\n",
       "    <tr>\n",
       "      <th>2</th>\n",
       "      <td>c</td>\n",
       "      <td>0.713877</td>\n",
       "      <td>0.402437</td>\n",
       "      <td>1.105897</td>\n",
       "      <td>-0.570112</td>\n",
       "      <td>-0.428831</td>\n",
       "    </tr>\n",
       "    <tr>\n",
       "      <th>3</th>\n",
       "      <td>d</td>\n",
       "      <td>-1.177914</td>\n",
       "      <td>1.029414</td>\n",
       "      <td>1.782254</td>\n",
       "      <td>0.469737</td>\n",
       "      <td>-0.259328</td>\n",
       "    </tr>\n",
       "    <tr>\n",
       "      <th>4</th>\n",
       "      <td>e</td>\n",
       "      <td>-1.018836</td>\n",
       "      <td>-0.054572</td>\n",
       "      <td>1.270286</td>\n",
       "      <td>-1.045720</td>\n",
       "      <td>-1.955326</td>\n",
       "    </tr>\n",
       "    <tr>\n",
       "      <th>5</th>\n",
       "      <td>f</td>\n",
       "      <td>0.565734</td>\n",
       "      <td>-0.147409</td>\n",
       "      <td>0.570622</td>\n",
       "      <td>0.802046</td>\n",
       "      <td>-0.336113</td>\n",
       "    </tr>\n",
       "  </tbody>\n",
       "</table>\n",
       "</div>"
      ],
      "text/plain": [
       "  index      col1      col2      col3      col4      col5\n",
       "0     a  0.802484 -1.341176  0.126129  0.925566  0.079453\n",
       "1     b -0.520222  1.011722 -0.020256 -0.239429 -1.356958\n",
       "2     c  0.713877  0.402437  1.105897 -0.570112 -0.428831\n",
       "3     d -1.177914  1.029414  1.782254  0.469737 -0.259328\n",
       "4     e -1.018836 -0.054572  1.270286 -1.045720 -1.955326\n",
       "5     f  0.565734 -0.147409  0.570622  0.802046 -0.336113"
      ]
     },
     "execution_count": 53,
     "metadata": {},
     "output_type": "execute_result"
    }
   ],
   "source": [
    "df.reset_index()"
   ]
  },
  {
   "cell_type": "code",
   "execution_count": 54,
   "id": "c8e5bab6-f9ec-4341-ab03-63064b3d5c20",
   "metadata": {},
   "outputs": [],
   "source": [
    "states = ['TR', 'AS', 'NG', 'KA', 'MZ', 'TN']"
   ]
  },
  {
   "cell_type": "code",
   "execution_count": 55,
   "id": "c9c8a98e-2961-4724-9ad3-ddb519268cbc",
   "metadata": {},
   "outputs": [],
   "source": [
    "df['states'] = states"
   ]
  },
  {
   "cell_type": "code",
   "execution_count": 56,
   "id": "a13a9414-9f1b-4f1c-9be8-5f74eaae77a9",
   "metadata": {},
   "outputs": [
    {
     "data": {
      "text/html": [
       "<div>\n",
       "<style scoped>\n",
       "    .dataframe tbody tr th:only-of-type {\n",
       "        vertical-align: middle;\n",
       "    }\n",
       "\n",
       "    .dataframe tbody tr th {\n",
       "        vertical-align: top;\n",
       "    }\n",
       "\n",
       "    .dataframe thead th {\n",
       "        text-align: right;\n",
       "    }\n",
       "</style>\n",
       "<table border=\"1\" class=\"dataframe\">\n",
       "  <thead>\n",
       "    <tr style=\"text-align: right;\">\n",
       "      <th></th>\n",
       "      <th>col1</th>\n",
       "      <th>col2</th>\n",
       "      <th>col3</th>\n",
       "      <th>col4</th>\n",
       "      <th>col5</th>\n",
       "      <th>states</th>\n",
       "    </tr>\n",
       "  </thead>\n",
       "  <tbody>\n",
       "    <tr>\n",
       "      <th>a</th>\n",
       "      <td>0.802484</td>\n",
       "      <td>-1.341176</td>\n",
       "      <td>0.126129</td>\n",
       "      <td>0.925566</td>\n",
       "      <td>0.079453</td>\n",
       "      <td>TR</td>\n",
       "    </tr>\n",
       "    <tr>\n",
       "      <th>b</th>\n",
       "      <td>-0.520222</td>\n",
       "      <td>1.011722</td>\n",
       "      <td>-0.020256</td>\n",
       "      <td>-0.239429</td>\n",
       "      <td>-1.356958</td>\n",
       "      <td>AS</td>\n",
       "    </tr>\n",
       "    <tr>\n",
       "      <th>c</th>\n",
       "      <td>0.713877</td>\n",
       "      <td>0.402437</td>\n",
       "      <td>1.105897</td>\n",
       "      <td>-0.570112</td>\n",
       "      <td>-0.428831</td>\n",
       "      <td>NG</td>\n",
       "    </tr>\n",
       "    <tr>\n",
       "      <th>d</th>\n",
       "      <td>-1.177914</td>\n",
       "      <td>1.029414</td>\n",
       "      <td>1.782254</td>\n",
       "      <td>0.469737</td>\n",
       "      <td>-0.259328</td>\n",
       "      <td>KA</td>\n",
       "    </tr>\n",
       "    <tr>\n",
       "      <th>e</th>\n",
       "      <td>-1.018836</td>\n",
       "      <td>-0.054572</td>\n",
       "      <td>1.270286</td>\n",
       "      <td>-1.045720</td>\n",
       "      <td>-1.955326</td>\n",
       "      <td>MZ</td>\n",
       "    </tr>\n",
       "    <tr>\n",
       "      <th>f</th>\n",
       "      <td>0.565734</td>\n",
       "      <td>-0.147409</td>\n",
       "      <td>0.570622</td>\n",
       "      <td>0.802046</td>\n",
       "      <td>-0.336113</td>\n",
       "      <td>TN</td>\n",
       "    </tr>\n",
       "  </tbody>\n",
       "</table>\n",
       "</div>"
      ],
      "text/plain": [
       "       col1      col2      col3      col4      col5 states\n",
       "a  0.802484 -1.341176  0.126129  0.925566  0.079453     TR\n",
       "b -0.520222  1.011722 -0.020256 -0.239429 -1.356958     AS\n",
       "c  0.713877  0.402437  1.105897 -0.570112 -0.428831     NG\n",
       "d -1.177914  1.029414  1.782254  0.469737 -0.259328     KA\n",
       "e -1.018836 -0.054572  1.270286 -1.045720 -1.955326     MZ\n",
       "f  0.565734 -0.147409  0.570622  0.802046 -0.336113     TN"
      ]
     },
     "execution_count": 56,
     "metadata": {},
     "output_type": "execute_result"
    }
   ],
   "source": [
    "df"
   ]
  },
  {
   "cell_type": "code",
   "execution_count": 59,
   "id": "b7a601b5-2c7e-4e66-a93e-432bdb503643",
   "metadata": {},
   "outputs": [],
   "source": [
    "df.set_index('states', inplace=True)"
   ]
  },
  {
   "cell_type": "code",
   "execution_count": 60,
   "id": "3b02dce2-bad0-4290-9016-56ea3dbc1dc4",
   "metadata": {},
   "outputs": [
    {
     "data": {
      "text/html": [
       "<div>\n",
       "<style scoped>\n",
       "    .dataframe tbody tr th:only-of-type {\n",
       "        vertical-align: middle;\n",
       "    }\n",
       "\n",
       "    .dataframe tbody tr th {\n",
       "        vertical-align: top;\n",
       "    }\n",
       "\n",
       "    .dataframe thead th {\n",
       "        text-align: right;\n",
       "    }\n",
       "</style>\n",
       "<table border=\"1\" class=\"dataframe\">\n",
       "  <thead>\n",
       "    <tr style=\"text-align: right;\">\n",
       "      <th></th>\n",
       "      <th>col1</th>\n",
       "      <th>col2</th>\n",
       "      <th>col3</th>\n",
       "      <th>col4</th>\n",
       "      <th>col5</th>\n",
       "    </tr>\n",
       "    <tr>\n",
       "      <th>states</th>\n",
       "      <th></th>\n",
       "      <th></th>\n",
       "      <th></th>\n",
       "      <th></th>\n",
       "      <th></th>\n",
       "    </tr>\n",
       "  </thead>\n",
       "  <tbody>\n",
       "    <tr>\n",
       "      <th>TR</th>\n",
       "      <td>0.802484</td>\n",
       "      <td>-1.341176</td>\n",
       "      <td>0.126129</td>\n",
       "      <td>0.925566</td>\n",
       "      <td>0.079453</td>\n",
       "    </tr>\n",
       "    <tr>\n",
       "      <th>AS</th>\n",
       "      <td>-0.520222</td>\n",
       "      <td>1.011722</td>\n",
       "      <td>-0.020256</td>\n",
       "      <td>-0.239429</td>\n",
       "      <td>-1.356958</td>\n",
       "    </tr>\n",
       "    <tr>\n",
       "      <th>NG</th>\n",
       "      <td>0.713877</td>\n",
       "      <td>0.402437</td>\n",
       "      <td>1.105897</td>\n",
       "      <td>-0.570112</td>\n",
       "      <td>-0.428831</td>\n",
       "    </tr>\n",
       "    <tr>\n",
       "      <th>KA</th>\n",
       "      <td>-1.177914</td>\n",
       "      <td>1.029414</td>\n",
       "      <td>1.782254</td>\n",
       "      <td>0.469737</td>\n",
       "      <td>-0.259328</td>\n",
       "    </tr>\n",
       "    <tr>\n",
       "      <th>MZ</th>\n",
       "      <td>-1.018836</td>\n",
       "      <td>-0.054572</td>\n",
       "      <td>1.270286</td>\n",
       "      <td>-1.045720</td>\n",
       "      <td>-1.955326</td>\n",
       "    </tr>\n",
       "    <tr>\n",
       "      <th>TN</th>\n",
       "      <td>0.565734</td>\n",
       "      <td>-0.147409</td>\n",
       "      <td>0.570622</td>\n",
       "      <td>0.802046</td>\n",
       "      <td>-0.336113</td>\n",
       "    </tr>\n",
       "  </tbody>\n",
       "</table>\n",
       "</div>"
      ],
      "text/plain": [
       "            col1      col2      col3      col4      col5\n",
       "states                                                  \n",
       "TR      0.802484 -1.341176  0.126129  0.925566  0.079453\n",
       "AS     -0.520222  1.011722 -0.020256 -0.239429 -1.356958\n",
       "NG      0.713877  0.402437  1.105897 -0.570112 -0.428831\n",
       "KA     -1.177914  1.029414  1.782254  0.469737 -0.259328\n",
       "MZ     -1.018836 -0.054572  1.270286 -1.045720 -1.955326\n",
       "TN      0.565734 -0.147409  0.570622  0.802046 -0.336113"
      ]
     },
     "execution_count": 60,
     "metadata": {},
     "output_type": "execute_result"
    }
   ],
   "source": [
    "df"
   ]
  },
  {
   "cell_type": "markdown",
   "id": "45bb7af9-a2dc-463a-9576-1f31257e97be",
   "metadata": {},
   "source": [
    "## Hierarchy & Multiple Index"
   ]
  },
  {
   "cell_type": "code",
   "execution_count": 61,
   "id": "645a2ffc-062b-472c-abe2-1a995ea5d264",
   "metadata": {},
   "outputs": [],
   "source": [
    "ots = ['grp1', 'grp1', 'grp1', 'grp2', 'grp2', 'grp2']\n",
    "ins = [1,2,3,1,2,3]\n",
    "hierarchy_index = list(zip(ots, ins))\n",
    "hierarchy_index = pd.MultiIndex.from_tuples(hierarchy_index)"
   ]
  },
  {
   "cell_type": "code",
   "execution_count": 62,
   "id": "929e0ca2-9697-4150-9004-76d4bf1e7a78",
   "metadata": {},
   "outputs": [
    {
     "data": {
      "text/plain": [
       "MultiIndex([('grp1', 1),\n",
       "            ('grp1', 2),\n",
       "            ('grp1', 3),\n",
       "            ('grp2', 1),\n",
       "            ('grp2', 2),\n",
       "            ('grp2', 3)],\n",
       "           )"
      ]
     },
     "execution_count": 62,
     "metadata": {},
     "output_type": "execute_result"
    }
   ],
   "source": [
    "hierarchy_index"
   ]
  },
  {
   "cell_type": "code",
   "execution_count": 63,
   "id": "deaadf53-2e56-4c6b-b280-d2c343da7f75",
   "metadata": {},
   "outputs": [],
   "source": [
    "df = pd.DataFrame(np.random.randn(6,3), index = hierarchy_index, columns = ['col1', 'col2', 'col3'])"
   ]
  },
  {
   "cell_type": "code",
   "execution_count": 64,
   "id": "d8ce53b7-2e64-473d-9cd1-7f585de14ad5",
   "metadata": {},
   "outputs": [
    {
     "data": {
      "text/html": [
       "<div>\n",
       "<style scoped>\n",
       "    .dataframe tbody tr th:only-of-type {\n",
       "        vertical-align: middle;\n",
       "    }\n",
       "\n",
       "    .dataframe tbody tr th {\n",
       "        vertical-align: top;\n",
       "    }\n",
       "\n",
       "    .dataframe thead th {\n",
       "        text-align: right;\n",
       "    }\n",
       "</style>\n",
       "<table border=\"1\" class=\"dataframe\">\n",
       "  <thead>\n",
       "    <tr style=\"text-align: right;\">\n",
       "      <th></th>\n",
       "      <th></th>\n",
       "      <th>col1</th>\n",
       "      <th>col2</th>\n",
       "      <th>col3</th>\n",
       "    </tr>\n",
       "  </thead>\n",
       "  <tbody>\n",
       "    <tr>\n",
       "      <th rowspan=\"3\" valign=\"top\">grp1</th>\n",
       "      <th>1</th>\n",
       "      <td>1.536204</td>\n",
       "      <td>-0.217742</td>\n",
       "      <td>0.440055</td>\n",
       "    </tr>\n",
       "    <tr>\n",
       "      <th>2</th>\n",
       "      <td>-0.714073</td>\n",
       "      <td>1.285093</td>\n",
       "      <td>-1.306593</td>\n",
       "    </tr>\n",
       "    <tr>\n",
       "      <th>3</th>\n",
       "      <td>-0.254242</td>\n",
       "      <td>-1.402529</td>\n",
       "      <td>-0.787831</td>\n",
       "    </tr>\n",
       "    <tr>\n",
       "      <th rowspan=\"3\" valign=\"top\">grp2</th>\n",
       "      <th>1</th>\n",
       "      <td>0.028043</td>\n",
       "      <td>0.605172</td>\n",
       "      <td>-0.343250</td>\n",
       "    </tr>\n",
       "    <tr>\n",
       "      <th>2</th>\n",
       "      <td>-2.652497</td>\n",
       "      <td>1.169120</td>\n",
       "      <td>0.354369</td>\n",
       "    </tr>\n",
       "    <tr>\n",
       "      <th>3</th>\n",
       "      <td>-0.271978</td>\n",
       "      <td>-0.993982</td>\n",
       "      <td>0.636917</td>\n",
       "    </tr>\n",
       "  </tbody>\n",
       "</table>\n",
       "</div>"
      ],
      "text/plain": [
       "            col1      col2      col3\n",
       "grp1 1  1.536204 -0.217742  0.440055\n",
       "     2 -0.714073  1.285093 -1.306593\n",
       "     3 -0.254242 -1.402529 -0.787831\n",
       "grp2 1  0.028043  0.605172 -0.343250\n",
       "     2 -2.652497  1.169120  0.354369\n",
       "     3 -0.271978 -0.993982  0.636917"
      ]
     },
     "execution_count": 64,
     "metadata": {},
     "output_type": "execute_result"
    }
   ],
   "source": [
    "df"
   ]
  },
  {
   "cell_type": "code",
   "execution_count": 67,
   "id": "238c1a14-8780-460f-90c8-12c42a173856",
   "metadata": {},
   "outputs": [
    {
     "data": {
      "text/plain": [
       "col1   -0.714073\n",
       "col2    1.285093\n",
       "col3   -1.306593\n",
       "Name: 2, dtype: float64"
      ]
     },
     "execution_count": 67,
     "metadata": {},
     "output_type": "execute_result"
    }
   ],
   "source": [
    "df.loc['grp1'].loc[2]"
   ]
  },
  {
   "cell_type": "code",
   "execution_count": 68,
   "id": "b0557988-56ef-4199-bd84-0051d6367268",
   "metadata": {},
   "outputs": [
    {
     "data": {
      "text/plain": [
       "0.6369167816345122"
      ]
     },
     "execution_count": 68,
     "metadata": {},
     "output_type": "execute_result"
    }
   ],
   "source": [
    "df.loc['grp2'].loc[ 3, 'col3' ]"
   ]
  },
  {
   "cell_type": "code",
   "execution_count": 69,
   "id": "0e8fd2e9-0e29-4599-bfe8-4ef5b03d38dc",
   "metadata": {},
   "outputs": [
    {
     "data": {
      "text/html": [
       "<div>\n",
       "<style scoped>\n",
       "    .dataframe tbody tr th:only-of-type {\n",
       "        vertical-align: middle;\n",
       "    }\n",
       "\n",
       "    .dataframe tbody tr th {\n",
       "        vertical-align: top;\n",
       "    }\n",
       "\n",
       "    .dataframe thead th {\n",
       "        text-align: right;\n",
       "    }\n",
       "</style>\n",
       "<table border=\"1\" class=\"dataframe\">\n",
       "  <thead>\n",
       "    <tr style=\"text-align: right;\">\n",
       "      <th></th>\n",
       "      <th></th>\n",
       "      <th>col1</th>\n",
       "      <th>col2</th>\n",
       "      <th>col3</th>\n",
       "    </tr>\n",
       "  </thead>\n",
       "  <tbody>\n",
       "    <tr>\n",
       "      <th rowspan=\"3\" valign=\"top\">grp1</th>\n",
       "      <th>1</th>\n",
       "      <td>1.536204</td>\n",
       "      <td>-0.217742</td>\n",
       "      <td>0.440055</td>\n",
       "    </tr>\n",
       "    <tr>\n",
       "      <th>2</th>\n",
       "      <td>-0.714073</td>\n",
       "      <td>1.285093</td>\n",
       "      <td>-1.306593</td>\n",
       "    </tr>\n",
       "    <tr>\n",
       "      <th>3</th>\n",
       "      <td>-0.254242</td>\n",
       "      <td>-1.402529</td>\n",
       "      <td>-0.787831</td>\n",
       "    </tr>\n",
       "    <tr>\n",
       "      <th rowspan=\"3\" valign=\"top\">grp2</th>\n",
       "      <th>1</th>\n",
       "      <td>0.028043</td>\n",
       "      <td>0.605172</td>\n",
       "      <td>-0.343250</td>\n",
       "    </tr>\n",
       "    <tr>\n",
       "      <th>2</th>\n",
       "      <td>-2.652497</td>\n",
       "      <td>1.169120</td>\n",
       "      <td>0.354369</td>\n",
       "    </tr>\n",
       "    <tr>\n",
       "      <th>3</th>\n",
       "      <td>-0.271978</td>\n",
       "      <td>-0.993982</td>\n",
       "      <td>0.636917</td>\n",
       "    </tr>\n",
       "  </tbody>\n",
       "</table>\n",
       "</div>"
      ],
      "text/plain": [
       "            col1      col2      col3\n",
       "grp1 1  1.536204 -0.217742  0.440055\n",
       "     2 -0.714073  1.285093 -1.306593\n",
       "     3 -0.254242 -1.402529 -0.787831\n",
       "grp2 1  0.028043  0.605172 -0.343250\n",
       "     2 -2.652497  1.169120  0.354369\n",
       "     3 -0.271978 -0.993982  0.636917"
      ]
     },
     "execution_count": 69,
     "metadata": {},
     "output_type": "execute_result"
    }
   ],
   "source": [
    "df"
   ]
  },
  {
   "cell_type": "code",
   "execution_count": 70,
   "id": "2033106f-6cf2-4532-b45e-98b41e9812ec",
   "metadata": {},
   "outputs": [
    {
     "data": {
      "text/plain": [
       "FrozenList([None, None])"
      ]
     },
     "execution_count": 70,
     "metadata": {},
     "output_type": "execute_result"
    }
   ],
   "source": [
    "df.index.names"
   ]
  },
  {
   "cell_type": "code",
   "execution_count": 71,
   "id": "a9df4144-1517-42f5-8cb6-fc1156e3c602",
   "metadata": {},
   "outputs": [],
   "source": [
    "df.index.names = ['GROUPS', 'SUB-GROUPS']"
   ]
  },
  {
   "cell_type": "code",
   "execution_count": 72,
   "id": "34be9783-9f4e-495e-929a-852528b54688",
   "metadata": {},
   "outputs": [
    {
     "data": {
      "text/html": [
       "<div>\n",
       "<style scoped>\n",
       "    .dataframe tbody tr th:only-of-type {\n",
       "        vertical-align: middle;\n",
       "    }\n",
       "\n",
       "    .dataframe tbody tr th {\n",
       "        vertical-align: top;\n",
       "    }\n",
       "\n",
       "    .dataframe thead th {\n",
       "        text-align: right;\n",
       "    }\n",
       "</style>\n",
       "<table border=\"1\" class=\"dataframe\">\n",
       "  <thead>\n",
       "    <tr style=\"text-align: right;\">\n",
       "      <th></th>\n",
       "      <th></th>\n",
       "      <th>col1</th>\n",
       "      <th>col2</th>\n",
       "      <th>col3</th>\n",
       "    </tr>\n",
       "    <tr>\n",
       "      <th>GROUPS</th>\n",
       "      <th>SUB-GROUPS</th>\n",
       "      <th></th>\n",
       "      <th></th>\n",
       "      <th></th>\n",
       "    </tr>\n",
       "  </thead>\n",
       "  <tbody>\n",
       "    <tr>\n",
       "      <th rowspan=\"3\" valign=\"top\">grp1</th>\n",
       "      <th>1</th>\n",
       "      <td>1.536204</td>\n",
       "      <td>-0.217742</td>\n",
       "      <td>0.440055</td>\n",
       "    </tr>\n",
       "    <tr>\n",
       "      <th>2</th>\n",
       "      <td>-0.714073</td>\n",
       "      <td>1.285093</td>\n",
       "      <td>-1.306593</td>\n",
       "    </tr>\n",
       "    <tr>\n",
       "      <th>3</th>\n",
       "      <td>-0.254242</td>\n",
       "      <td>-1.402529</td>\n",
       "      <td>-0.787831</td>\n",
       "    </tr>\n",
       "    <tr>\n",
       "      <th rowspan=\"3\" valign=\"top\">grp2</th>\n",
       "      <th>1</th>\n",
       "      <td>0.028043</td>\n",
       "      <td>0.605172</td>\n",
       "      <td>-0.343250</td>\n",
       "    </tr>\n",
       "    <tr>\n",
       "      <th>2</th>\n",
       "      <td>-2.652497</td>\n",
       "      <td>1.169120</td>\n",
       "      <td>0.354369</td>\n",
       "    </tr>\n",
       "    <tr>\n",
       "      <th>3</th>\n",
       "      <td>-0.271978</td>\n",
       "      <td>-0.993982</td>\n",
       "      <td>0.636917</td>\n",
       "    </tr>\n",
       "  </tbody>\n",
       "</table>\n",
       "</div>"
      ],
      "text/plain": [
       "                       col1      col2      col3\n",
       "GROUPS SUB-GROUPS                              \n",
       "grp1   1           1.536204 -0.217742  0.440055\n",
       "       2          -0.714073  1.285093 -1.306593\n",
       "       3          -0.254242 -1.402529 -0.787831\n",
       "grp2   1           0.028043  0.605172 -0.343250\n",
       "       2          -2.652497  1.169120  0.354369\n",
       "       3          -0.271978 -0.993982  0.636917"
      ]
     },
     "execution_count": 72,
     "metadata": {},
     "output_type": "execute_result"
    }
   ],
   "source": [
    "df"
   ]
  },
  {
   "cell_type": "code",
   "execution_count": 73,
   "id": "b542993b-4f59-4507-81f7-8eb6805f4734",
   "metadata": {},
   "outputs": [
    {
     "data": {
      "text/html": [
       "<div>\n",
       "<style scoped>\n",
       "    .dataframe tbody tr th:only-of-type {\n",
       "        vertical-align: middle;\n",
       "    }\n",
       "\n",
       "    .dataframe tbody tr th {\n",
       "        vertical-align: top;\n",
       "    }\n",
       "\n",
       "    .dataframe thead th {\n",
       "        text-align: right;\n",
       "    }\n",
       "</style>\n",
       "<table border=\"1\" class=\"dataframe\">\n",
       "  <thead>\n",
       "    <tr style=\"text-align: right;\">\n",
       "      <th></th>\n",
       "      <th>col1</th>\n",
       "      <th>col2</th>\n",
       "      <th>col3</th>\n",
       "    </tr>\n",
       "    <tr>\n",
       "      <th>SUB-GROUPS</th>\n",
       "      <th></th>\n",
       "      <th></th>\n",
       "      <th></th>\n",
       "    </tr>\n",
       "  </thead>\n",
       "  <tbody>\n",
       "    <tr>\n",
       "      <th>1</th>\n",
       "      <td>1.536204</td>\n",
       "      <td>-0.217742</td>\n",
       "      <td>0.440055</td>\n",
       "    </tr>\n",
       "    <tr>\n",
       "      <th>2</th>\n",
       "      <td>-0.714073</td>\n",
       "      <td>1.285093</td>\n",
       "      <td>-1.306593</td>\n",
       "    </tr>\n",
       "    <tr>\n",
       "      <th>3</th>\n",
       "      <td>-0.254242</td>\n",
       "      <td>-1.402529</td>\n",
       "      <td>-0.787831</td>\n",
       "    </tr>\n",
       "  </tbody>\n",
       "</table>\n",
       "</div>"
      ],
      "text/plain": [
       "                col1      col2      col3\n",
       "SUB-GROUPS                              \n",
       "1           1.536204 -0.217742  0.440055\n",
       "2          -0.714073  1.285093 -1.306593\n",
       "3          -0.254242 -1.402529 -0.787831"
      ]
     },
     "execution_count": 73,
     "metadata": {},
     "output_type": "execute_result"
    }
   ],
   "source": [
    "df.loc['grp1']"
   ]
  },
  {
   "cell_type": "code",
   "execution_count": 74,
   "id": "85977133-3717-4a21-b513-99019c3eb12c",
   "metadata": {},
   "outputs": [
    {
     "data": {
      "text/html": [
       "<div>\n",
       "<style scoped>\n",
       "    .dataframe tbody tr th:only-of-type {\n",
       "        vertical-align: middle;\n",
       "    }\n",
       "\n",
       "    .dataframe tbody tr th {\n",
       "        vertical-align: top;\n",
       "    }\n",
       "\n",
       "    .dataframe thead th {\n",
       "        text-align: right;\n",
       "    }\n",
       "</style>\n",
       "<table border=\"1\" class=\"dataframe\">\n",
       "  <thead>\n",
       "    <tr style=\"text-align: right;\">\n",
       "      <th></th>\n",
       "      <th>col1</th>\n",
       "      <th>col2</th>\n",
       "      <th>col3</th>\n",
       "    </tr>\n",
       "    <tr>\n",
       "      <th>SUB-GROUPS</th>\n",
       "      <th></th>\n",
       "      <th></th>\n",
       "      <th></th>\n",
       "    </tr>\n",
       "  </thead>\n",
       "  <tbody>\n",
       "    <tr>\n",
       "      <th>1</th>\n",
       "      <td>1.536204</td>\n",
       "      <td>-0.217742</td>\n",
       "      <td>0.440055</td>\n",
       "    </tr>\n",
       "    <tr>\n",
       "      <th>2</th>\n",
       "      <td>-0.714073</td>\n",
       "      <td>1.285093</td>\n",
       "      <td>-1.306593</td>\n",
       "    </tr>\n",
       "    <tr>\n",
       "      <th>3</th>\n",
       "      <td>-0.254242</td>\n",
       "      <td>-1.402529</td>\n",
       "      <td>-0.787831</td>\n",
       "    </tr>\n",
       "  </tbody>\n",
       "</table>\n",
       "</div>"
      ],
      "text/plain": [
       "                col1      col2      col3\n",
       "SUB-GROUPS                              \n",
       "1           1.536204 -0.217742  0.440055\n",
       "2          -0.714073  1.285093 -1.306593\n",
       "3          -0.254242 -1.402529 -0.787831"
      ]
     },
     "execution_count": 74,
     "metadata": {},
     "output_type": "execute_result"
    }
   ],
   "source": [
    "df.xs('grp1') # old method. not used now. some functions are depreciated"
   ]
  },
  {
   "cell_type": "markdown",
   "id": "0ae79944-f260-403d-9df6-aff8a7fd8ae0",
   "metadata": {},
   "source": [
    "## Handling Missing Data Points"
   ]
  },
  {
   "cell_type": "code",
   "execution_count": 84,
   "id": "621078a9-9501-49ec-b6ad-54f48312dc66",
   "metadata": {},
   "outputs": [],
   "source": [
    "df = pd.DataFrame( {\n",
    "'col1' : [25,45, 5],\n",
    "'col2' : [75,np.nan,87],\n",
    "'col3' : [33, np.nan, 90]\n",
    "    \n",
    "} )"
   ]
  },
  {
   "cell_type": "code",
   "execution_count": 85,
   "id": "afd36d8a-fa42-4bd6-9194-10e3fff0ec0d",
   "metadata": {},
   "outputs": [
    {
     "data": {
      "text/html": [
       "<div>\n",
       "<style scoped>\n",
       "    .dataframe tbody tr th:only-of-type {\n",
       "        vertical-align: middle;\n",
       "    }\n",
       "\n",
       "    .dataframe tbody tr th {\n",
       "        vertical-align: top;\n",
       "    }\n",
       "\n",
       "    .dataframe thead th {\n",
       "        text-align: right;\n",
       "    }\n",
       "</style>\n",
       "<table border=\"1\" class=\"dataframe\">\n",
       "  <thead>\n",
       "    <tr style=\"text-align: right;\">\n",
       "      <th></th>\n",
       "      <th>col1</th>\n",
       "      <th>col2</th>\n",
       "      <th>col3</th>\n",
       "    </tr>\n",
       "  </thead>\n",
       "  <tbody>\n",
       "    <tr>\n",
       "      <th>0</th>\n",
       "      <td>25</td>\n",
       "      <td>75.0</td>\n",
       "      <td>33.0</td>\n",
       "    </tr>\n",
       "    <tr>\n",
       "      <th>1</th>\n",
       "      <td>45</td>\n",
       "      <td>NaN</td>\n",
       "      <td>NaN</td>\n",
       "    </tr>\n",
       "    <tr>\n",
       "      <th>2</th>\n",
       "      <td>5</td>\n",
       "      <td>87.0</td>\n",
       "      <td>90.0</td>\n",
       "    </tr>\n",
       "  </tbody>\n",
       "</table>\n",
       "</div>"
      ],
      "text/plain": [
       "   col1  col2  col3\n",
       "0    25  75.0  33.0\n",
       "1    45   NaN   NaN\n",
       "2     5  87.0  90.0"
      ]
     },
     "execution_count": 85,
     "metadata": {},
     "output_type": "execute_result"
    }
   ],
   "source": [
    "df"
   ]
  },
  {
   "cell_type": "code",
   "execution_count": 86,
   "id": "389e89bb-69a8-4b87-b613-9cf69fee092b",
   "metadata": {},
   "outputs": [
    {
     "data": {
      "text/html": [
       "<div>\n",
       "<style scoped>\n",
       "    .dataframe tbody tr th:only-of-type {\n",
       "        vertical-align: middle;\n",
       "    }\n",
       "\n",
       "    .dataframe tbody tr th {\n",
       "        vertical-align: top;\n",
       "    }\n",
       "\n",
       "    .dataframe thead th {\n",
       "        text-align: right;\n",
       "    }\n",
       "</style>\n",
       "<table border=\"1\" class=\"dataframe\">\n",
       "  <thead>\n",
       "    <tr style=\"text-align: right;\">\n",
       "      <th></th>\n",
       "      <th>col1</th>\n",
       "      <th>col2</th>\n",
       "      <th>col3</th>\n",
       "    </tr>\n",
       "  </thead>\n",
       "  <tbody>\n",
       "    <tr>\n",
       "      <th>0</th>\n",
       "      <td>25</td>\n",
       "      <td>75.0</td>\n",
       "      <td>33.0</td>\n",
       "    </tr>\n",
       "    <tr>\n",
       "      <th>2</th>\n",
       "      <td>5</td>\n",
       "      <td>87.0</td>\n",
       "      <td>90.0</td>\n",
       "    </tr>\n",
       "  </tbody>\n",
       "</table>\n",
       "</div>"
      ],
      "text/plain": [
       "   col1  col2  col3\n",
       "0    25  75.0  33.0\n",
       "2     5  87.0  90.0"
      ]
     },
     "execution_count": 86,
     "metadata": {},
     "output_type": "execute_result"
    }
   ],
   "source": [
    "df.dropna() # row wise***"
   ]
  },
  {
   "cell_type": "code",
   "execution_count": 88,
   "id": "f3c20d33-b479-42a9-a10f-2aa9e8e08914",
   "metadata": {},
   "outputs": [
    {
     "data": {
      "text/html": [
       "<div>\n",
       "<style scoped>\n",
       "    .dataframe tbody tr th:only-of-type {\n",
       "        vertical-align: middle;\n",
       "    }\n",
       "\n",
       "    .dataframe tbody tr th {\n",
       "        vertical-align: top;\n",
       "    }\n",
       "\n",
       "    .dataframe thead th {\n",
       "        text-align: right;\n",
       "    }\n",
       "</style>\n",
       "<table border=\"1\" class=\"dataframe\">\n",
       "  <thead>\n",
       "    <tr style=\"text-align: right;\">\n",
       "      <th></th>\n",
       "      <th>col1</th>\n",
       "    </tr>\n",
       "  </thead>\n",
       "  <tbody>\n",
       "    <tr>\n",
       "      <th>0</th>\n",
       "      <td>25</td>\n",
       "    </tr>\n",
       "    <tr>\n",
       "      <th>1</th>\n",
       "      <td>45</td>\n",
       "    </tr>\n",
       "    <tr>\n",
       "      <th>2</th>\n",
       "      <td>5</td>\n",
       "    </tr>\n",
       "  </tbody>\n",
       "</table>\n",
       "</div>"
      ],
      "text/plain": [
       "   col1\n",
       "0    25\n",
       "1    45\n",
       "2     5"
      ]
     },
     "execution_count": 88,
     "metadata": {},
     "output_type": "execute_result"
    }
   ],
   "source": [
    "df.dropna(axis=1) # column wise"
   ]
  },
  {
   "cell_type": "code",
   "execution_count": null,
   "id": "2f5b1f72-b866-4ddc-8623-2a22346720cf",
   "metadata": {},
   "outputs": [],
   "source": []
  },
  {
   "cell_type": "code",
   "execution_count": 89,
   "id": "fd875e8d-9731-4767-9b2f-8d295b3e9252",
   "metadata": {},
   "outputs": [
    {
     "data": {
      "text/html": [
       "<div>\n",
       "<style scoped>\n",
       "    .dataframe tbody tr th:only-of-type {\n",
       "        vertical-align: middle;\n",
       "    }\n",
       "\n",
       "    .dataframe tbody tr th {\n",
       "        vertical-align: top;\n",
       "    }\n",
       "\n",
       "    .dataframe thead th {\n",
       "        text-align: right;\n",
       "    }\n",
       "</style>\n",
       "<table border=\"1\" class=\"dataframe\">\n",
       "  <thead>\n",
       "    <tr style=\"text-align: right;\">\n",
       "      <th></th>\n",
       "      <th>col1</th>\n",
       "      <th>col2</th>\n",
       "      <th>col3</th>\n",
       "    </tr>\n",
       "  </thead>\n",
       "  <tbody>\n",
       "    <tr>\n",
       "      <th>0</th>\n",
       "      <td>25</td>\n",
       "      <td>75.0</td>\n",
       "      <td>33.0</td>\n",
       "    </tr>\n",
       "    <tr>\n",
       "      <th>1</th>\n",
       "      <td>45</td>\n",
       "      <td>TANMOY</td>\n",
       "      <td>TANMOY</td>\n",
       "    </tr>\n",
       "    <tr>\n",
       "      <th>2</th>\n",
       "      <td>5</td>\n",
       "      <td>87.0</td>\n",
       "      <td>90.0</td>\n",
       "    </tr>\n",
       "  </tbody>\n",
       "</table>\n",
       "</div>"
      ],
      "text/plain": [
       "   col1    col2    col3\n",
       "0    25    75.0    33.0\n",
       "1    45  TANMOY  TANMOY\n",
       "2     5    87.0    90.0"
      ]
     },
     "execution_count": 89,
     "metadata": {},
     "output_type": "execute_result"
    }
   ],
   "source": [
    "df.fillna(value = 'TANMOY')"
   ]
  },
  {
   "cell_type": "code",
   "execution_count": 90,
   "id": "3e5e093e-ca28-41b4-a29c-fe32f571af2b",
   "metadata": {},
   "outputs": [
    {
     "data": {
      "text/html": [
       "<div>\n",
       "<style scoped>\n",
       "    .dataframe tbody tr th:only-of-type {\n",
       "        vertical-align: middle;\n",
       "    }\n",
       "\n",
       "    .dataframe tbody tr th {\n",
       "        vertical-align: top;\n",
       "    }\n",
       "\n",
       "    .dataframe thead th {\n",
       "        text-align: right;\n",
       "    }\n",
       "</style>\n",
       "<table border=\"1\" class=\"dataframe\">\n",
       "  <thead>\n",
       "    <tr style=\"text-align: right;\">\n",
       "      <th></th>\n",
       "      <th>col1</th>\n",
       "      <th>col2</th>\n",
       "      <th>col3</th>\n",
       "    </tr>\n",
       "  </thead>\n",
       "  <tbody>\n",
       "    <tr>\n",
       "      <th>0</th>\n",
       "      <td>25</td>\n",
       "      <td>75.0</td>\n",
       "      <td>33.0</td>\n",
       "    </tr>\n",
       "    <tr>\n",
       "      <th>1</th>\n",
       "      <td>45</td>\n",
       "      <td>NaN</td>\n",
       "      <td>NaN</td>\n",
       "    </tr>\n",
       "    <tr>\n",
       "      <th>2</th>\n",
       "      <td>5</td>\n",
       "      <td>87.0</td>\n",
       "      <td>90.0</td>\n",
       "    </tr>\n",
       "  </tbody>\n",
       "</table>\n",
       "</div>"
      ],
      "text/plain": [
       "   col1  col2  col3\n",
       "0    25  75.0  33.0\n",
       "1    45   NaN   NaN\n",
       "2     5  87.0  90.0"
      ]
     },
     "execution_count": 90,
     "metadata": {},
     "output_type": "execute_result"
    }
   ],
   "source": [
    "df"
   ]
  },
  {
   "cell_type": "code",
   "execution_count": 91,
   "id": "2856ab93-ffcc-4c91-bfe4-7bedf7e31f62",
   "metadata": {},
   "outputs": [
    {
     "data": {
      "text/plain": [
       "0    75.0\n",
       "1    25.0\n",
       "2    87.0\n",
       "Name: col2, dtype: float64"
      ]
     },
     "execution_count": 91,
     "metadata": {},
     "output_type": "execute_result"
    }
   ],
   "source": [
    "df['col2'].fillna(value=df['col1'].mean())"
   ]
  },
  {
   "cell_type": "code",
   "execution_count": null,
   "id": "ff6ba791-de5d-4e77-84e2-7dc6b3d13ba5",
   "metadata": {},
   "outputs": [],
   "source": []
  }
 ],
 "metadata": {
  "kernelspec": {
   "display_name": "Python 3 (ipykernel)",
   "language": "python",
   "name": "python3"
  },
  "language_info": {
   "codemirror_mode": {
    "name": "ipython",
    "version": 3
   },
   "file_extension": ".py",
   "mimetype": "text/x-python",
   "name": "python",
   "nbconvert_exporter": "python",
   "pygments_lexer": "ipython3",
   "version": "3.12.1"
  }
 },
 "nbformat": 4,
 "nbformat_minor": 5
}
