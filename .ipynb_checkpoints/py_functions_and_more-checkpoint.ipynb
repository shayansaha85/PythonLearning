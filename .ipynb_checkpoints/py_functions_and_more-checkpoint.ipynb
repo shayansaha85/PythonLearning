{
 "cells": [
  {
   "cell_type": "markdown",
   "id": "1195c291-9af1-4fdd-873f-067001800afb",
   "metadata": {},
   "source": [
    "**Previous Day Task**\n",
    "---"
   ]
  },
  {
   "cell_type": "code",
   "execution_count": 7,
   "id": "c2021c53-c483-4067-87d8-a9934c2ac7d1",
   "metadata": {},
   "outputs": [
    {
     "name": "stdout",
     "output_type": "stream",
     "text": [
      "2 --> 3\n",
      "1 --> 3\n",
      "5 --> 1\n",
      "8 --> 1\n",
      "0 --> 1\n",
      "6 --> 3\n"
     ]
    }
   ],
   "source": [
    "li = [2, 1, 5, 8, 2, 1, 1, 2, 0, 6, 6, 6]\n",
    "unique_element = []\n",
    "\n",
    "for x in li:\n",
    "    if x not in unique_element:\n",
    "        unique_element.append(x)\n",
    "\n",
    "for y in unique_element:\n",
    "    count_of_element = li.count(y)\n",
    "    print(f\"{y} --> {count_of_element}\")"
   ]
  },
  {
   "cell_type": "markdown",
   "id": "96661c5b-2416-4f56-9926-33a90a38fb2c",
   "metadata": {},
   "source": [
    "**Question Of The Day**\n",
    "-----\n",
    "\n",
    "```ekta list ase = [4,5,3,5,6,7], amar output lagbo jeti prime oitir jagat PRIME, R jeti prime na oitir jagat NON-PRIME```\n",
    "<br>\n",
    "```ei list er leiga output hoibo [\"NON-PRIME\", \"PRIME\", \"PRIME\", \"PRIME\", \"NON-PRIME\", \"PRIME\"]```"
   ]
  },
  {
   "cell_type": "code",
   "execution_count": 13,
   "id": "332b2389-8fba-41b4-ad0c-11bb0abcb373",
   "metadata": {},
   "outputs": [
    {
     "name": "stdout",
     "output_type": "stream",
     "text": [
      "['NON-PRIME', 'PRIME', 'PRIME', 'PRIME', 'NON-PRIME', 'PRIME']\n"
     ]
    }
   ],
   "source": [
    "li = [4,5,3,5,6,7]\n",
    "output = []\n",
    "\n",
    "for x in li:\n",
    "    count = 0\n",
    "    for i in range(2, x+1): \n",
    "        if x%i == 0:\n",
    "            count += 1\n",
    "    if count == 1:\n",
    "        output.append(\"PRIME\")\n",
    "    else:\n",
    "        output.append(\"NON-PRIME\")\n",
    "\n",
    "print(output)"
   ]
  },
  {
   "cell_type": "markdown",
   "id": "952eac2d-c021-4c02-9afe-8e7bdf616811",
   "metadata": {},
   "source": [
    "# Functions\n",
    "---"
   ]
  },
  {
   "cell_type": "markdown",
   "id": "19a322ba-92ef-40a6-8c9e-503cf29cf90b",
   "metadata": {},
   "source": [
    "```f(x) = x+9```\n",
    "<br>\n",
    "```f(2) = 11```"
   ]
  },
  {
   "cell_type": "code",
   "execution_count": 15,
   "id": "1046f805-faed-4fc6-b9c8-fbce699edf30",
   "metadata": {},
   "outputs": [
    {
     "name": "stdout",
     "output_type": "stream",
     "text": [
      "11\n"
     ]
    }
   ],
   "source": [
    "def subham(x):\n",
    "    print(x+9)\n",
    "\n",
    "subham(2)"
   ]
  },
  {
   "cell_type": "code",
   "execution_count": 16,
   "id": "d811a798-993d-4fda-a281-124e535e2f47",
   "metadata": {},
   "outputs": [],
   "source": [
    "# void function --> jei function er value reuse kora jayna\n",
    "# return function --> jei function er value reuse kora jayy"
   ]
  },
  {
   "cell_type": "code",
   "execution_count": 24,
   "id": "44739984-0380-4855-a515-e951531c517a",
   "metadata": {},
   "outputs": [],
   "source": [
    "def add1(x,y):\n",
    "    print(x+y) # void function | always avoid\n",
    "\n",
    "def add2(x,y):\n",
    "    return x+y # return function | always use"
   ]
  },
  {
   "cell_type": "code",
   "execution_count": 25,
   "id": "78e6eb9c-0a17-44fa-8189-b13fbfd46d79",
   "metadata": {},
   "outputs": [
    {
     "name": "stdout",
     "output_type": "stream",
     "text": [
      "8\n",
      "None\n"
     ]
    }
   ],
   "source": [
    "print(add1(5,3))"
   ]
  },
  {
   "cell_type": "code",
   "execution_count": 26,
   "id": "1e1c1188-70c9-4cc3-9efa-8c693a0bae44",
   "metadata": {},
   "outputs": [
    {
     "name": "stdout",
     "output_type": "stream",
     "text": [
      "8\n"
     ]
    }
   ],
   "source": [
    "print(add2(5,3))"
   ]
  },
  {
   "cell_type": "code",
   "execution_count": 34,
   "id": "e449781a-b86f-41ad-bae8-f4bc1b0f0718",
   "metadata": {},
   "outputs": [],
   "source": [
    "def isPrime(number):\n",
    "    count = 0\n",
    "    for i in range(2, number+1):\n",
    "        if number%i == 0:\n",
    "            count +=1\n",
    "    if count == 1:\n",
    "        return True\n",
    "    else:\n",
    "        return False"
   ]
  },
  {
   "cell_type": "code",
   "execution_count": 35,
   "id": "ee1ddbb5-58d1-466e-95bc-e5ee6e4c5b3a",
   "metadata": {},
   "outputs": [
    {
     "name": "stdout",
     "output_type": "stream",
     "text": [
      "NON-PRIME\n"
     ]
    }
   ],
   "source": [
    "number = 65\n",
    "\n",
    "if isPrime(number):\n",
    "    print(\"PRIME\")\n",
    "else:\n",
    "    print(\"NON-PRIME\")"
   ]
  },
  {
   "cell_type": "code",
   "execution_count": 36,
   "id": "8530ada0-3801-4f7b-9ef0-ae82b95033b9",
   "metadata": {},
   "outputs": [],
   "source": [
    "li = [4,5,3,5,6,7]\n",
    "output = []\n",
    "for x in li:\n",
    "    if isPrime(x):\n",
    "        output.append(\"PRIME\")\n",
    "    else:\n",
    "        output.append(\"NON-PRIME\")"
   ]
  },
  {
   "cell_type": "code",
   "execution_count": 33,
   "id": "9ed931d3-36e2-41b3-907b-d40f32f6d8cb",
   "metadata": {},
   "outputs": [
    {
     "data": {
      "text/plain": [
       "['NON-PRIME', 'PRIME', 'PRIME', 'PRIME', 'NON-PRIME', 'PRIME']"
      ]
     },
     "execution_count": 33,
     "metadata": {},
     "output_type": "execute_result"
    }
   ],
   "source": [
    "output"
   ]
  },
  {
   "cell_type": "markdown",
   "id": "d4f5ae17-0ccc-483a-92e1-e40611ea08b7",
   "metadata": {},
   "source": [
    "#### DRY Method | DRY >> Don't Repeat Yourself"
   ]
  },
  {
   "cell_type": "code",
   "execution_count": 49,
   "id": "f4aada7f-c2fd-4ff2-ad46-b05376be135b",
   "metadata": {},
   "outputs": [
    {
     "name": "stdout",
     "output_type": "stream",
     "text": [
      "2  3  5  7  11  13  17  19  23  29  31  37  41  43  47  53  59  61  67  71  73  79  83  89  97  "
     ]
    }
   ],
   "source": [
    "for i in range(2,101):\n",
    "    if isPrime(i):\n",
    "        print(i, end = \"  \") # \\t --> TAB, \\n --> NEXT LINE"
   ]
  },
  {
   "cell_type": "code",
   "execution_count": 50,
   "id": "e017f2b1-77d9-435e-9f35-116174e32d35",
   "metadata": {},
   "outputs": [],
   "source": [
    "# factorial\n",
    "# additive count korle initiate kori 0 diya\n",
    "# multiplicative count korle initiate kori 1 diyaa"
   ]
  },
  {
   "cell_type": "code",
   "execution_count": 57,
   "id": "89b229d5-c254-49e6-a168-3669a0e79df6",
   "metadata": {},
   "outputs": [
    {
     "name": "stdout",
     "output_type": "stream",
     "text": [
      "0! = 1\n"
     ]
    }
   ],
   "source": [
    "# 5 --> 1-5\n",
    "\n",
    "number = 0\n",
    "ans = 1\n",
    "\n",
    "if number == 0:\n",
    "    ans = 1\n",
    "else:\n",
    "    for i in range(1, number+1):\n",
    "        ans = ans * i\n",
    "\n",
    "print(f\"{number}! = {ans}\")"
   ]
  },
  {
   "cell_type": "markdown",
   "id": "e9e139ee-d4c9-4618-9113-7e7680466b46",
   "metadata": {},
   "source": [
    ">\n",
    "\n",
    "\n",
    "0! = 1<br>\n",
    "1! = 1<br>\n",
    "2! = 2<br>\n",
    "3! = 6<br>\n",
    "4! = 24<br>\n",
    "5! = 120<br>"
   ]
  },
  {
   "cell_type": "code",
   "execution_count": 63,
   "id": "baef496d-c5cf-420d-8b44-4fe8b4dd92d5",
   "metadata": {},
   "outputs": [
    {
     "name": "stdout",
     "output_type": "stream",
     "text": [
      "0! = 1\n"
     ]
    }
   ],
   "source": [
    "number = 0\n",
    "\n",
    "new_number = number + 1\n",
    "new_fact = 1\n",
    "\n",
    "for i in range(1, new_number + 1):\n",
    "    new_fact = new_fact*i\n",
    "\n",
    "original_factorial = new_fact // new_number\n",
    "print(f\"{number}! = {original_factorial}\")"
   ]
  },
  {
   "cell_type": "code",
   "execution_count": 73,
   "id": "e3698982-f283-49b7-97ed-1541410beb55",
   "metadata": {},
   "outputs": [],
   "source": [
    "# recursion\n",
    "def t(n):\n",
    "    if n == 0 or n == 1:\n",
    "        return 1\n",
    "    elif n < 0:\n",
    "        return \"In appropriate input\"\n",
    "    else:\n",
    "        return n * t(n-1)"
   ]
  },
  {
   "cell_type": "code",
   "execution_count": 75,
   "id": "b792acd3-a4ee-4f86-b678-9332a2dbfa63",
   "metadata": {},
   "outputs": [
    {
     "data": {
      "text/plain": [
       "24"
      ]
     },
     "execution_count": 75,
     "metadata": {},
     "output_type": "execute_result"
    }
   ],
   "source": [
    "factorial(4)"
   ]
  },
  {
   "cell_type": "code",
   "execution_count": 77,
   "id": "b8711e7b-7841-4694-87ad-7f7a984f3c3c",
   "metadata": {},
   "outputs": [],
   "source": [
    "\n",
    "# #1\n",
    "# def t(4):\n",
    "#     return 4 * t(3)\n",
    "\n",
    "# #2\n",
    "# def t(4):\n",
    "#     return 4 * 3 * t(2)\n",
    "\n",
    "# #3\n",
    "# def t(4):\n",
    "#     return 4*3*2*t(1)\n",
    "\n",
    "# #4\n",
    "# def t(4):\n",
    "#     return 4*3*2*1\n",
    "    \n"
   ]
  },
  {
   "cell_type": "code",
   "execution_count": 82,
   "id": "229b5e2b-c753-4915-849f-862838dab4b4",
   "metadata": {},
   "outputs": [],
   "source": [
    "# lambda - fyi\n",
    "add = lambda x,y : x+y"
   ]
  },
  {
   "cell_type": "code",
   "execution_count": 83,
   "id": "c32ffa1a-f5c6-431c-beff-3af8bf251869",
   "metadata": {},
   "outputs": [
    {
     "data": {
      "text/plain": [
       "11"
      ]
     },
     "execution_count": 83,
     "metadata": {},
     "output_type": "execute_result"
    }
   ],
   "source": [
    "add(5,6)"
   ]
  },
  {
   "cell_type": "markdown",
   "id": "2015fcf9-a850-4e95-b839-967e31228bb2",
   "metadata": {},
   "source": [
    "**Q1**<br>\n",
    "Ekta number ase -- 34, output hoibo idar binary number\n",
    "<br>\n",
    "**Q2**<br>\n",
    "Ekta number ase -- 567, output hoibo idar reverse : 765"
   ]
  },
  {
   "cell_type": "code",
   "execution_count": 86,
   "id": "22352631-05b8-4d86-8923-48fe20b33cf7",
   "metadata": {},
   "outputs": [
    {
     "name": "stdout",
     "output_type": "stream",
     "text": [
      "['Tanmoy', 'Subham', 'Shayan']\n"
     ]
    }
   ],
   "source": [
    "string = \"Tanmoy,Subham,Shayan\"\n",
    "output_l = string.split(\",\")\n",
    "\n",
    "print(output_l)"
   ]
  },
  {
   "cell_type": "code",
   "execution_count": 88,
   "id": "28c3a83d-9f7a-49df-9363-57996eaee443",
   "metadata": {},
   "outputs": [
    {
     "name": "stdout",
     "output_type": "stream",
     "text": [
      "6\n"
     ]
    }
   ],
   "source": [
    "name = \"Shayan \"\n",
    "\n",
    "name = name.strip() # removes trailing spaces\n",
    "\n",
    "print(len(name))"
   ]
  },
  {
   "cell_type": "code",
   "execution_count": null,
   "id": "b1e36b84-a471-48bb-a102-b219cbf2fe11",
   "metadata": {},
   "outputs": [],
   "source": []
  }
 ],
 "metadata": {
  "kernelspec": {
   "display_name": "Python 3 (ipykernel)",
   "language": "python",
   "name": "python3"
  },
  "language_info": {
   "codemirror_mode": {
    "name": "ipython",
    "version": 3
   },
   "file_extension": ".py",
   "mimetype": "text/x-python",
   "name": "python",
   "nbconvert_exporter": "python",
   "pygments_lexer": "ipython3",
   "version": "3.10.12"
  }
 },
 "nbformat": 4,
 "nbformat_minor": 5
}
