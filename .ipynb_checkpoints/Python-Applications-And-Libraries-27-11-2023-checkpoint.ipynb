{
 "cells": [
  {
   "cell_type": "raw",
   "id": "07cb1fa0-6fe1-472b-9cdd-b698010c61c8",
   "metadata": {},
   "source": [
    "1 - 101\n",
    "--\n",
    "001\n",
    "002\n",
    "003\n",
    "004\n",
    "005\n",
    "006\n",
    "007\n",
    "008\n",
    "009\n",
    "100"
   ]
  },
  {
   "cell_type": "code",
   "execution_count": 7,
   "id": "c1a04db8-af3c-4ee8-a334-1e6da452de5e",
   "metadata": {},
   "outputs": [
    {
     "name": "stdout",
     "output_type": "stream",
     "text": [
      "Enter lower limit :  5\n",
      "Enter upper limit :  10\n"
     ]
    },
    {
     "name": "stdout",
     "output_type": "stream",
     "text": [
      "05\n",
      "06\n",
      "07\n",
      "08\n",
      "09\n",
      "10\n"
     ]
    }
   ],
   "source": [
    "def digits(n):\n",
    "    c = 0\n",
    "    while n!=0:\n",
    "        n = n//10\n",
    "        c+=1\n",
    "    return c\n",
    "\n",
    "lower_limit = int(input(\"Enter lower limit : \")) # 1\n",
    "upper_limit = int(input(\"Enter upper limit : \")) # 100\n",
    "\n",
    "for i in range(lower_limit, upper_limit + 1):\n",
    "    digits_in_upper_limit = digits(upper_limit)\n",
    "    print(\"0\" * (digits_in_upper_limit - digits(i)) + str(i))\n",
    "    "
   ]
  },
  {
   "cell_type": "markdown",
   "id": "3b8e5783-3d21-4084-97ba-3a15ab83f0a4",
   "metadata": {},
   "source": [
    "### **Question of the day**\n",
    "----\n",
    "> 1-1000, er modhhe, jei number e, sobti digit prime (for example, 257) [we will ignore 1, 0, and <0], tarar addition result e, koyta digit prime?"
   ]
  },
  {
   "cell_type": "raw",
   "id": "bfaf4d58-356b-4390-b0c8-3663842a968f",
   "metadata": {},
   "source": [
    "Example :\n",
    "Jodi ami enter kori, 1-25\n",
    "Taile amar output : 2,3,5,7,11,13,17,19,23\n",
    "Tarar jugfol = 2+3+5+7+23 = 40 ==> 0ta prime ase. Output = 0"
   ]
  },
  {
   "cell_type": "code",
   "execution_count": 32,
   "id": "26fcdf8a-422b-4770-b0c8-f8d3a41d36c5",
   "metadata": {},
   "outputs": [
    {
     "name": "stdout",
     "output_type": "stream",
     "text": [
      "Enter lower limit :  1\n",
      "Enter upper limit :  10\n"
     ]
    },
    {
     "name": "stdout",
     "output_type": "stream",
     "text": [
      "1\n"
     ]
    }
   ],
   "source": [
    "def isPrime(number):\n",
    "    if number <= 1:\n",
    "        return False\n",
    "    else:\n",
    "        count = 0\n",
    "        for i in range(2, number+1):\n",
    "            if number%i == 0:\n",
    "                count += 1\n",
    "        if count == 1:\n",
    "            return True\n",
    "        else:\n",
    "            return False\n",
    "\n",
    "# ALL INPUTS\n",
    "lower_limit = int(input(\"Enter lower limit : \"))\n",
    "upper_limit = int(input(\"Enter upper limit : \"))\n",
    "\n",
    "# 1. Sobti number theika, jetite 1,0 ase, oitire baad deon lagbo\n",
    "def no_one_and_zero(number):\n",
    "    count = 0\n",
    "    \n",
    "    while number!= 0 : # zero jotokhan hoibo, cholbo\n",
    "        if number%10 == 1 or number%10 == 0:\n",
    "            count += 1\n",
    "        number = number // 10\n",
    "\n",
    "    if count != 0:\n",
    "        return False\n",
    "    else:\n",
    "        return True\n",
    "\n",
    "without_one_and_zeros = []\n",
    "for i in range(lower_limit, upper_limit+1):\n",
    "    if no_one_and_zero(i):\n",
    "        without_one_and_zeros.append(i)\n",
    "\n",
    "# 2. Sobti number theika, bair korte lagbo je sobti prime ni\n",
    "def digits(n):\n",
    "    c = 0\n",
    "    while n!= 0:\n",
    "        n = n//10\n",
    "        c = c+1\n",
    "    return c\n",
    "\n",
    "def ifAllPrime(number): # --> digits bair korte parum (3), tarpor bair korum koyta prime ase (3). jodi ei duita shonkha same hoy, mane sobti prime\n",
    "    digits_count = digits(number)\n",
    "    prime_count = 0\n",
    "    \n",
    "    while number!=0:\n",
    "        if isPrime(number%10):\n",
    "            prime_count += 1\n",
    "        number = number//10\n",
    "        \n",
    "    if digits_count == prime_count:\n",
    "        return True\n",
    "    else:\n",
    "        return False\n",
    "\n",
    "only_target_numbers = []\n",
    "for x in without_one_and_zeros:\n",
    "    if ifAllPrime(x):\n",
    "        only_target_numbers.append(x)\n",
    "\n",
    "# 3. Sobti re add korum\n",
    "addition = 0 \n",
    "\n",
    "for x in only_target_numbers:\n",
    "    addition = addition + x\n",
    "\n",
    "# 4. Addition result e dekhum koyta prime ase, tarpor ekta count variable diya tarare count korum. erpor count hoilo amar output\n",
    "def prime_count(number):\n",
    "    prime_count = 0\n",
    "\n",
    "    while number!=0:\n",
    "        if isPrime(number%10):\n",
    "            prime_count += 1\n",
    "        number = number//10\n",
    "        \n",
    "    return prime_count\n",
    "\n",
    "output = prime_count(addition)\n",
    "\n",
    "print(output)"
   ]
  },
  {
   "cell_type": "markdown",
   "id": "db0637bf-0b36-4fec-b6d1-556ad6a59c71",
   "metadata": {},
   "source": [
    "### **HOME WORKKKKK --- On TUESDAY**\n",
    "---\n",
    "Ekta dukan dar, beda saree bechtase. sareer daamer range erokom <br>\n",
    "- 100takar theika 200taka obdhi --> discount hoise, taar nikotborti, boro prime number er, sobti sonkhar jugfol joto<br>\n",
    "- 201takar theika 500taka obdhi --> discount hoise, taar nikotborti choto prime number er, sobti sonkhar jugfol joto<br>\n",
    "- 501taka theika beshi hoile --> oi damer modhhe, jotla prime number thakbo, oitir jugfol\n"
   ]
  },
  {
   "cell_type": "markdown",
   "id": "fa57db09-9644-4b98-90d7-ce06328abe43",
   "metadata": {},
   "source": [
    "Input --> PRICE --> integer"
   ]
  },
  {
   "cell_type": "raw",
   "id": "660e2548-82f5-4511-bffa-f2e72e930718",
   "metadata": {},
   "source": []
  },
  {
   "cell_type": "code",
   "execution_count": 15,
   "id": "42cfa4d4-f63a-4e4b-b4a1-14995d05e517",
   "metadata": {},
   "outputs": [
    {
     "name": "stdin",
     "output_type": "stream",
     "text": [
      "Enter the price :  526\n"
     ]
    },
    {
     "name": "stdout",
     "output_type": "stream",
     "text": [
      "489.18\n"
     ]
    }
   ],
   "source": [
    "def isPrime(n):\n",
    "    if n <= 1:\n",
    "        return False\n",
    "    else:\n",
    "        c = 0\n",
    "        for i in range(2,n+1):\n",
    "            if n%i == 0:\n",
    "                c = c+1\n",
    "        if c == 1:\n",
    "            return True\n",
    "        else:\n",
    "            return False\n",
    "\n",
    "def sum_of_prime_digits(n):\n",
    "    sum = 0\n",
    "    while n!= 0:\n",
    "        r = n%10\n",
    "        if isPrime(r):\n",
    "            sum = sum + r\n",
    "        n = n//10\n",
    "    return sum\n",
    "\n",
    "\n",
    "def sum_of_digits(n):\n",
    "    sum = 0\n",
    "    while n!= 0:\n",
    "        r = n%10\n",
    "        sum = sum + r\n",
    "        n = n//10\n",
    "    return sum\n",
    "\n",
    "\n",
    "\n",
    "price = float(input(\"Enter the price : \"))\n",
    "\n",
    "if price >= 100 and price <=200:\n",
    "    i = int(price)+1\n",
    "    nearest_big_prime = 0\n",
    "    \n",
    "    while isPrime(i) == False:          \n",
    "        i=i+1\n",
    "        \n",
    "    nearest_big_prime = i\n",
    "    discount = sum_of_digits(nearest_big_prime)\n",
    "    revisedPrice = (price - price * (discount/100))\n",
    "    revisedPrice = round(revisedPrice, 2)\n",
    "    print(revisedPrice)\n",
    "    \n",
    "    \n",
    "\n",
    "elif price >= 201 and price <=500:\n",
    "    i = int(price)-1\n",
    "    nearest_small_prime = 0\n",
    "    \n",
    "    while isPrime(i) == False:          \n",
    "        i=i-1\n",
    "    nearest_small_prime = i\n",
    "    \n",
    "    discount = sum_of_digits(nearest_small_prime)\n",
    "    revisedPrice = (price - price * (discount/100))\n",
    "    revisedPrice = round(revisedPrice, 2)\n",
    "    print(revisedPrice)\n",
    "\n",
    "else:\n",
    "    discount = sum_of_prime_digits(int(price))\n",
    "    revisedPrice = (price - price * (discount/100))\n",
    "    revisedPrice = round(revisedPrice, 2)\n",
    "    print(revisedPrice)\n",
    "    \n",
    "     \n",
    "    "
   ]
  },
  {
   "cell_type": "code",
   "execution_count": null,
   "id": "27a23052-1ad5-4ff1-814f-c10870008e8b",
   "metadata": {},
   "outputs": [],
   "source": []
  }
 ],
 "metadata": {
  "kernelspec": {
   "display_name": "Python 3 (ipykernel)",
   "language": "python",
   "name": "python3"
  },
  "language_info": {
   "codemirror_mode": {
    "name": "ipython",
    "version": 3
   },
   "file_extension": ".py",
   "mimetype": "text/x-python",
   "name": "python",
   "nbconvert_exporter": "python",
   "pygments_lexer": "ipython3",
   "version": "3.10.12"
  }
 },
 "nbformat": 4,
 "nbformat_minor": 5
}
