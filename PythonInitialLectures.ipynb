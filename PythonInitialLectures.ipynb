{
 "cells": [
  {
   "cell_type": "code",
   "execution_count": 3,
   "id": "af731261-feda-4397-8b45-e8d97b289793",
   "metadata": {},
   "outputs": [
    {
     "data": {
      "text/plain": [
       "'\\nHello World\\n'"
      ]
     },
     "execution_count": 3,
     "metadata": {},
     "output_type": "execute_result"
    }
   ],
   "source": [
    "\"\"\"\n",
    "Hello World\n",
    "\"\"\""
   ]
  },
  {
   "cell_type": "code",
   "execution_count": 4,
   "id": "978341a0-c999-4219-bc8e-4a795f07bc0f",
   "metadata": {},
   "outputs": [
    {
     "name": "stdout",
     "output_type": "stream",
     "text": [
      "Hello World\n"
     ]
    }
   ],
   "source": [
    "print(\"Hello World\")"
   ]
  },
  {
   "cell_type": "code",
   "execution_count": 5,
   "id": "76104384-4b8b-4219-ba29-58006de181f3",
   "metadata": {},
   "outputs": [
    {
     "name": "stdout",
     "output_type": "stream",
     "text": [
      "Hello Shayan\n"
     ]
    }
   ],
   "source": [
    "print('Hello Shayan')"
   ]
  },
  {
   "cell_type": "code",
   "execution_count": 6,
   "id": "308ec72d-2c74-4fb4-8d2d-3656986653c6",
   "metadata": {},
   "outputs": [
    {
     "name": "stdout",
     "output_type": "stream",
     "text": [
      "Hello Tanmoy\n"
     ]
    }
   ],
   "source": [
    "print('''Hello Tanmoy''')"
   ]
  },
  {
   "cell_type": "code",
   "execution_count": 8,
   "id": "25f1114f-fa6f-4c6a-af01-e54545e99a7a",
   "metadata": {},
   "outputs": [
    {
     "ename": "NameError",
     "evalue": "name 'Hello' is not defined",
     "output_type": "error",
     "traceback": [
      "\u001b[0;31m---------------------------------------------------------------------------\u001b[0m",
      "\u001b[0;31mNameError\u001b[0m                                 Traceback (most recent call last)",
      "Cell \u001b[0;32mIn[8], line 1\u001b[0m\n\u001b[0;32m----> 1\u001b[0m \u001b[38;5;28mprint\u001b[39m(\u001b[43mHello\u001b[49m,Subham)\n",
      "\u001b[0;31mNameError\u001b[0m: name 'Hello' is not defined"
     ]
    }
   ],
   "source": [
    "print(Hello,Subham)"
   ]
  },
  {
   "cell_type": "code",
   "execution_count": 9,
   "id": "22a51cf7-dff7-4b59-8035-63adf497ef66",
   "metadata": {},
   "outputs": [],
   "source": [
    "# Data types"
   ]
  },
  {
   "cell_type": "code",
   "execution_count": 11,
   "id": "5a569dd2-609e-4b81-ab95-934dda96e531",
   "metadata": {},
   "outputs": [],
   "source": [
    "number = 56 # integer\n",
    "string_example = \"Shayan\" # string\n",
    "floating_example = 5.67 # floating\n",
    "boolean_example = True # boolean"
   ]
  },
  {
   "cell_type": "code",
   "execution_count": 12,
   "id": "e1c34a6a-ef9e-46c4-8ca2-c4fb82bfae0b",
   "metadata": {},
   "outputs": [
    {
     "name": "stdout",
     "output_type": "stream",
     "text": [
      "<class 'int'>\n"
     ]
    }
   ],
   "source": [
    "print(type(number))"
   ]
  },
  {
   "cell_type": "code",
   "execution_count": 13,
   "id": "cc97ce69-a3e4-4d0f-afea-d5d4c849dc38",
   "metadata": {},
   "outputs": [
    {
     "name": "stdout",
     "output_type": "stream",
     "text": [
      "<class 'str'>\n"
     ]
    }
   ],
   "source": [
    "print(type(string_example))"
   ]
  },
  {
   "cell_type": "code",
   "execution_count": 14,
   "id": "4d15ac45-634a-45be-a552-ead850378cfc",
   "metadata": {},
   "outputs": [
    {
     "name": "stdout",
     "output_type": "stream",
     "text": [
      "<class 'float'>\n"
     ]
    }
   ],
   "source": [
    "print(type(floating_example))"
   ]
  },
  {
   "cell_type": "code",
   "execution_count": 15,
   "id": "79ad2510-3981-4405-a718-5527385cbb71",
   "metadata": {},
   "outputs": [
    {
     "name": "stdout",
     "output_type": "stream",
     "text": [
      "<class 'bool'>\n"
     ]
    }
   ],
   "source": [
    "print(type(boolean_example))"
   ]
  },
  {
   "cell_type": "code",
   "execution_count": 16,
   "id": "6db91511-eede-43bf-a880-cfb6e5f7ba3d",
   "metadata": {},
   "outputs": [
    {
     "name": "stdout",
     "output_type": "stream",
     "text": [
      "number\n"
     ]
    }
   ],
   "source": [
    "print(\"number\")"
   ]
  },
  {
   "cell_type": "code",
   "execution_count": 17,
   "id": "39d08367-3640-4aa6-9462-ce0540865c52",
   "metadata": {},
   "outputs": [
    {
     "name": "stdout",
     "output_type": "stream",
     "text": [
      "56\n"
     ]
    }
   ],
   "source": [
    "print(number)"
   ]
  },
  {
   "cell_type": "code",
   "execution_count": 18,
   "id": "50188c64-25bd-480d-9dfd-21c31b3f1844",
   "metadata": {},
   "outputs": [
    {
     "ename": "NameError",
     "evalue": "name 'subham' is not defined",
     "output_type": "error",
     "traceback": [
      "\u001b[0;31m---------------------------------------------------------------------------\u001b[0m",
      "\u001b[0;31mNameError\u001b[0m                                 Traceback (most recent call last)",
      "Cell \u001b[0;32mIn[18], line 1\u001b[0m\n\u001b[0;32m----> 1\u001b[0m \u001b[38;5;28mprint\u001b[39m(\u001b[43msubham\u001b[49m)\n",
      "\u001b[0;31mNameError\u001b[0m: name 'subham' is not defined"
     ]
    }
   ],
   "source": [
    "print(subham)"
   ]
  },
  {
   "cell_type": "code",
   "execution_count": 19,
   "id": "27c64a1e-eda7-4938-9a29-ab6281b1733f",
   "metadata": {},
   "outputs": [],
   "source": [
    "subham = 5"
   ]
  },
  {
   "cell_type": "code",
   "execution_count": 20,
   "id": "c5eab31a-5296-4a2c-9556-41680df37be7",
   "metadata": {},
   "outputs": [
    {
     "name": "stdout",
     "output_type": "stream",
     "text": [
      "5\n"
     ]
    }
   ],
   "source": [
    "print(subham)"
   ]
  },
  {
   "cell_type": "code",
   "execution_count": 41,
   "id": "822c4baf-c244-4ed8-9e4f-6e14a19fb46d",
   "metadata": {},
   "outputs": [],
   "source": [
    "# data type --> operations: basically arithmetic operations\n",
    "# +, -, /, *, %, //"
   ]
  },
  {
   "cell_type": "code",
   "execution_count": 23,
   "id": "99aad517-3346-46a6-abc5-8db818a8ac25",
   "metadata": {},
   "outputs": [],
   "source": [
    "num1 = 56\n",
    "num2 = 35"
   ]
  },
  {
   "cell_type": "code",
   "execution_count": 24,
   "id": "5bd912e0-4750-4974-bd9d-144be6fd3b9c",
   "metadata": {},
   "outputs": [
    {
     "name": "stdout",
     "output_type": "stream",
     "text": [
      "91\n"
     ]
    }
   ],
   "source": [
    "print(num1 + num2)"
   ]
  },
  {
   "cell_type": "code",
   "execution_count": 25,
   "id": "280ad2b4-b6d2-49ba-bf8f-60c32a468a76",
   "metadata": {},
   "outputs": [
    {
     "name": "stdout",
     "output_type": "stream",
     "text": [
      "21\n"
     ]
    }
   ],
   "source": [
    "print(num1 - num2)"
   ]
  },
  {
   "cell_type": "code",
   "execution_count": 26,
   "id": "f6a2d89b-7849-4236-a1c5-011111b1e3a1",
   "metadata": {},
   "outputs": [
    {
     "name": "stdout",
     "output_type": "stream",
     "text": [
      "1.6\n"
     ]
    }
   ],
   "source": [
    "print(num1/num2)"
   ]
  },
  {
   "cell_type": "code",
   "execution_count": 27,
   "id": "063fa6cc-597b-4ff5-aee8-4d6ced60cccb",
   "metadata": {},
   "outputs": [
    {
     "name": "stdout",
     "output_type": "stream",
     "text": [
      "1\n"
     ]
    }
   ],
   "source": [
    "print(num1//num2)"
   ]
  },
  {
   "cell_type": "code",
   "execution_count": 28,
   "id": "7e67badc-ec97-4eba-8afc-87dfd4f6c372",
   "metadata": {},
   "outputs": [
    {
     "name": "stdout",
     "output_type": "stream",
     "text": [
      "1960\n"
     ]
    }
   ],
   "source": [
    "print(num1*num2)"
   ]
  },
  {
   "cell_type": "code",
   "execution_count": 29,
   "id": "3fd26006-86cf-4364-a5ee-a2a461708bbd",
   "metadata": {},
   "outputs": [],
   "source": [
    "num1 = 5\n",
    "num2 = 2"
   ]
  },
  {
   "cell_type": "code",
   "execution_count": 30,
   "id": "06afbe39-fbf7-40ed-91e7-d1b51032054b",
   "metadata": {},
   "outputs": [
    {
     "name": "stdout",
     "output_type": "stream",
     "text": [
      "1\n"
     ]
    }
   ],
   "source": [
    "print(num1%num2)"
   ]
  },
  {
   "cell_type": "code",
   "execution_count": 31,
   "id": "16f0aae5-64e7-4ce3-97aa-c60b6dcbf865",
   "metadata": {},
   "outputs": [],
   "source": [
    "str1 = \"Tanmoy\"\n",
    "str2 = \"Debnath\""
   ]
  },
  {
   "cell_type": "code",
   "execution_count": 32,
   "id": "dd6b65f6-dbaa-40db-8ac4-361bcafe4354",
   "metadata": {},
   "outputs": [
    {
     "name": "stdout",
     "output_type": "stream",
     "text": [
      "TanmoyDebnath\n"
     ]
    }
   ],
   "source": [
    "print(str1 + str2)"
   ]
  },
  {
   "cell_type": "code",
   "execution_count": 33,
   "id": "acdfa21a-629d-44d7-8ecc-2afdb90c81e6",
   "metadata": {},
   "outputs": [
    {
     "ename": "TypeError",
     "evalue": "unsupported operand type(s) for -: 'str' and 'str'",
     "output_type": "error",
     "traceback": [
      "\u001b[0;31m---------------------------------------------------------------------------\u001b[0m",
      "\u001b[0;31mTypeError\u001b[0m                                 Traceback (most recent call last)",
      "Cell \u001b[0;32mIn[33], line 1\u001b[0m\n\u001b[0;32m----> 1\u001b[0m \u001b[38;5;28mprint\u001b[39m(\u001b[43mstr1\u001b[49m\u001b[38;5;241;43m-\u001b[39;49m\u001b[43mstr2\u001b[49m)\n",
      "\u001b[0;31mTypeError\u001b[0m: unsupported operand type(s) for -: 'str' and 'str'"
     ]
    }
   ],
   "source": [
    "print(str1-str2)"
   ]
  },
  {
   "cell_type": "code",
   "execution_count": 34,
   "id": "f20a3dfc-57c5-48aa-b033-88136481d2eb",
   "metadata": {},
   "outputs": [],
   "source": [
    "# special feature : i can multiply string and integer"
   ]
  },
  {
   "cell_type": "code",
   "execution_count": 40,
   "id": "ec6ad06c-4ff7-4af8-be55-2aa46bb82aef",
   "metadata": {},
   "outputs": [
    {
     "name": "stdout",
     "output_type": "stream",
     "text": [
      "aaaaaaaaaa\n"
     ]
    }
   ],
   "source": [
    "print(\"a\" * 10)"
   ]
  },
  {
   "cell_type": "code",
   "execution_count": 42,
   "id": "2b550144-4a86-438e-ad50-fee99cc912b7",
   "metadata": {},
   "outputs": [],
   "source": [
    "# string operations"
   ]
  },
  {
   "cell_type": "code",
   "execution_count": 47,
   "id": "332a9e3f-4b5b-408a-9ff8-b355e05c3781",
   "metadata": {},
   "outputs": [],
   "source": [
    "name = \"Subham\""
   ]
  },
  {
   "cell_type": "code",
   "execution_count": 49,
   "id": "3bf5c812-ef89-4b2e-906d-acec2c3e733b",
   "metadata": {},
   "outputs": [
    {
     "name": "stdout",
     "output_type": "stream",
     "text": [
      "6\n"
     ]
    }
   ],
   "source": [
    "print(len(name))"
   ]
  },
  {
   "cell_type": "code",
   "execution_count": 51,
   "id": "98ec3858-6089-480c-b473-17468d9e10cd",
   "metadata": {},
   "outputs": [],
   "source": [
    "# indexing\n",
    "# chars -> S  u  b  h  a  m\n",
    "# index -> 0  1  2  3  4  5\n",
    "# rindex->-6 -5 -4 -3 -2 -1"
   ]
  },
  {
   "cell_type": "code",
   "execution_count": 52,
   "id": "cb9a49f4-050e-4d73-964c-06454721c50c",
   "metadata": {},
   "outputs": [
    {
     "name": "stdout",
     "output_type": "stream",
     "text": [
      "S\n"
     ]
    }
   ],
   "source": [
    "print(name[0])"
   ]
  },
  {
   "cell_type": "code",
   "execution_count": 53,
   "id": "ce10f8c6-8fba-4214-b14b-05587b62fb52",
   "metadata": {},
   "outputs": [
    {
     "name": "stdout",
     "output_type": "stream",
     "text": [
      "a\n"
     ]
    }
   ],
   "source": [
    "print(name[4])"
   ]
  },
  {
   "cell_type": "code",
   "execution_count": 54,
   "id": "bc96761e-bbff-4cd9-8502-ebb188cba54a",
   "metadata": {},
   "outputs": [
    {
     "name": "stdout",
     "output_type": "stream",
     "text": [
      "h\n"
     ]
    }
   ],
   "source": [
    "print(name[-3])"
   ]
  },
  {
   "cell_type": "code",
   "execution_count": 55,
   "id": "2acaca5a-5e22-4a43-aa0c-e8c09d6126af",
   "metadata": {},
   "outputs": [],
   "source": [
    "# slicing"
   ]
  },
  {
   "cell_type": "code",
   "execution_count": 64,
   "id": "bbb31d9c-cafa-4c29-a0ec-c2fcc29b021e",
   "metadata": {},
   "outputs": [],
   "source": [
    "# Concept: Upper limit always ignored, lower limit always includes\n",
    "# lower limit = 0, upper limit = 5\n",
    "# actual upper limit = 4"
   ]
  },
  {
   "cell_type": "code",
   "execution_count": 65,
   "id": "f82acdbb-d9f4-413f-8605-ae6fbecd4d34",
   "metadata": {},
   "outputs": [
    {
     "name": "stdout",
     "output_type": "stream",
     "text": [
      "bha\n"
     ]
    }
   ],
   "source": [
    "print(name[2:5])"
   ]
  },
  {
   "cell_type": "code",
   "execution_count": 66,
   "id": "6810a373-7002-491c-bb6b-e542d12b7913",
   "metadata": {},
   "outputs": [
    {
     "name": "stdout",
     "output_type": "stream",
     "text": [
      "bham\n"
     ]
    }
   ],
   "source": [
    "print(name[2:6])"
   ]
  },
  {
   "cell_type": "code",
   "execution_count": 67,
   "id": "50077740-e451-42be-b6c2-d8f5df1251f8",
   "metadata": {},
   "outputs": [
    {
     "name": "stdout",
     "output_type": "stream",
     "text": [
      "bham\n"
     ]
    }
   ],
   "source": [
    "print(name[2:])"
   ]
  },
  {
   "cell_type": "code",
   "execution_count": 68,
   "id": "08b5a33f-da13-46c3-81dd-60ada8d19c61",
   "metadata": {},
   "outputs": [
    {
     "name": "stdout",
     "output_type": "stream",
     "text": [
      "Sub\n"
     ]
    }
   ],
   "source": [
    "print(name[:3])"
   ]
  },
  {
   "cell_type": "code",
   "execution_count": 69,
   "id": "87554559-0e12-4a1a-bf44-62e87a570b6a",
   "metadata": {},
   "outputs": [],
   "source": [
    "str_ex = \"zoological\"\n",
    "o_count = str_ex.count('o')"
   ]
  },
  {
   "cell_type": "code",
   "execution_count": 70,
   "id": "7c8afa32-d232-430b-9089-dbbf1b2286f7",
   "metadata": {},
   "outputs": [
    {
     "name": "stdout",
     "output_type": "stream",
     "text": [
      "3\n"
     ]
    }
   ],
   "source": [
    "print(o_count)"
   ]
  },
  {
   "cell_type": "code",
   "execution_count": 72,
   "id": "aff88781-ebcb-4094-91a4-ed8986cfa9f9",
   "metadata": {},
   "outputs": [
    {
     "name": "stdout",
     "output_type": "stream",
     "text": [
      "ZOOLOGICAL\n"
     ]
    }
   ],
   "source": [
    "print(str_ex.upper()) # for lowercase : .lower()"
   ]
  },
  {
   "cell_type": "code",
   "execution_count": 74,
   "id": "95dbe916-7aed-46b9-9d3d-843a4da976f1",
   "metadata": {},
   "outputs": [],
   "source": [
    "# data structures :\n",
    "# 1. list --> [4,5,6]\n",
    "# 2. set --> {5,6,2}\n",
    "# 3. tuple --> (5,4,3)\n",
    "# 4. dictionary --> \n",
    "# {\n",
    "#     \"name\" : \"Tanmoy\",\n",
    "#     \"age\" : 26\n",
    "# }"
   ]
  },
  {
   "cell_type": "code",
   "execution_count": 75,
   "id": "3fa8e556-cfad-4b2f-b9e9-1d8cb51b0ce9",
   "metadata": {},
   "outputs": [],
   "source": [
    "list_ex = [4,3,5,1,99,23]"
   ]
  },
  {
   "cell_type": "code",
   "execution_count": 76,
   "id": "18e0f202-24bb-4736-a079-7a1b698afd6c",
   "metadata": {},
   "outputs": [
    {
     "name": "stdout",
     "output_type": "stream",
     "text": [
      "6\n"
     ]
    }
   ],
   "source": [
    "print(len(list_ex))"
   ]
  },
  {
   "cell_type": "code",
   "execution_count": 77,
   "id": "6e36063b-bb0b-48b5-a111-e23f6db54212",
   "metadata": {},
   "outputs": [
    {
     "data": {
      "text/plain": [
       "6"
      ]
     },
     "execution_count": 77,
     "metadata": {},
     "output_type": "execute_result"
    }
   ],
   "source": [
    "len(list_ex)"
   ]
  },
  {
   "cell_type": "code",
   "execution_count": 78,
   "id": "58cf96d8-f659-47b3-96a8-c0354fe61434",
   "metadata": {},
   "outputs": [
    {
     "data": {
      "text/plain": [
       "1"
      ]
     },
     "execution_count": 78,
     "metadata": {},
     "output_type": "execute_result"
    }
   ],
   "source": [
    "list_ex[3]"
   ]
  },
  {
   "cell_type": "code",
   "execution_count": 79,
   "id": "70a1a51c-cce0-4c4d-a859-73ac8474f601",
   "metadata": {},
   "outputs": [
    {
     "data": {
      "text/plain": [
       "99"
      ]
     },
     "execution_count": 79,
     "metadata": {},
     "output_type": "execute_result"
    }
   ],
   "source": [
    "list_ex[-2]"
   ]
  },
  {
   "cell_type": "code",
   "execution_count": 80,
   "id": "b054366f-df5f-4280-baeb-8c7bc19e96cb",
   "metadata": {},
   "outputs": [
    {
     "data": {
      "text/plain": [
       "[3, 5, 1]"
      ]
     },
     "execution_count": 80,
     "metadata": {},
     "output_type": "execute_result"
    }
   ],
   "source": [
    "list_ex[1:4]"
   ]
  },
  {
   "cell_type": "code",
   "execution_count": 82,
   "id": "5bc135b4-e20b-41df-881e-d0be7a327e31",
   "metadata": {},
   "outputs": [
    {
     "data": {
      "text/plain": [
       "135"
      ]
     },
     "execution_count": 82,
     "metadata": {},
     "output_type": "execute_result"
    }
   ],
   "source": [
    "sum(list_ex)"
   ]
  },
  {
   "cell_type": "code",
   "execution_count": 85,
   "id": "2b6d1aac-aacc-4a4c-a832-42f389daeb20",
   "metadata": {},
   "outputs": [
    {
     "data": {
      "text/plain": [
       "22.5"
      ]
     },
     "execution_count": 85,
     "metadata": {},
     "output_type": "execute_result"
    }
   ],
   "source": [
    "sum(list_ex) / len(list_ex)"
   ]
  },
  {
   "cell_type": "code",
   "execution_count": 86,
   "id": "f68aae1f-356b-4605-8ce7-5a5d9f474a28",
   "metadata": {},
   "outputs": [
    {
     "data": {
      "text/plain": [
       "99"
      ]
     },
     "execution_count": 86,
     "metadata": {},
     "output_type": "execute_result"
    }
   ],
   "source": [
    "max(list_ex)"
   ]
  },
  {
   "cell_type": "code",
   "execution_count": 91,
   "id": "28e83522-3896-4775-8e2b-449e4fe8c57b",
   "metadata": {},
   "outputs": [
    {
     "data": {
      "text/plain": [
       "1"
      ]
     },
     "execution_count": 91,
     "metadata": {},
     "output_type": "execute_result"
    }
   ],
   "source": [
    "min(list_ex)"
   ]
  },
  {
   "cell_type": "code",
   "execution_count": 92,
   "id": "4d8c162b-1fa7-4e7b-9040-e683b3baed4c",
   "metadata": {},
   "outputs": [
    {
     "data": {
      "text/plain": [
       "[4, 3, 5, 1, 99, 23]"
      ]
     },
     "execution_count": 92,
     "metadata": {},
     "output_type": "execute_result"
    }
   ],
   "source": [
    "list_ex"
   ]
  },
  {
   "cell_type": "code",
   "execution_count": 93,
   "id": "4fb9b300-c79e-4db6-93bb-053647545b01",
   "metadata": {},
   "outputs": [],
   "source": [
    "list_ex.remove(99)"
   ]
  },
  {
   "cell_type": "code",
   "execution_count": 94,
   "id": "ff825b6c-5732-49d8-942b-ce1525cd6f51",
   "metadata": {},
   "outputs": [
    {
     "data": {
      "text/plain": [
       "[4, 3, 5, 1, 23]"
      ]
     },
     "execution_count": 94,
     "metadata": {},
     "output_type": "execute_result"
    }
   ],
   "source": [
    "list_ex"
   ]
  },
  {
   "cell_type": "code",
   "execution_count": 95,
   "id": "2d63a7c4-8451-4674-881b-0c5b1d0ccbd0",
   "metadata": {},
   "outputs": [],
   "source": [
    "list_ex.append(435)"
   ]
  },
  {
   "cell_type": "code",
   "execution_count": 96,
   "id": "f6e0d51f-e124-42e4-beb4-a9d01a82c00d",
   "metadata": {},
   "outputs": [
    {
     "data": {
      "text/plain": [
       "[4, 3, 5, 1, 23, 435]"
      ]
     },
     "execution_count": 96,
     "metadata": {},
     "output_type": "execute_result"
    }
   ],
   "source": [
    "list_ex"
   ]
  },
  {
   "cell_type": "code",
   "execution_count": 88,
   "id": "db55105d-50ee-4fcb-bcb7-0ec7598a3b49",
   "metadata": {},
   "outputs": [],
   "source": [
    "# set -- {}"
   ]
  },
  {
   "cell_type": "code",
   "execution_count": 90,
   "id": "1d5fa43b-bc95-4aa8-91d3-f2c25b421b9d",
   "metadata": {},
   "outputs": [
    {
     "data": {
      "text/plain": [
       "{2, 3, 4, 5, 6, 7, 8, 44, 56}"
      ]
     },
     "execution_count": 90,
     "metadata": {},
     "output_type": "execute_result"
    }
   ],
   "source": [
    "set_ex"
   ]
  },
  {
   "cell_type": "code",
   "execution_count": 97,
   "id": "2759199a-d49c-4623-88ba-e0b64c6b0294",
   "metadata": {},
   "outputs": [],
   "source": [
    "# tuple -- ()"
   ]
  },
  {
   "cell_type": "code",
   "execution_count": 98,
   "id": "753b551d-5ef4-48a3-a638-040c5a79c143",
   "metadata": {},
   "outputs": [],
   "source": [
    "t_ex = (5,4)"
   ]
  },
  {
   "cell_type": "code",
   "execution_count": 99,
   "id": "8623bec0-683c-4a0a-9640-0bd0778ca1e7",
   "metadata": {},
   "outputs": [
    {
     "ename": "AttributeError",
     "evalue": "'tuple' object has no attribute 'remove'",
     "output_type": "error",
     "traceback": [
      "\u001b[0;31m---------------------------------------------------------------------------\u001b[0m",
      "\u001b[0;31mAttributeError\u001b[0m                            Traceback (most recent call last)",
      "Cell \u001b[0;32mIn[99], line 1\u001b[0m\n\u001b[0;32m----> 1\u001b[0m \u001b[43mt_ex\u001b[49m\u001b[38;5;241;43m.\u001b[39;49m\u001b[43mremove\u001b[49m(\u001b[38;5;241m5\u001b[39m)\n",
      "\u001b[0;31mAttributeError\u001b[0m: 'tuple' object has no attribute 'remove'"
     ]
    }
   ],
   "source": [
    "t_ex.remove(5)"
   ]
  },
  {
   "cell_type": "code",
   "execution_count": 100,
   "id": "670a7557-4ea8-493e-aae8-e81e1799a872",
   "metadata": {},
   "outputs": [
    {
     "ename": "AttributeError",
     "evalue": "'tuple' object has no attribute 'append'",
     "output_type": "error",
     "traceback": [
      "\u001b[0;31m---------------------------------------------------------------------------\u001b[0m",
      "\u001b[0;31mAttributeError\u001b[0m                            Traceback (most recent call last)",
      "Cell \u001b[0;32mIn[100], line 1\u001b[0m\n\u001b[0;32m----> 1\u001b[0m \u001b[43mt_ex\u001b[49m\u001b[38;5;241;43m.\u001b[39;49m\u001b[43mappend\u001b[49m(\u001b[38;5;241m8\u001b[39m)\n",
      "\u001b[0;31mAttributeError\u001b[0m: 'tuple' object has no attribute 'append'"
     ]
    }
   ],
   "source": [
    "t_ex.append(8)"
   ]
  },
  {
   "cell_type": "code",
   "execution_count": 101,
   "id": "cb13be77-f774-4391-be6f-d56cdf0c31e5",
   "metadata": {},
   "outputs": [
    {
     "data": {
      "text/plain": [
       "5"
      ]
     },
     "execution_count": 101,
     "metadata": {},
     "output_type": "execute_result"
    }
   ],
   "source": [
    "t_ex[0]"
   ]
  },
  {
   "cell_type": "code",
   "execution_count": 102,
   "id": "f2fc8ff1-cc61-4652-9877-3341bf8885ce",
   "metadata": {},
   "outputs": [],
   "source": [
    "# dictionary"
   ]
  },
  {
   "cell_type": "code",
   "execution_count": 106,
   "id": "da36e625-383d-464d-a78c-d3b970087dc7",
   "metadata": {},
   "outputs": [],
   "source": [
    "d_ex = {\n",
    "    \"name\" : \"Tanmoy Debnath\",\n",
    "    \"salary\" : 35000, # salary --> key, 35000 --> value\n",
    "    \"company\" : \"Google\",\n",
    "    \"phone\" : 12343454\n",
    "}\n",
    "\n",
    "# dictionary_name[key] --> value"
   ]
  },
  {
   "cell_type": "code",
   "execution_count": 107,
   "id": "0d341cd6-5572-4a5c-b43f-f994d76f53b3",
   "metadata": {},
   "outputs": [
    {
     "data": {
      "text/plain": [
       "'Tanmoy Debnath'"
      ]
     },
     "execution_count": 107,
     "metadata": {},
     "output_type": "execute_result"
    }
   ],
   "source": [
    "d_ex[\"name\"]"
   ]
  },
  {
   "cell_type": "code",
   "execution_count": 108,
   "id": "3ad16486-7bf4-4a6b-8e26-0e4a81ae584e",
   "metadata": {},
   "outputs": [
    {
     "data": {
      "text/plain": [
       "12343454"
      ]
     },
     "execution_count": 108,
     "metadata": {},
     "output_type": "execute_result"
    }
   ],
   "source": [
    "d_ex[\"phone\"]"
   ]
  },
  {
   "cell_type": "code",
   "execution_count": 109,
   "id": "d706b4b2-0384-4144-af4d-439bf4ee2851",
   "metadata": {},
   "outputs": [
    {
     "name": "stdout",
     "output_type": "stream",
     "text": [
      "Defaulting to user installation because normal site-packages is not writeable\n",
      "Collecting playwright\n",
      "  Downloading playwright-1.39.0-py3-none-manylinux1_x86_64.whl (35.5 MB)\n",
      "\u001b[2K     \u001b[90m━━━━━━━━━━━━━━━━━━━━━━━━━━━━━━━━━━━━━━━━\u001b[0m \u001b[32m35.5/35.5 MB\u001b[0m \u001b[31m3.4 MB/s\u001b[0m eta \u001b[36m0:00:00\u001b[0m00:01\u001b[0m00:01\u001b[0m\n",
      "\u001b[?25hCollecting greenlet==3.0.0\n",
      "  Downloading greenlet-3.0.0-cp310-cp310-manylinux_2_24_x86_64.manylinux_2_28_x86_64.whl (612 kB)\n",
      "\u001b[2K     \u001b[90m━━━━━━━━━━━━━━━━━━━━━━━━━━━━━━━━━━━━━━━\u001b[0m \u001b[32m612.9/612.9 KB\u001b[0m \u001b[31m5.1 MB/s\u001b[0m eta \u001b[36m0:00:00\u001b[0m00:01\u001b[0m00:01\u001b[0m\n",
      "\u001b[?25hCollecting pyee==11.0.1\n",
      "  Downloading pyee-11.0.1-py3-none-any.whl (15 kB)\n",
      "Requirement already satisfied: typing-extensions in /home/shayansaha85/.local/lib/python3.10/site-packages (from pyee==11.0.1->playwright) (4.8.0)\n",
      "Installing collected packages: pyee, greenlet, playwright\n",
      "Successfully installed greenlet-3.0.0 playwright-1.39.0 pyee-11.0.1\n",
      "Note: you may need to restart the kernel to use updated packages.\n"
     ]
    }
   ],
   "source": [
    "pip install playwright"
   ]
  },
  {
   "cell_type": "code",
   "execution_count": 110,
   "id": "72c19a6b-4332-4862-a2e5-22e198298da0",
   "metadata": {},
   "outputs": [
    {
     "name": "stdout",
     "output_type": "stream",
     "text": [
      "Defaulting to user installation because normal site-packages is not writeable\n",
      "Requirement already satisfied: nbconvert in /home/shayansaha85/.local/lib/python3.10/site-packages (7.11.0)\n",
      "Requirement already satisfied: bleach!=5.0.0 in /home/shayansaha85/.local/lib/python3.10/site-packages (from nbconvert) (6.1.0)\n",
      "Requirement already satisfied: defusedxml in /home/shayansaha85/.local/lib/python3.10/site-packages (from nbconvert) (0.7.1)\n",
      "Requirement already satisfied: pygments>=2.4.1 in /home/shayansaha85/.local/lib/python3.10/site-packages (from nbconvert) (2.17.1)\n",
      "Requirement already satisfied: jupyter-core>=4.7 in /home/shayansaha85/.local/lib/python3.10/site-packages (from nbconvert) (5.5.0)\n",
      "Requirement already satisfied: packaging in /home/shayansaha85/.local/lib/python3.10/site-packages (from nbconvert) (23.2)\n",
      "Requirement already satisfied: nbformat>=5.7 in /home/shayansaha85/.local/lib/python3.10/site-packages (from nbconvert) (5.9.2)\n",
      "Requirement already satisfied: traitlets>=5.1 in /home/shayansaha85/.local/lib/python3.10/site-packages (from nbconvert) (5.13.0)\n",
      "Requirement already satisfied: jinja2>=3.0 in /usr/local/lib/python3.10/dist-packages (from nbconvert) (3.1.2)\n",
      "Requirement already satisfied: jupyterlab-pygments in /home/shayansaha85/.local/lib/python3.10/site-packages (from nbconvert) (0.2.2)\n",
      "Requirement already satisfied: mistune<4,>=2.0.3 in /home/shayansaha85/.local/lib/python3.10/site-packages (from nbconvert) (3.0.2)\n",
      "Requirement already satisfied: tinycss2 in /home/shayansaha85/.local/lib/python3.10/site-packages (from nbconvert) (1.2.1)\n",
      "Requirement already satisfied: markupsafe>=2.0 in /usr/local/lib/python3.10/dist-packages (from nbconvert) (2.1.3)\n",
      "Requirement already satisfied: beautifulsoup4 in /home/shayansaha85/.local/lib/python3.10/site-packages (from nbconvert) (4.12.2)\n",
      "Requirement already satisfied: nbclient>=0.5.0 in /home/shayansaha85/.local/lib/python3.10/site-packages (from nbconvert) (0.9.0)\n",
      "Requirement already satisfied: pandocfilters>=1.4.1 in /home/shayansaha85/.local/lib/python3.10/site-packages (from nbconvert) (1.5.0)\n",
      "Requirement already satisfied: webencodings in /home/shayansaha85/.local/lib/python3.10/site-packages (from bleach!=5.0.0->nbconvert) (0.5.1)\n",
      "Requirement already satisfied: six>=1.9.0 in /usr/lib/python3/dist-packages (from bleach!=5.0.0->nbconvert) (1.16.0)\n",
      "Requirement already satisfied: platformdirs>=2.5 in /home/shayansaha85/.local/lib/python3.10/site-packages (from jupyter-core>=4.7->nbconvert) (4.0.0)\n",
      "Requirement already satisfied: jupyter-client>=6.1.12 in /home/shayansaha85/.local/lib/python3.10/site-packages (from nbclient>=0.5.0->nbconvert) (8.6.0)\n",
      "Requirement already satisfied: fastjsonschema in /home/shayansaha85/.local/lib/python3.10/site-packages (from nbformat>=5.7->nbconvert) (2.19.0)\n",
      "Requirement already satisfied: jsonschema>=2.6 in /home/shayansaha85/.local/lib/python3.10/site-packages (from nbformat>=5.7->nbconvert) (4.20.0)\n",
      "Requirement already satisfied: soupsieve>1.2 in /home/shayansaha85/.local/lib/python3.10/site-packages (from beautifulsoup4->nbconvert) (2.5)\n",
      "Requirement already satisfied: jsonschema-specifications>=2023.03.6 in /home/shayansaha85/.local/lib/python3.10/site-packages (from jsonschema>=2.6->nbformat>=5.7->nbconvert) (2023.11.1)\n",
      "Requirement already satisfied: rpds-py>=0.7.1 in /home/shayansaha85/.local/lib/python3.10/site-packages (from jsonschema>=2.6->nbformat>=5.7->nbconvert) (0.13.1)\n",
      "Requirement already satisfied: referencing>=0.28.4 in /home/shayansaha85/.local/lib/python3.10/site-packages (from jsonschema>=2.6->nbformat>=5.7->nbconvert) (0.31.0)\n",
      "Requirement already satisfied: attrs>=22.2.0 in /home/shayansaha85/.local/lib/python3.10/site-packages (from jsonschema>=2.6->nbformat>=5.7->nbconvert) (23.1.0)\n",
      "Requirement already satisfied: python-dateutil>=2.8.2 in /home/shayansaha85/.local/lib/python3.10/site-packages (from jupyter-client>=6.1.12->nbclient>=0.5.0->nbconvert) (2.8.2)\n",
      "Requirement already satisfied: pyzmq>=23.0 in /home/shayansaha85/.local/lib/python3.10/site-packages (from jupyter-client>=6.1.12->nbclient>=0.5.0->nbconvert) (25.1.1)\n",
      "Requirement already satisfied: tornado>=6.2 in /home/shayansaha85/.local/lib/python3.10/site-packages (from jupyter-client>=6.1.12->nbclient>=0.5.0->nbconvert) (6.3.3)\n",
      "Note: you may need to restart the kernel to use updated packages.\n"
     ]
    }
   ],
   "source": [
    "pip install nbconvert"
   ]
  },
  {
   "cell_type": "code",
   "execution_count": null,
   "id": "cb9daf1b-2ef0-4440-b13c-da646cb257b3",
   "metadata": {},
   "outputs": [],
   "source": []
  }
 ],
 "metadata": {
  "kernelspec": {
   "display_name": "Python 3 (ipykernel)",
   "language": "python",
   "name": "python3"
  },
  "language_info": {
   "codemirror_mode": {
    "name": "ipython",
    "version": 3
   },
   "file_extension": ".py",
   "mimetype": "text/x-python",
   "name": "python",
   "nbconvert_exporter": "python",
   "pygments_lexer": "ipython3",
   "version": "3.10.12"
  }
 },
 "nbformat": 4,
 "nbformat_minor": 5
}
